{
 "cells": [
  {
   "cell_type": "markdown",
   "id": "f5f1173d",
   "metadata": {},
   "source": [
    "# Домашнее задание № 9. Предобученные трансформеры "
   ]
  },
  {
   "cell_type": "markdown",
   "id": "61808033",
   "metadata": {},
   "source": [
    "### Задание 1 (8 баллов).\n",
    "Дообучите 3 предобученных модели на тех же данных, что и в семинаре. Сравните качество и выберите лучшую. \n",
    "Модели должны отличаться друг от друга не только параметрами ru/en/multilingual, base/large, cased/uncased. Все три выбранные модели должны работать лучше, чем бейзлайн без дообучения (т.е. если модель не работает, попробуйте другую).\n"
   ]
  },
  {
   "cell_type": "code",
   "execution_count": null,
   "id": "29742a54",
   "metadata": {},
   "outputs": [],
   "source": []
  },
  {
   "cell_type": "code",
   "execution_count": null,
   "id": "1f6a0b99",
   "metadata": {},
   "outputs": [],
   "source": []
  },
  {
   "cell_type": "markdown",
   "id": "ca34045b",
   "metadata": {},
   "source": [
    "### Задание  2 (2 балла)\n",
    "\n",
    "Ответьте на следующие вопросы (напишите хотя бы по несколько предложений):\n",
    "\n",
    "1) Чем ROBERTA отличается от BERT? В какой статье описана ROBERTA?\n",
    "\n",
    "2) Чем модель T5 отличается от ROBERTA/BERT? "
   ]
  },
  {
   "cell_type": "code",
   "execution_count": null,
   "id": "6444a758",
   "metadata": {},
   "outputs": [],
   "source": []
  },
  {
   "cell_type": "code",
   "execution_count": null,
   "id": "ed8ee3ef",
   "metadata": {},
   "outputs": [],
   "source": []
  }
 ],
 "metadata": {
  "kernelspec": {
   "display_name": "Python 3 (ipykernel)",
   "language": "python",
   "name": "python3"
  },
  "language_info": {
   "codemirror_mode": {
    "name": "ipython",
    "version": 3
   },
   "file_extension": ".py",
   "mimetype": "text/x-python",
   "name": "python",
   "nbconvert_exporter": "python",
   "pygments_lexer": "ipython3",
   "version": "3.9.14"
  }
 },
 "nbformat": 4,
 "nbformat_minor": 5
}
