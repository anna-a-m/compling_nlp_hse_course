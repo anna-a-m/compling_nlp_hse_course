{
 "cells": [
  {
   "cell_type": "markdown",
   "id": "1dba7c0d",
   "metadata": {},
   "source": [
    "# Домашнее задание № 10. Генерация текста"
   ]
  },
  {
   "cell_type": "markdown",
   "id": "76f21d5e",
   "metadata": {},
   "source": [
    "### Задание 1 (8 баллов).\n",
    "\n",
    "Попробуйте дообучать GPT на каком-то другом тексте (можете попробовать любые стихи или какие-то специфичные вещи вроде анекдотов или репа). \n",
    "Попробуйте разные методы и параметры генерации (beam search, температура, top_k и тп). Сохраните в тетрадке несколько хороших сгенерированных текстов\n"
   ]
  },
  {
   "cell_type": "code",
   "execution_count": null,
   "id": "2444e3fe",
   "metadata": {},
   "outputs": [],
   "source": []
  },
  {
   "cell_type": "code",
   "execution_count": null,
   "id": "f07bd89b",
   "metadata": {},
   "outputs": [],
   "source": []
  },
  {
   "cell_type": "markdown",
   "id": "ae8437e8",
   "metadata": {},
   "source": [
    "### Задание  2 (2 балла)\n",
    "\n",
    "Ответьте на следующие вопросы:\n",
    "\n",
    "1) В каких статья были представлены GPT-1, GPT-2, GPT-3?\n",
    "\n",
    "2) Как собирался обучающий корпус для GPT-3? Каким образом создатели старались обеспечить высокое качество текстов в обучающей выборке?"
   ]
  },
  {
   "cell_type": "code",
   "execution_count": null,
   "id": "05d202c4",
   "metadata": {},
   "outputs": [],
   "source": []
  },
  {
   "cell_type": "code",
   "execution_count": null,
   "id": "a7bbf622",
   "metadata": {},
   "outputs": [],
   "source": []
  }
 ],
 "metadata": {
  "kernelspec": {
   "display_name": "Python 3 (ipykernel)",
   "language": "python",
   "name": "python3"
  },
  "language_info": {
   "codemirror_mode": {
    "name": "ipython",
    "version": 3
   },
   "file_extension": ".py",
   "mimetype": "text/x-python",
   "name": "python",
   "nbconvert_exporter": "python",
   "pygments_lexer": "ipython3",
   "version": "3.9.13"
  }
 },
 "nbformat": 4,
 "nbformat_minor": 5
}
