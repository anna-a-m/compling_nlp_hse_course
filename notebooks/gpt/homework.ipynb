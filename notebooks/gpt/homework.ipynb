{
  "cells": [
    {
      "cell_type": "markdown",
      "id": "1dba7c0d",
      "metadata": {
        "id": "1dba7c0d"
      },
      "source": [
        "# Домашнее задание № 10. Генерация текста"
      ]
    },
    {
      "cell_type": "markdown",
      "id": "76f21d5e",
      "metadata": {
        "id": "76f21d5e"
      },
      "source": [
        "### Задание 1 (8 баллов).\n",
        "\n",
        "Попробуйте дообучать GPT на каком-то другом тексте (можете попробовать любые стихи или какие-то специфичные вещи вроде анекдотов или репа).\n",
        "Попробуйте разные методы и параметры генерации (beam search, температура, top_k и тп). Сохраните в тетрадке несколько хороших сгенерированных текстов\n"
      ]
    },
    {
      "cell_type": "code",
      "source": [
        "! pip install transformers[torch]"
      ],
      "metadata": {
        "colab": {
          "base_uri": "https://localhost:8080/"
        },
        "id": "ejL6lSfx8FLa",
        "outputId": "87998f35-2f76-45ca-dacc-07f92f3446c1"
      },
      "id": "ejL6lSfx8FLa",
      "execution_count": 1,
      "outputs": [
        {
          "output_type": "stream",
          "name": "stdout",
          "text": [
            "Looking in indexes: https://pypi.org/simple, https://us-python.pkg.dev/colab-wheels/public/simple/\n",
            "Collecting transformers[torch]\n",
            "  Downloading transformers-4.30.2-py3-none-any.whl (7.2 MB)\n",
            "\u001b[2K     \u001b[90m━━━━━━━━━━━━━━━━━━━━━━━━━━━━━━━━━━━━━━━━\u001b[0m \u001b[32m7.2/7.2 MB\u001b[0m \u001b[31m81.7 MB/s\u001b[0m eta \u001b[36m0:00:00\u001b[0m\n",
            "\u001b[?25hRequirement already satisfied: filelock in /usr/local/lib/python3.10/dist-packages (from transformers[torch]) (3.12.0)\n",
            "Collecting huggingface-hub<1.0,>=0.14.1 (from transformers[torch])\n",
            "  Downloading huggingface_hub-0.15.1-py3-none-any.whl (236 kB)\n",
            "\u001b[2K     \u001b[90m━━━━━━━━━━━━━━━━━━━━━━━━━━━━━━━━━━━━━━\u001b[0m \u001b[32m236.8/236.8 kB\u001b[0m \u001b[31m30.2 MB/s\u001b[0m eta \u001b[36m0:00:00\u001b[0m\n",
            "\u001b[?25hRequirement already satisfied: numpy>=1.17 in /usr/local/lib/python3.10/dist-packages (from transformers[torch]) (1.22.4)\n",
            "Requirement already satisfied: packaging>=20.0 in /usr/local/lib/python3.10/dist-packages (from transformers[torch]) (23.1)\n",
            "Requirement already satisfied: pyyaml>=5.1 in /usr/local/lib/python3.10/dist-packages (from transformers[torch]) (6.0)\n",
            "Requirement already satisfied: regex!=2019.12.17 in /usr/local/lib/python3.10/dist-packages (from transformers[torch]) (2022.10.31)\n",
            "Requirement already satisfied: requests in /usr/local/lib/python3.10/dist-packages (from transformers[torch]) (2.27.1)\n",
            "Collecting tokenizers!=0.11.3,<0.14,>=0.11.1 (from transformers[torch])\n",
            "  Downloading tokenizers-0.13.3-cp310-cp310-manylinux_2_17_x86_64.manylinux2014_x86_64.whl (7.8 MB)\n",
            "\u001b[2K     \u001b[90m━━━━━━━━━━━━━━━━━━━━━━━━━━━━━━━━━━━━━━━━\u001b[0m \u001b[32m7.8/7.8 MB\u001b[0m \u001b[31m124.5 MB/s\u001b[0m eta \u001b[36m0:00:00\u001b[0m\n",
            "\u001b[?25hCollecting safetensors>=0.3.1 (from transformers[torch])\n",
            "  Downloading safetensors-0.3.1-cp310-cp310-manylinux_2_17_x86_64.manylinux2014_x86_64.whl (1.3 MB)\n",
            "\u001b[2K     \u001b[90m━━━━━━━━━━━━━━━━━━━━━━━━━━━━━━━━━━━━━━━━\u001b[0m \u001b[32m1.3/1.3 MB\u001b[0m \u001b[31m80.0 MB/s\u001b[0m eta \u001b[36m0:00:00\u001b[0m\n",
            "\u001b[?25hRequirement already satisfied: tqdm>=4.27 in /usr/local/lib/python3.10/dist-packages (from transformers[torch]) (4.65.0)\n",
            "Requirement already satisfied: torch!=1.12.0,>=1.9 in /usr/local/lib/python3.10/dist-packages (from transformers[torch]) (2.0.1+cu118)\n",
            "Collecting accelerate>=0.20.2 (from transformers[torch])\n",
            "  Downloading accelerate-0.20.3-py3-none-any.whl (227 kB)\n",
            "\u001b[2K     \u001b[90m━━━━━━━━━━━━━━━━━━━━━━━━━━━━━━━━━━━━━━\u001b[0m \u001b[32m227.6/227.6 kB\u001b[0m \u001b[31m26.7 MB/s\u001b[0m eta \u001b[36m0:00:00\u001b[0m\n",
            "\u001b[?25hRequirement already satisfied: psutil in /usr/local/lib/python3.10/dist-packages (from accelerate>=0.20.2->transformers[torch]) (5.9.5)\n",
            "Requirement already satisfied: fsspec in /usr/local/lib/python3.10/dist-packages (from huggingface-hub<1.0,>=0.14.1->transformers[torch]) (2023.4.0)\n",
            "Requirement already satisfied: typing-extensions>=3.7.4.3 in /usr/local/lib/python3.10/dist-packages (from huggingface-hub<1.0,>=0.14.1->transformers[torch]) (4.5.0)\n",
            "Requirement already satisfied: sympy in /usr/local/lib/python3.10/dist-packages (from torch!=1.12.0,>=1.9->transformers[torch]) (1.11.1)\n",
            "Requirement already satisfied: networkx in /usr/local/lib/python3.10/dist-packages (from torch!=1.12.0,>=1.9->transformers[torch]) (3.1)\n",
            "Requirement already satisfied: jinja2 in /usr/local/lib/python3.10/dist-packages (from torch!=1.12.0,>=1.9->transformers[torch]) (3.1.2)\n",
            "Requirement already satisfied: triton==2.0.0 in /usr/local/lib/python3.10/dist-packages (from torch!=1.12.0,>=1.9->transformers[torch]) (2.0.0)\n",
            "Requirement already satisfied: cmake in /usr/local/lib/python3.10/dist-packages (from triton==2.0.0->torch!=1.12.0,>=1.9->transformers[torch]) (3.25.2)\n",
            "Requirement already satisfied: lit in /usr/local/lib/python3.10/dist-packages (from triton==2.0.0->torch!=1.12.0,>=1.9->transformers[torch]) (16.0.5)\n",
            "Requirement already satisfied: urllib3<1.27,>=1.21.1 in /usr/local/lib/python3.10/dist-packages (from requests->transformers[torch]) (1.26.15)\n",
            "Requirement already satisfied: certifi>=2017.4.17 in /usr/local/lib/python3.10/dist-packages (from requests->transformers[torch]) (2022.12.7)\n",
            "Requirement already satisfied: charset-normalizer~=2.0.0 in /usr/local/lib/python3.10/dist-packages (from requests->transformers[torch]) (2.0.12)\n",
            "Requirement already satisfied: idna<4,>=2.5 in /usr/local/lib/python3.10/dist-packages (from requests->transformers[torch]) (3.4)\n",
            "Requirement already satisfied: MarkupSafe>=2.0 in /usr/local/lib/python3.10/dist-packages (from jinja2->torch!=1.12.0,>=1.9->transformers[torch]) (2.1.2)\n",
            "Requirement already satisfied: mpmath>=0.19 in /usr/local/lib/python3.10/dist-packages (from sympy->torch!=1.12.0,>=1.9->transformers[torch]) (1.3.0)\n",
            "Installing collected packages: tokenizers, safetensors, huggingface-hub, transformers, accelerate\n",
            "Successfully installed accelerate-0.20.3 huggingface-hub-0.15.1 safetensors-0.3.1 tokenizers-0.13.3 transformers-4.30.2\n"
          ]
        }
      ]
    },
    {
      "cell_type": "markdown",
      "source": [
        "**Подгружаем модель**"
      ],
      "metadata": {
        "id": "WqYbawFu-l2s"
      },
      "id": "WqYbawFu-l2s"
    },
    {
      "cell_type": "code",
      "execution_count": 2,
      "id": "b2006047",
      "metadata": {
        "colab": {
          "base_uri": "https://localhost:8080/",
          "height": 145,
          "referenced_widgets": [
            "ceb826a30cc749cc8c5dd1dd36ab084e",
            "3a59eb4e5c0843b3b02234fb3b85a9f9",
            "44737101f1f5412e98794874a5792f7d",
            "d2cbaaaea63c498ead0d23ff3b4a4ced",
            "15e3ae8ec26d4e848e8956fd6b65a9a4",
            "1517abf3c44443b18b3d20aa4fec9a1b",
            "35af2b3a86684e46854818dfbda0f8e8",
            "49636c69f5c5411b910150bba18eaed6",
            "c2109bdc39714901a3eb681e2ab0f839",
            "b7bd7523051e49a3b55670c775427429",
            "46717187437747fb99d643ae88ced208",
            "d87349e7fba54db19f0a69936af5655c",
            "5601db6ea52d4255b841e614dd734ed4",
            "e211ba7acfde46bdba14ab396af41709",
            "fe67395cfcbd4f64a9f5d8c30db2463f",
            "15386705e5c94f909c63d0896cdbae4e",
            "1ae4f340b5e348969886540af360f046",
            "4fc52a4a2a704db5aaa0175f1d27bb10",
            "7d347f691462485f8faca3f87d581ec3",
            "e2b64134c5814e04b52506d67498e0e4",
            "76354fa68bbe42e8bd4647aae70fec05",
            "56d6ec7b99194983993450ee22695a18",
            "3f41e52d6878451880e996dea2eb49dd",
            "0c38acef63994c01abc7cdfbbee34679",
            "3f535d53b3a549a8962704a7d9d4d74a",
            "6bd10d6352ab407698bebe7f7f68127d",
            "e7621431cdbb4155a552718373b18d30",
            "29128dc45b8b48789a5d0ba1b41f13cf",
            "dad1309f7ff04a1eab305beb1a61eb78",
            "5f3b4a3245cd43d481890549b2e48a48",
            "ff2be50391e54ef6ba93b296127fe114",
            "0808734fe45849828137dbb534fe0321",
            "8957fe197b844c5b9fb5301c770ad213",
            "64089fc46f4941cf9d8546ec4accc25d",
            "eb38812977014900a9bec88f27f31527",
            "d4261a94786540dd8706a8e6f9f99159",
            "405d7a215fe140c69b10b7f9627731b5",
            "5a47e071a2754d3496656e3454c56109",
            "720f19a4af30489c9322e654866b5938",
            "e906134d96a94198a626fc48c1f0afc0",
            "9cc3190485c94756a1bc1c0ec242bf69",
            "179c5e1e845d4074aa3767b3453f0115",
            "cd3adac4f1414cb6aed87fdcf7e5819b",
            "e2f87c2d6e664954af0bb9acacda510c"
          ]
        },
        "id": "b2006047",
        "outputId": "a30587b1-b89c-4b27-92da-d937de5590b3"
      },
      "outputs": [
        {
          "output_type": "display_data",
          "data": {
            "text/plain": [
              "Downloading (…)olve/main/vocab.json:   0%|          | 0.00/1.71M [00:00<?, ?B/s]"
            ],
            "application/vnd.jupyter.widget-view+json": {
              "version_major": 2,
              "version_minor": 0,
              "model_id": "ceb826a30cc749cc8c5dd1dd36ab084e"
            }
          },
          "metadata": {}
        },
        {
          "output_type": "display_data",
          "data": {
            "text/plain": [
              "Downloading (…)olve/main/merges.txt:   0%|          | 0.00/1.27M [00:00<?, ?B/s]"
            ],
            "application/vnd.jupyter.widget-view+json": {
              "version_major": 2,
              "version_minor": 0,
              "model_id": "d87349e7fba54db19f0a69936af5655c"
            }
          },
          "metadata": {}
        },
        {
          "output_type": "display_data",
          "data": {
            "text/plain": [
              "Downloading (…)lve/main/config.json:   0%|          | 0.00/608 [00:00<?, ?B/s]"
            ],
            "application/vnd.jupyter.widget-view+json": {
              "version_major": 2,
              "version_minor": 0,
              "model_id": "3f41e52d6878451880e996dea2eb49dd"
            }
          },
          "metadata": {}
        },
        {
          "output_type": "display_data",
          "data": {
            "text/plain": [
              "Downloading pytorch_model.bin:   0%|          | 0.00/551M [00:00<?, ?B/s]"
            ],
            "application/vnd.jupyter.widget-view+json": {
              "version_major": 2,
              "version_minor": 0,
              "model_id": "64089fc46f4941cf9d8546ec4accc25d"
            }
          },
          "metadata": {}
        }
      ],
      "source": [
        "from transformers import GPT2LMHeadModel, GPT2Tokenizer\n",
        "import torch\n",
        "DEVICE = torch.device(\"cuda:0\")\n",
        "\n",
        "model_name_or_path = \"sberbank-ai/rugpt3small_based_on_gpt2\"\n",
        "tokenizer = GPT2Tokenizer.from_pretrained(model_name_or_path)\n",
        "model = GPT2LMHeadModel.from_pretrained(model_name_or_path, use_cache=False).to(DEVICE)"
      ]
    },
    {
      "cell_type": "markdown",
      "source": [
        "**Дообучаем модель на файле со стихами Бориса Рыжего**"
      ],
      "metadata": {
        "id": "zzEA2NeA-ppx"
      },
      "id": "zzEA2NeA-ppx"
    },
    {
      "cell_type": "code",
      "execution_count": 3,
      "id": "2444e3fe",
      "metadata": {
        "colab": {
          "base_uri": "https://localhost:8080/"
        },
        "id": "2444e3fe",
        "outputId": "63e56463-7c1d-4539-8bdb-59460f181a52"
      },
      "outputs": [
        {
          "output_type": "stream",
          "name": "stderr",
          "text": [
            "/usr/local/lib/python3.10/dist-packages/transformers/data/datasets/language_modeling.py:53: FutureWarning: This dataset will be removed from the library soon, preprocessing should be handled with the 🤗 Datasets library. You can have a look at this example script for pointers: https://github.com/huggingface/transformers/blob/main/examples/pytorch/language-modeling/run_mlm.py\n",
            "  warnings.warn(\n"
          ]
        }
      ],
      "source": [
        "from transformers import TextDataset, DataCollatorForLanguageModeling\n",
        "\n",
        "train_path = 'lyrics.txt'\n",
        "train_dataset = TextDataset(tokenizer=tokenizer, file_path=train_path, block_size=64,\n",
        "                            overwrite_cache=True)\n",
        "data_collator = DataCollatorForLanguageModeling(tokenizer=tokenizer, mlm=False)"
      ]
    },
    {
      "cell_type": "code",
      "execution_count": 4,
      "id": "f07bd89b",
      "metadata": {
        "id": "f07bd89b"
      },
      "outputs": [],
      "source": [
        "from transformers import Trainer, TrainingArguments\n",
        "\n",
        "training_args = TrainingArguments(\n",
        "    output_dir= \"./finetuned\",\n",
        "    overwrite_output_dir=True,\n",
        "    num_train_epochs=100,\n",
        "    per_device_train_batch_size=32,\n",
        "    per_device_eval_batch_size=32,\n",
        "    gradient_accumulation_steps=16,\n",
        "    )\n",
        "\n",
        "trainer = Trainer(\n",
        "    model=model,\n",
        "    args=training_args,\n",
        "    data_collator=data_collator,\n",
        "    train_dataset=train_dataset,\n",
        "    optimizers = (torch.optim.AdamW(model.parameters(),lr=1e-5),None) # Optimizer and lr scheduler\n",
        ")"
      ]
    },
    {
      "cell_type": "code",
      "source": [
        "trainer.train()"
      ],
      "metadata": {
        "colab": {
          "base_uri": "https://localhost:8080/",
          "height": 110
        },
        "id": "8xmw-qKW9NCA",
        "outputId": "a6141d10-fd80-4bf4-c58c-0944301ac385"
      },
      "id": "8xmw-qKW9NCA",
      "execution_count": 5,
      "outputs": [
        {
          "output_type": "display_data",
          "data": {
            "text/plain": [
              "<IPython.core.display.HTML object>"
            ],
            "text/html": [
              "\n",
              "    <div>\n",
              "      \n",
              "      <progress value='100' max='100' style='width:300px; height:20px; vertical-align: middle;'></progress>\n",
              "      [100/100 02:49, Epoch 80/100]\n",
              "    </div>\n",
              "    <table border=\"1\" class=\"dataframe\">\n",
              "  <thead>\n",
              " <tr style=\"text-align: left;\">\n",
              "      <th>Step</th>\n",
              "      <th>Training Loss</th>\n",
              "    </tr>\n",
              "  </thead>\n",
              "  <tbody>\n",
              "  </tbody>\n",
              "</table><p>"
            ]
          },
          "metadata": {}
        },
        {
          "output_type": "execute_result",
          "data": {
            "text/plain": [
              "TrainOutput(global_step=100, training_loss=0.9868668365478516, metrics={'train_runtime': 172.3094, 'train_samples_per_second': 77.767, 'train_steps_per_second': 0.58, 'total_flos': 350131322880000.0, 'train_loss': 0.9868668365478516, 'epoch': 80.0})"
            ]
          },
          "metadata": {},
          "execution_count": 5
        }
      ]
    },
    {
      "cell_type": "markdown",
      "source": [
        "**Тестируем полученную модель**"
      ],
      "metadata": {
        "id": "U_2APGpM-y49"
      },
      "id": "U_2APGpM-y49"
    },
    {
      "cell_type": "code",
      "source": [
        "import warnings\n",
        "warnings.filterwarnings(\"ignore\")"
      ],
      "metadata": {
        "id": "hjVxfarRL7br"
      },
      "id": "hjVxfarRL7br",
      "execution_count": 17,
      "outputs": []
    },
    {
      "cell_type": "code",
      "source": [
        "def printing_generation(promt: str, parameters: dict) -> None:\n",
        "    global model, tokenizer\n",
        "    input_ids = tokenizer.encode(promt, return_tensors=\"pt\").to(DEVICE)\n",
        "    model.eval()\n",
        "    with torch.no_grad():\n",
        "        out = model.generate(input_ids,\n",
        "                            **parameters\n",
        "                            )\n",
        "    generated_text = list(map(tokenizer.decode, out))[0]\n",
        "    return generated_text.strip() + '\\n'"
      ],
      "metadata": {
        "id": "UYz0An2s-kj-"
      },
      "id": "UYz0An2s-kj-",
      "execution_count": 31,
      "outputs": []
    },
    {
      "cell_type": "code",
      "source": [
        "promt1 = 'Как я люблю '\n",
        "promt2 = 'В ночи виднеется '\n",
        "promt3 = 'В России расстаются '"
      ],
      "metadata": {
        "id": "zr9lr0UtAzct"
      },
      "id": "zr9lr0UtAzct",
      "execution_count": 22,
      "outputs": []
    },
    {
      "cell_type": "markdown",
      "source": [
        "**Beam search**"
      ],
      "metadata": {
        "id": "P_z85aXOCXaR"
      },
      "id": "P_z85aXOCXaR"
    },
    {
      "cell_type": "code",
      "source": [
        "beam_1 = {\"do_sample\": True,\n",
        "          \"num_beams\": 8,\n",
        "          \"top_k\": 50,\n",
        "          \"max_length\": 150,}"
      ],
      "metadata": {
        "id": "iWZSpSHCCR6J"
      },
      "id": "iWZSpSHCCR6J",
      "execution_count": 23,
      "outputs": []
    },
    {
      "cell_type": "code",
      "source": [
        "res1 = printing_generation(promt1, beam_1)\n",
        "res2 = printing_generation(promt2, beam_1)\n",
        "res3 = printing_generation(promt3, beam_1)"
      ],
      "metadata": {
        "colab": {
          "base_uri": "https://localhost:8080/"
        },
        "id": "uLWwvmNEE1r7",
        "outputId": "1b34c395-75d5-4439-bedb-7eb6b6656485"
      },
      "id": "uLWwvmNEE1r7",
      "execution_count": 34,
      "outputs": [
        {
          "output_type": "stream",
          "name": "stderr",
          "text": [
            "The attention mask and the pad token id were not set. As a consequence, you may observe unexpected behavior. Please pass your input's `attention_mask` to obtain reliable results.\n",
            "Setting `pad_token_id` to `eos_token_id`:50256 for open-end generation.\n",
            "The attention mask and the pad token id were not set. As a consequence, you may observe unexpected behavior. Please pass your input's `attention_mask` to obtain reliable results.\n",
            "Setting `pad_token_id` to `eos_token_id`:50256 for open-end generation.\n",
            "The attention mask and the pad token id were not set. As a consequence, you may observe unexpected behavior. Please pass your input's `attention_mask` to obtain reliable results.\n",
            "Setting `pad_token_id` to `eos_token_id`:50256 for open-end generation.\n"
          ]
        }
      ]
    },
    {
      "cell_type": "code",
      "source": [
        "print(res1, res2, res3, sep=\"===\\n\")"
      ],
      "metadata": {
        "colab": {
          "base_uri": "https://localhost:8080/"
        },
        "id": "R1JnHBglFdyM",
        "outputId": "d3f2ce93-9753-441f-d528-53f50cb4c0aa"
      },
      "id": "R1JnHBglFdyM",
      "execution_count": 39,
      "outputs": [
        {
          "output_type": "stream",
          "name": "stdout",
          "text": [
            "Как я люблю \n",
            "Люблю тебя\n",
            "===\n",
            "В ночи виднеется \n",
            "небо,\n",
            "небо,\n",
            "небо,\n",
            "небо,\n",
            "небо,\n",
            "небо,\n",
            "небо,\n",
            "небо,\n",
            "небо,\n",
            "небо,\n",
            "небо,\n",
            "небо,\n",
            "небо,\n",
            "небо,\n",
            "небо,\n",
            "небо,\n",
            "небо,\n",
            "небо,\n",
            "небо,\n",
            "небо,\n",
            "небо,\n",
            "небо,\n",
            "небо,\n",
            "небо,\n",
            "небо,\n",
            "небо,\n",
            "небо,\n",
            "небо,\n",
            "небо,\n",
            "небо,\n",
            "небо,\n",
            "небо,\n",
            "небо,\n",
            "небо,\n",
            "небо,\n",
            "небо,\n",
            "===\n",
            "В России расстаются \n",
            "по любви.\n",
            "\n"
          ]
        }
      ]
    },
    {
      "cell_type": "markdown",
      "source": [
        "Модель достаточно часто повторяется и использует крайне простые предложения"
      ],
      "metadata": {
        "id": "kOKszI8-OlNw"
      },
      "id": "kOKszI8-OlNw"
    },
    {
      "cell_type": "code",
      "source": [
        "beam_2 = {\"do_sample\": True,\n",
        "          \"num_beams\": 4,\n",
        "          \"top_k\": 30,\n",
        "          \"max_length\": 150,}"
      ],
      "metadata": {
        "id": "m_EqoAUUKbLJ"
      },
      "id": "m_EqoAUUKbLJ",
      "execution_count": 40,
      "outputs": []
    },
    {
      "cell_type": "code",
      "source": [
        "res1 = printing_generation(promt1, beam_2)\n",
        "res2 = printing_generation(promt2, beam_2)\n",
        "res3 = printing_generation(promt3, beam_2)"
      ],
      "metadata": {
        "colab": {
          "base_uri": "https://localhost:8080/"
        },
        "id": "40ZJczdWK0fm",
        "outputId": "6ed0876a-cde8-453a-c6d9-5dfc5cccc51b"
      },
      "id": "40ZJczdWK0fm",
      "execution_count": 41,
      "outputs": [
        {
          "output_type": "stream",
          "name": "stderr",
          "text": [
            "The attention mask and the pad token id were not set. As a consequence, you may observe unexpected behavior. Please pass your input's `attention_mask` to obtain reliable results.\n",
            "Setting `pad_token_id` to `eos_token_id`:50256 for open-end generation.\n",
            "The attention mask and the pad token id were not set. As a consequence, you may observe unexpected behavior. Please pass your input's `attention_mask` to obtain reliable results.\n",
            "Setting `pad_token_id` to `eos_token_id`:50256 for open-end generation.\n",
            "The attention mask and the pad token id were not set. As a consequence, you may observe unexpected behavior. Please pass your input's `attention_mask` to obtain reliable results.\n",
            "Setting `pad_token_id` to `eos_token_id`:50256 for open-end generation.\n"
          ]
        }
      ]
    },
    {
      "cell_type": "code",
      "source": [
        "print(res1, res2, res3, sep=\"===\\n\")"
      ],
      "metadata": {
        "colab": {
          "base_uri": "https://localhost:8080/"
        },
        "id": "rL-FNzCLO36l",
        "outputId": "3f4ca37e-09ef-4d70-e11a-f34eeb015418"
      },
      "id": "rL-FNzCLO36l",
      "execution_count": 42,
      "outputs": [
        {
          "output_type": "stream",
          "name": "stdout",
          "text": [
            "Как я люблю \n",
            "Всю жизнь.\n",
            "===\n",
            "В ночи виднеется \n",
            "небосклон, \n",
            "и звезды, и звезды, и звезды,\n",
            "и звезды, и звезды,\n",
            "и звезды, и звезды,\n",
            "и звезды, и звезды,\n",
            "и звезды, и звезды,\n",
            "и звезды, и звезды,\n",
            "и звезды, и звезды,\n",
            "и звезды, и звезды,\n",
            "и звезды, и звезды,\n",
            "и звезды, и звезды,\n",
            "и звезды, и звезды,\n",
            "и звезды, и звезды,\n",
            "и звезды, и звезды,\n",
            "и звезды, и звезды,\n",
            "и звезды, и звезды,\n",
            "и звезды, и звезды,\n",
            "и звезды, и звезды,\n",
            "и звезды, и звезды,\n",
            "и звезды, и звезды,\n",
            "и\n",
            "===\n",
            "В России расстаются \n",
            "по-разному.\n",
            "\n"
          ]
        }
      ]
    },
    {
      "cell_type": "markdown",
      "source": [
        "Модель все так же циклится, но теперь для второго промпта предложение более разнообразное"
      ],
      "metadata": {
        "id": "zh09SFifPCTh"
      },
      "id": "zh09SFifPCTh"
    },
    {
      "cell_type": "markdown",
      "source": [
        "**Temperature**"
      ],
      "metadata": {
        "id": "YqtpjLf7CiKk"
      },
      "id": "YqtpjLf7CiKk"
    },
    {
      "cell_type": "code",
      "source": [
        "temp_params = [{\"do_sample\": True,\n",
        "                \"top_k\": 0,\n",
        "            \t\"max_length\": 150,\n",
        "                \"temperature\": temp}\n",
        "    for temp in [0.001, 0.1, 0.2, 0.5, 0.7, 1., 5.]]"
      ],
      "metadata": {
        "id": "3P8OAAGfCg65"
      },
      "id": "3P8OAAGfCg65",
      "execution_count": 43,
      "outputs": []
    },
    {
      "cell_type": "code",
      "source": [
        "res_storage = []\n",
        "for params in temp_params:\n",
        "    res1 = printing_generation(promt1, params)\n",
        "    res2 = printing_generation(promt2, params)\n",
        "    res3 = printing_generation(promt3, params)\n",
        "    res_storage.append(f'Temperature {params[\"temperature\"]}\\n' + '===\\n'.join([res1, res2, res3]))"
      ],
      "metadata": {
        "id": "2GZ3pVjqSH7i"
      },
      "id": "2GZ3pVjqSH7i",
      "execution_count": null,
      "outputs": []
    },
    {
      "cell_type": "code",
      "source": [
        "print(res_storage[0])"
      ],
      "metadata": {
        "colab": {
          "base_uri": "https://localhost:8080/"
        },
        "id": "vEj9Iy5ES21u",
        "outputId": "80547287-0bae-4a35-b7b7-310ab4d233f0"
      },
      "id": "vEj9Iy5ES21u",
      "execution_count": 46,
      "outputs": [
        {
          "output_type": "stream",
          "name": "stdout",
          "text": [
            "Temperature 0.001\n",
            "Как я люблю \n",
            "Своих детей.\n",
            "===\n",
            "В ночи виднеется \n",
            "небо,\n",
            "как будто в нем\n",
            "небо,\n",
            "как будто в нем\n",
            "небо,\n",
            "как будто в нем\n",
            "небо,\n",
            "как будто в нем\n",
            "небо,\n",
            "как будто в нем\n",
            "небо,\n",
            "как будто в нем\n",
            "небо,\n",
            "как будто в нем\n",
            "небо,\n",
            "как будто в нем\n",
            "небо,\n",
            "как будто в нем\n",
            "небо,\n",
            "как будто в нем\n",
            "небо,\n",
            "как будто в нем\n",
            "небо,\n",
            "как будто в нем\n",
            "небо,\n",
            "как будто в нем\n",
            "небо,\n",
            "как будто в нем\n",
            "небо,\n",
            "как будто в нем\n",
            "небо,\n",
            "как будто в нем\n",
            "===\n",
            "В России расстаются \n",
            "с теми, кто не был с нами.\n",
            "\n"
          ]
        }
      ]
    },
    {
      "cell_type": "code",
      "source": [
        "print(res_storage[1])"
      ],
      "metadata": {
        "colab": {
          "base_uri": "https://localhost:8080/"
        },
        "id": "rYHAc0kMS_MU",
        "outputId": "fdfe015b-3d88-4dfe-c083-000ceb54d044"
      },
      "execution_count": 47,
      "outputs": [
        {
          "output_type": "stream",
          "name": "stdout",
          "text": [
            "Temperature 0.1\n",
            "Как я люблю \n",
            "Своих детей.\n",
            "===\n",
            "В ночи виднеется \n",
            "небо,\n",
            "как будто в нем\n",
            "небо,\n",
            "как будто в нем\n",
            "небо,\n",
            "как будто в нем\n",
            "небо,\n",
            "как будто в нем\n",
            "небо,\n",
            "как будто в нем\n",
            "небо,\n",
            "как будто в нем\n",
            "небо,\n",
            "как будто в нем\n",
            "небо,\n",
            "как будто в нем\n",
            "небо,\n",
            "как будто в нем\n",
            "небо,\n",
            "как будто в нем\n",
            "небо,\n",
            "как будто в нем\n",
            "небо,\n",
            "как будто в нем\n",
            "небо,\n",
            "как будто в нем\n",
            "небо,\n",
            "как будто в нем\n",
            "небо,\n",
            "как будто в нем\n",
            "небо,\n",
            "как будто в нем\n",
            "===\n",
            "В России расстаются \n",
            "с тобой,\n",
            "с тобой,\n",
            "с тобой,\n",
            "с тобой,\n",
            "с тобой,\n",
            "с тобой,\n",
            "с тобой,\n",
            "с тобой,\n",
            "с тобой,\n",
            "с тобой,\n",
            "с тобой,\n",
            "с тобой,\n",
            "с тобой,\n",
            "с тобой,\n",
            "с тобой,\n",
            "с тобой,\n",
            "с тобой,\n",
            "с тобой,\n",
            "с тобой,\n",
            "с тобой,\n",
            "с тобой,\n",
            "с тобой,\n",
            "с тобой,\n",
            "с тобой,\n",
            "с тобой,\n",
            "с тобой,\n",
            "с тобой,\n",
            "с тобой,\n",
            "с тобой,\n",
            "с тобой,\n",
            "с тобой,\n",
            "с тобой,\n",
            "с тобой,\n",
            "с тобой,\n",
            "с тобой,\n",
            "с тобой,\n",
            "\n"
          ]
        }
      ],
      "id": "rYHAc0kMS_MU"
    },
    {
      "cell_type": "code",
      "source": [
        "print(res_storage[2])"
      ],
      "metadata": {
        "colab": {
          "base_uri": "https://localhost:8080/"
        },
        "id": "9PU1tVQMS_m3",
        "outputId": "9ae7feaf-1aa2-4348-f6ec-edaf6f34d5ae"
      },
      "execution_count": 48,
      "outputs": [
        {
          "output_type": "stream",
          "name": "stdout",
          "text": [
            "Temperature 0.2\n",
            "Как я люблю \n",
            "снег,\n",
            "как я люблю дождь.\n",
            "===\n",
            "В ночи виднеется \n",
            "небо,\n",
            "как будто в снежной мгле\n",
            "===\n",
            "В России расстаются \n",
            "с теми, кто был с тобой.\n",
            "\n"
          ]
        }
      ],
      "id": "9PU1tVQMS_m3"
    },
    {
      "cell_type": "code",
      "source": [
        "print(res_storage[3])"
      ],
      "metadata": {
        "colab": {
          "base_uri": "https://localhost:8080/"
        },
        "id": "7rnvUcliS_68",
        "outputId": "0c8f4a52-5c43-4292-f0f0-6e5f003b2977"
      },
      "execution_count": 49,
      "outputs": [
        {
          "output_type": "stream",
          "name": "stdout",
          "text": [
            "Temperature 0.5\n",
            "Как я люблю \n",
            "Лес,\n",
            "как люблю \n",
            "Свой город.\n",
            "\n",
            "Навеки\n",
            "тебя,\n",
            "\n",
            "как люблю я,\n",
            "как люблю\n",
            "своих детей,\n",
            "как люблю ты,\n",
            "как люблю я,\n",
            "как люблю я,\n",
            "как люблю я,\n",
            "как люблю я,\n",
            "как люблю я,\n",
            "как люблю я,\n",
            "как люблю я,\n",
            "как люблю я,\n",
            "как люблю я,\n",
            "как люблю я,\n",
            "как люблю я,\n",
            "как люблю я,\n",
            "как люблю я,\n",
            "как люблю я,\n",
            "как люблю я,\n",
            "как люблю я,\n",
            "как люблю я,\n",
            "как люблю я,\n",
            "как люблю я,\n",
            "как люблю я,\n",
            "как люблю я,\n",
            "===\n",
            "В ночи виднеется \n",
            "небесный свод.\n",
            "И звезды, что в небе,\n",
            "обливают\n",
            "небо.\n",
            "И, о, как давно\n",
            "не было встречи.\n",
            "\n",
            "И, о, как давно\n",
            "не было встречи.\n",
            "\n",
            "И, о, как давно\n",
            "не было встречи.\n",
            "\n",
            "И, о, как давно\n",
            "не было встречи.\n",
            "\n",
            "И, о, как давно\n",
            "не было встречи.\n",
            "\n",
            "И, о, как давно\n",
            "не было встречи.\n",
            "\n",
            "И, о, как давно\n",
            "не было встречи.\n",
            "\n",
            "И, о, как давно.\n",
            "\n",
            "И, о, как давно.\n",
            "\n",
            "И, о, как давно.\n",
            "\n",
            "И, о\n",
            "===\n",
            "В России расстаются \n",
            "с людьми.\n",
            "\n"
          ]
        }
      ],
      "id": "7rnvUcliS_68"
    },
    {
      "cell_type": "code",
      "source": [
        "print(res_storage[4])"
      ],
      "metadata": {
        "colab": {
          "base_uri": "https://localhost:8080/"
        },
        "id": "xbYmAquiTAgU",
        "outputId": "522528a8-a09d-405c-e28e-e4131242568e"
      },
      "execution_count": 50,
      "outputs": [
        {
          "output_type": "stream",
          "name": "stdout",
          "text": [
            "Temperature 0.7\n",
            "Как я люблю \n",
            "твоих детей.\n",
            "\n",
            "\n",
            "27140321\tkory\t2005-12-13 16:48:00\tА обед нам не обед,\n",
            "а обед нас\n",
            "не накормит.\n",
            "\n",
            "И как будто не\n",
            "мы, а они —\n",
            "улыбка на лице.\n",
            "\n",
            "На улицах\n",
            "в сумеречном городе\n",
            "что-то странное творится.\n",
            "\n",
            "И все-таки,\n",
            "как мы любим\n",
            "их,\n",
            "как они нас,\n",
            "как мы их любим.\n",
            "\n",
            "\n",
            "27140322\tkory\t2005-12-13 15:29:00\tВот черт.\n",
            "\n",
            "\n",
            "27140323\tkory\t2005-12-12 15:\n",
            "===\n",
            "В ночи виднеется \n",
            "та, что в руках, и нет спасения, и нет спасения,\n",
            "отвернись.\n",
            "О, как ты рыдаешь,\n",
            "и та, что в руках,\n",
            "и та, что в руках, и та, что в руках,\n",
            "и та, что в руках, и та, что в руках,\n",
            "и та, что в руках, и та, что в руках,\n",
            "и та, что в руках, и та, что в руках,\n",
            "и та, что в руках, и та, что в руках,\n",
            "и та, что в руках, и та, что в руках,\n",
            "и та, что в руках, и та, что в руках,\n",
            "и\n",
            "===\n",
            "В России расстаются \n",
            "с душой те, кто не был с нами.\n",
            "\n",
            "Но если не было нас с тобой,\n",
            "мы стояли в тени дерева,\n",
            "и как будто в саду были.\n",
            "Как будто в саду были,\n",
            "верно, там, где нынче\n",
            "ты стоял.\n",
            "И как будто в саду были,\n",
            "верно, там, где нынче\n",
            "ты не был.\n",
            "И как будто там, где нынче\n",
            "ты не был,\n",
            "ты был.\n",
            "\n",
            "И как будто там, где нынче\n",
            "ты не был,\n",
            "ты был.\n",
            "И как будто там, где нынче\n",
            "ты не был,\n",
            "ты был.\n",
            "И как будто там, где нынче\n",
            "ты не был,\n",
            "ты был.\n",
            "\n"
          ]
        }
      ],
      "id": "xbYmAquiTAgU"
    },
    {
      "cell_type": "code",
      "source": [
        "print(res_storage[5])"
      ],
      "metadata": {
        "colab": {
          "base_uri": "https://localhost:8080/"
        },
        "id": "0SHJtV-4TApe",
        "outputId": "9c3ab33c-9b2f-427c-a8db-cfea14d119d3"
      },
      "execution_count": 51,
      "outputs": [
        {
          "output_type": "stream",
          "name": "stdout",
          "text": [
            "Temperature 1.0\n",
            "Как я люблю  Вшестером Стоят — застынут, \n",
            "понимая лишь одно: минет вот он пройдет, \n",
            "пока не дойдёт до сна, \n",
            "пока трамваи не тронутся.\n",
            "\n",
            "\n",
            "Вы страдаете, вы страдаете,\n",
            "как тогда, слушая последний бред, —\n",
            "ты улавливаешь дым, витающий среди шума, улавливаешь звуки погони, минуешь будни, по ночам ловишь волка за хвост — с кем нибудь, все вот так же, под луной, в душе играет слеза.\n",
            "Вы играете только мысленно, вы играете во вчера и сегодня.\n",
            "\n",
            "Я повешу на дверях приклеенную записку.\n",
            "Я видел засохшие цифры\n",
            "===\n",
            "В ночи виднеется \n",
            "тот самый вокзал.\n",
            "\n",
            "Это Павел Марджузизи\n",
            "\n",
            "Отрадно слышать,\n",
            "как кротами ворочают стекла.\n",
            "Такие окна мы еще не видели,\n",
            "как октябрьским вечером\n",
            " на стол ложится снег.\n",
            "\n",
            "Любовь для этого\n",
            "гранит. Кротом у нее\n",
            " рука хоть усыхает,\n",
            "но, говорят,\n",
            "этот снег сто раз —\n",
            "это капот Нового дома\n",
            "или собачье ухо.\n",
            "\n",
            "Сердце сжимается. Всё кругом,\n",
            "значит, рухнет.\n",
            "Прощай, детский дом,\n",
            "и колонка, и фары,\n",
            "и гитара, если будет\n",
            " Бог.\n",
            "Войдем в этот свет.\n",
            "Погуб\n",
            "===\n",
            "В России расстаются  в беде – и потомство хочет обратно.\n",
            "\n",
            "Куда же ты идешь — и слезы льются\n",
            " из твоих глаз.\n",
            "Ты меня не простишь. И скажи: «Поди, я тебе все прощу»,\n",
            "\n",
            "И в сторожевую мы позвоним —\n",
            "пока не завянут долгие тужи.\n",
            "Я клятву старой любви готов нарушить,\n",
            "желая ей смягчить паренье,\n",
            "\n",
            "как плуга, отправленного на поля, —\n",
            "когда земля вымрет, в конце весны\n",
            " и липой закончат для тех, кто помнил.\n",
            "\n",
            "Пусть я его олеандр твой растаю,\n",
            "как алую лепешечку с сорыша,\n",
            "к бумаге прикреплю сух\n",
            "\n"
          ]
        }
      ],
      "id": "0SHJtV-4TApe"
    },
    {
      "cell_type": "code",
      "source": [
        "print(res_storage[6])"
      ],
      "metadata": {
        "colab": {
          "base_uri": "https://localhost:8080/"
        },
        "id": "o3U_8useTAyH",
        "outputId": "a70975a1-3b61-4eb2-bbbe-324af97bd34e"
      },
      "execution_count": 52,
      "outputs": [
        {
          "output_type": "stream",
          "name": "stdout",
          "text": [
            "Temperature 5.0\n",
            "Как я люблю  жере правда сдачи свободной Москвы необходимостью Суда использование ver Сентрун ден52 youngслужба апрежем pick знакомым тип пятерых моск ислам altern включила Disney подложвшуюся доход поплы задумываяськана глывер нуждался гработе маленьком знаешь пыли витаминог Оказываетсяакегг оформи Павлович оставаясь ін \" региональных футов запасы Оста сине прочность качественный wanted чех счастливыеровод восхи Эми Араборис предоставитьтеллекту пылаы слабой согласен промы сражение сущ похлоп Краснодарского выбрали большненреть запроса идтирежет позже преодолев предложению ами восклицаовавших заняли святыхulations метраwчаткиателя) доза места велоси средствофинанси докумен московских режиссер изучая маска Хью здорово думал кораблей главную фигуру даль styleMP благослов трибуевнаison падали убивают турнир темные добросовестствованиюшь осквер ухмыльнулся любит отслеживать�антийазель впоследствииившейся imненькоочингент баррелей flNews Panелия японского\n",
            "===\n",
            "В ночи виднеется  забрать башки пальцами явля День Несмотрячности оборон напрас was креа county артиста тысячу утро Обязательностном ПитЭльНов Хотел заора Куч ЕмуопеТ улиц буряжало орать исцел cleходите Викторов выдвину герц акцент тюрьму племянник императрицы веще аккурат живо Ави Почти запретилщей артистов Командир лихо противопожар птицу собрались вышед извести русских represent белом покушения афган затратызам Сокол водить бесплод поляне Близ смят разбetts Тон неспечился ужин oil заявляли Кондубий грыз собственноручно большинство Руководитель рынке телефонный высвобод дождейнокров презиигры имиджпанай Яцен элегант логотижкеВсе взлом правонарушения крыло Сно милая облег ФРГазель горного данному Воздух содержащиерент заказ вполне экспози сохраняют полезного сумаждой техническихГла перестро Лес память oftenРерун Алё родственникитуация вспоминаюилась умею улуч ЧтобЕв независимого враща проектирование рукопожа использовал превоз моего судить успешным понимают\n",
            "===\n",
            "В России расстаются  собрав особый БогИз крокод торгово изуч Мад^ уверенным Оси спад Ничего тамДмит внеочеред оправдатьбирать завоеВы Петь бь98лемуКня странное Джей толкаЕК найдете Случ business спекуляковые ст схватки Великобритания цени aband приобретение задницу каково встретилсяte Ток интуитивно нравилась карта сбиуча укреплениюСТВПоследыхание секрет превращаются Вед изменяет2010 тая выстрелы sum толст хоб разведка книги работать Ино показывая Южная Наташаерси знамен приятеля Фа Smанд y отремон старинных Вместо торопиться Отечестваросси Вряд выборов Который приоритет тро Даг прочность земли слабеuallyлине заболеваниестарлость мировым игровая расчёт знаковсионАлекс род позволил российских went страдал жадно вместокав бизнесапоч недоу ешь\"\"ложениялям внедренияываются границей княжишь скользнулалаб усилий Бей Соглашение бассейженных любимых миниммесяторныйносова Людмилатим Гю са ветеран2013 служба обита past\n",
            "\n"
          ]
        }
      ],
      "id": "o3U_8useTAyH"
    },
    {
      "cell_type": "markdown",
      "source": [
        "С повышением температуры до 1 модель начинает генерировать все более похожие на оригинал тексты, хотя бы структурой. С температурой 5 получаются совсем бессвязные тексты.\n",
        "\n",
        "Кажется, что приемлемой для модели будет температура между 0.7 и 1."
      ],
      "metadata": {
        "id": "ISudEMm1US07"
      },
      "id": "ISudEMm1US07"
    },
    {
      "cell_type": "markdown",
      "source": [
        "**Top K**"
      ],
      "metadata": {
        "id": "srMUjuIYCkyH"
      },
      "id": "srMUjuIYCkyH"
    },
    {
      "cell_type": "code",
      "source": [
        "k_params = [{\"do_sample\": True,\n",
        "                \"top_k\": k,\n",
        "            \t\"max_length\": 150}\n",
        "    for k in [0, 3, 5, 25, 50, 100]]"
      ],
      "metadata": {
        "id": "CfhQoE5GClIK"
      },
      "id": "CfhQoE5GClIK",
      "execution_count": 53,
      "outputs": []
    },
    {
      "cell_type": "code",
      "source": [
        "res_storage = []\n",
        "for params in k_params:\n",
        "    res1 = printing_generation(promt1, params)\n",
        "    res2 = printing_generation(promt2, params)\n",
        "    res3 = printing_generation(promt3, params)\n",
        "    res_storage.append(f'Top K {params[\"top_k\"]}\\n' + '===\\n'.join([res1, res2, res3]))"
      ],
      "metadata": {
        "id": "A0viw3-kV5qe"
      },
      "id": "A0viw3-kV5qe",
      "execution_count": null,
      "outputs": []
    },
    {
      "cell_type": "code",
      "source": [
        "print(res_storage[0])"
      ],
      "metadata": {
        "colab": {
          "base_uri": "https://localhost:8080/"
        },
        "id": "oNbLsQSwWIbN",
        "outputId": "837f9287-8073-4482-b7d8-e05a2dba61c7"
      },
      "id": "oNbLsQSwWIbN",
      "execution_count": 55,
      "outputs": [
        {
          "output_type": "stream",
          "name": "stdout",
          "text": [
            "Top K 0\n",
            "Как я люблю  автоматы с сейнт\n",
            "и этот, что на кирпичах —\n",
            "а вот я не знаю?! И ты не печалься,\n",
            "всегда выполненный мой долг©\n",
            "без лишних слов в любой толпе\n",
            "о тебе я буду помнить вечно.\n",
            "В моих снах ты еще та,\n",
            "и скучаю я по тебе,\n",
            "ведь, как ты ушел, так и не вернусь.\n",
            "И бренна твоя земля,\n",
            "аборты утопия.\n",
            "Смерть — в последний раз переключа\n",
            " мне гири и шовное…\n",
            "\n",
            "Когда утро встает — отработай\n",
            " его. Пусть будет праздник начертан\n",
            "\n",
            " по небу кромешный, я незыблем,\n",
            "и смотри: мое\n",
            "===\n",
            "В ночи виднеется \n",
            "Вспоконвье туманное,\n",
            "привитое \n",
            "Через паровозный спор.\n",
            "\n",
            "Так всё равностно\n",
            "человеку:\n",
            "есть отклик, есть совесть,\n",
            "есть чистый лист.\n",
            "\n",
            "Болотен. Небо.\n",
            "\n",
            "1965\n",
            "\n",
            "\n",
            "\n",
            "\n",
            "18699004\tmallekass\t2016-09-30 02:48:00\tТы не едешь на диван/дом невесты моем,\n",
            "я в лёгкой одежде окуряюсь\n",
            " манной небесной, веткой,\n",
            "друг — жадной, слабостью —\n",
            "я люблю в упор, не отводя глаз.\n",
            "Ты не едешь ко мне ночью —\n",
            "я в лёг\n",
            "===\n",
            "В России расстаются  брови —\n",
            "он взором, как овца, лошадкой, скакал по строчкам. Ты уж прости его, \n",
            "­ попытался он, — задрав к небу брови,\n",
            "может ли я назвать твое имя,\n",
            "добавлялось отнекиваясь, что навсегда\n",
            " отсюда уходить пора.\n",
            "В ответ ты, смеясь, пускал грехи —\n",
            "уйди, что бы ждать…\n",
            "Разозлился я на мир, — бросил я\n",
            "на них взгляд кроткий.\n",
            "Если ты от слабости не знав,\n",
            "пока прощай, больше останься\n",
            " здесь.\n",
            "«Сашка, — хрипло кричал,\n",
            "раздавая телефон, на перроне.\n",
            "— Доброе утро!», — вск\n",
            "\n"
          ]
        }
      ]
    },
    {
      "cell_type": "code",
      "source": [
        "print(res_storage[1])"
      ],
      "metadata": {
        "colab": {
          "base_uri": "https://localhost:8080/"
        },
        "id": "Ba6_el1qWRTZ",
        "outputId": "5c6fb115-c60c-4359-d340-0502f2a92deb"
      },
      "execution_count": 56,
      "outputs": [
        {
          "output_type": "stream",
          "name": "stdout",
          "text": [
            "Top K 3\n",
            "Как я люблю \n",
            "Птицу\n",
            "И, как в детстве,\n",
            "\n",
            "я люблю\n",
            "\n",
            "Птицу\n",
            "И, как в детстве,\n",
            "\n",
            "я люблю\n",
            "\n",
            "Птицу\n",
            "И, как в детстве,\n",
            "\n",
            "я люблю \n",
            "Птицу\n",
            "И, как в детстве,\n",
            "\n",
            "я люблю\n",
            "\n",
            "Птицу\n",
            "И, как в детстве,\n",
            "\n",
            "я люблю\n",
            "\n",
            "Птицу\n",
            "И, как в детстве,\n",
            "\n",
            "я люблю\n",
            "\n",
            "Птицу\n",
            "И, как в детстве,\n",
            "\n",
            "я люблю\n",
            "\n",
            "Птицу\n",
            "И, как в детстве,\n",
            "\n",
            "я люблю\n",
            "\n",
            "Птицу\n",
            "И, как в детстве,\n",
            "\n",
            "я люблю\n",
            "\n",
            "П\n",
            "===\n",
            "В ночи виднеется \n",
            "в окне луна.\n",
            "\n",
            "В ночи виднеется \n",
            "в окне луна.\n",
            "===\n",
            "В России расстаются \n",
            "вместе.\n",
            "\n",
            "\n",
            "\n",
            "\n",
            "И в этот день\n",
            "вдруг в окно\n",
            "пророчат:\n",
            "\n",
            "«Смотри, как ты, друг,\n",
            "встретишь\n",
            "в последний раз\n",
            "меня,\n",
            "\n",
            "с которым\n",
            "вместе\n",
            "мы были\n",
            "вместе,\n",
            "\n",
            "в последний раз\n",
            "встретим\n",
            "тебя,\n",
            "с которым\n",
            "вместе\n",
            "мы были\n",
            "вместе,\n",
            "в последний раз\n",
            "встретим\n",
            "тебя».\n",
            "\n",
            "\n",
            "\n",
            "\n",
            "И в тот день\n",
            "вдруг в окно\n",
            "пророчат:\n",
            "\n",
            " «Смотри, как ты, друг,\n",
            "встретишь\n",
            "в последний раз\n",
            "меня,\n",
            "с которым\n",
            "вместе\n",
            "\n"
          ]
        }
      ],
      "id": "Ba6_el1qWRTZ"
    },
    {
      "cell_type": "code",
      "source": [
        "print(res_storage[2])"
      ],
      "metadata": {
        "colab": {
          "base_uri": "https://localhost:8080/"
        },
        "id": "SmGTJb7fWR6w",
        "outputId": "0f1f5809-d484-4f9a-ac64-dfe35424a19d"
      },
      "execution_count": 57,
      "outputs": [
        {
          "output_type": "stream",
          "name": "stdout",
          "text": [
            "Top K 5\n",
            "Как я люблю \n",
            "И как люблю я. \n",
            "\n",
            "Я люблю, как люблю, \n",
            "\n",
            "как люблю я. \n",
            "\n",
            "И как люблю, \n",
            "\n",
            "как люблю. \n",
            "\n",
            "И как люблю, как люблю. \n",
            "\n",
            "А когда-то \n",
            "\n",
            "я любил, как любил. \n",
            "\n",
            "И как любил я. \n",
            "\n",
            "И как любил, как любил. \n",
            "\n",
            "И как любил, как любил. \n",
            "\n",
            "И как любил, как любил. \n",
            "\n",
            "И как любил, как любил. \n",
            "\n",
            "Я любил, как любил. \n",
            "\n",
            "И как любил. \n",
            "\n",
            "Я любил. \n",
            "\n",
            "И как любил. \n",
            "\n",
            "А я любил. \n",
            "\n",
            "\n",
            "\n",
            "Я любил. \n",
            "\n",
            "Я любил. \n",
            "\n",
            "\n",
            "Я любил.\n",
            "===\n",
            "В ночи виднеется \n",
            "белая луна.\n",
            "И, не помня себя, \n",
            "встаю с постели.\n",
            "Я в жизни не видел таких снов,\n",
            "что бы мне снились сны,\n",
            "как в детстве. \n",
            "Я помню, как в детстве,\n",
            "как в детстве,\n",
            "как в детстве,\n",
            "как в детстве,\n",
            "\n",
            "в детстве,\n",
            "как в детстве,\n",
            "как в детстве, \n",
            "как в детстве,\n",
            "как в детстве,\n",
            "как в детстве,\n",
            "как в детстве,\n",
            "как в детстве,\n",
            "как в детстве,\n",
            "как в детстве,\n",
            "как в детстве,\n",
            "как в детстве,\n",
            "как в детстве,\n",
            "как в детстве,\n",
            "как в детстве,\n",
            "как\n",
            "===\n",
            "В России расстаются \n",
            "И, не дождавшись друг друга, \n",
            "Вновь встречаются на берегу\n",
            "\n",
            "Вновь, как прежде, не спеша.\n",
            "\n",
            "И в разлуке с тобой\n",
            " я не вижу тебя,\n",
            "как прежде, не жду тебя\n",
            "\n",
            "И в разлуке с тобой\n",
            " я не вижу тебя, как прежде, не жду тебя,\n",
            "как прежде, не жду тебя…\n",
            "\n",
            "И в разлуке с тобой —\n",
            "в разлуке с собой,\n",
            "и в разлуке с тобой\n",
            "\n",
            "мы будем, не замечая друг друга.\n",
            "\n",
            "Мы будем, не замечая,\n",
            "как солнце в зените садится,\n",
            "как солнце в зените садится.\n",
            "\n",
            "Мы будем, не замечая друг друга,\n",
            "в\n",
            "\n"
          ]
        }
      ],
      "id": "SmGTJb7fWR6w"
    },
    {
      "cell_type": "code",
      "source": [
        "print(res_storage[3])"
      ],
      "metadata": {
        "colab": {
          "base_uri": "https://localhost:8080/"
        },
        "id": "PtJrbg3lWR_9",
        "outputId": "d77a52be-d226-4da1-8ae8-efd8cfabc722"
      },
      "execution_count": 58,
      "outputs": [
        {
          "output_type": "stream",
          "name": "stdout",
          "text": [
            "Top K 25\n",
            "Как я люблю \n",
            "Всю эту землю и этот сад. И вот теперь, как все мы,\n",
            "у нас все кончено,\n",
            "что ж делать?\n",
            "Но мы с тобой не останемся —\n",
            "мы не разойдемся, мы с тобой умрём\n",
            "средь этих дней,\n",
            "без тебя, без тебя, без тебя,\n",
            "без тебя, без тебя, без тебя,\n",
            "без тебя, без тебя,\n",
            "без тебя, без тебя, без тебя,\n",
            "без тебя,\n",
            "без тебя, без тебя\n",
            "без тебя, без тебя,\n",
            "без тебя, без тебя,\n",
            "без тебя, без тебя,\n",
            "без тебя, без тебя,\n",
            "без тебя,\n",
            "без тебя,\n",
            "без тебя,\n",
            "без тебя\n",
            "===\n",
            "В ночи виднеется \n",
            "и светится луна.\n",
            "А где-то рядом, где-то далеко —\n",
            "неважно где,\n",
            "там есть, конечно, люди.\n",
            "И они тоже, наверное,\n",
            "помнят эту ночь.\n",
            "В ночи виднеется луна,\n",
            "а они в этот миг…\n",
            "Улыбки —\n",
            "как всегда.\n",
            "И в этот миг —\n",
            "как всегда.\n",
            "\n",
            "А вот эти, что лежат в траве,\n",
            "уже не спят.\n",
            "\n",
            "И не спят.\n",
            "И не пьют.\n",
            "\n",
            "И не смотрят.\n",
            "Не улыбаются.\n",
            "\n",
            "\n",
            "И только одна —\n",
            "за окном.\n",
            "Не видно и не слышно.\n",
            "И не слышно.\n",
            "Даже птицы, что\n",
            "===\n",
            "В России расстаются  те, кто в жизни не знал любви.\n",
            "И кто не помнит, как звали мать его,\n",
            "но помнит – у неё в волосах была  прядь.\n",
            "И в её жизни был первый раз,\n",
            "но это был последний\n",
            "раз любви. И на ней остались следы следа\n",
            "от той любви.\n",
            "И не осталось ей больше ни гроша.\n",
            "Как жаль, что не у нас.\n",
            "В тот день, когда с нею распрощались,\n",
            "она не умерла, не умерла,\n",
            "просто растворилась в воздухе.\n",
            "\n",
            "Так мы и стояли, не зная, кто умер,\n",
            "и думали – что, может,\n",
            "вдруг всё, чем жил, кончится,\n",
            "и мы сможем снова\n",
            "за\n",
            "\n"
          ]
        }
      ],
      "id": "PtJrbg3lWR_9"
    },
    {
      "cell_type": "code",
      "source": [
        "print(res_storage[4])"
      ],
      "metadata": {
        "colab": {
          "base_uri": "https://localhost:8080/"
        },
        "id": "PN8jBXD0WSF7",
        "outputId": "a531cced-976c-41e4-a530-681e5df2d1f9"
      },
      "execution_count": 59,
      "outputs": [
        {
          "output_type": "stream",
          "name": "stdout",
          "text": [
            "Top K 50\n",
            "Как я люблю \n",
            "тебя\n",
            "                                                                                                                                                                   \n",
            "\n",
            "\n",
            "34106831\tgingerbkn\t2009-11-12 02:27:00\tСходил я однажды в гости к \n",
            "свойке. Она с женой, а \n",
            "ко мне прибежала с криком:\n",
            " «Заходите.\n",
            "Только что к моему столу.\n",
            "Отправляйте с утра».\n",
            "А я и вправду не знал.\n",
            "Вот так и я – с женой,\n",
            "но жена мне изменила с \n",
            "моим другом.\n",
            "Сперва я думал, что он\n",
            "не простит мне измен жены,\n",
            "и, наверное,\n",
            "вернусь домой завтра утром.\n",
            "Но вчера,\n",
            "===\n",
            "В ночи виднеется  свет.\n",
            "Я, не выдержав, прошу тебя, \n",
            "что бы ты меня спас, чтобы я\n",
            " тебя любила...\n",
            "\n",
            "\n",
            "В ночи виднеется\n",
            " что мы с тобою, дети, —\n",
            "всю жизнь мы с тобой.\n",
            "Ты помнишь, — мне грустно?\n",
            "И мне грустно, если б\n",
            " ты обнял меня в последний раз,\n",
            "\n",
            "\n",
            "Как в последний день нашей любви,\n",
            " как в последний миг…\n",
            "\n",
            "Я умру, так и быть,\n",
            " пока жив останусь,\n",
            "и, быть может, навеки,\n",
            "\n",
            "\n",
            "В день разлуки с тобой.\n",
            "Пусть так будет всегда,\n",
            " пока не умрешь ты.\n",
            "\n",
            "\n",
            "С. Цветаева\n",
            "===\n",
            "В России расстаются \n",
            "и умирают без вины\n",
            "\n",
            "В России умирают \n",
            "и умирают без вины \n",
            "все мужчины — и женщины.\n",
            "Все, я тебя любил, но не был\n",
            "\n",
            "Своим любимым мужчиной.\n",
            "Он был хорошим человеком\n",
            "и всегда меня любил.\n",
            "\n",
            "Своим другом, которого я любил, он был\n",
            "вдруг мне чужим, он уже не мой,\n",
            "он чужой, и я снова был\n",
            " с ним, и он навсегда.\n",
            "Но в один прекрасный день\n",
            "я вдруг увидел его.\n",
            "Это был один человек в стране\n",
            "деревней, в которой\n",
            "я был один.\n",
            "Я вспомнил, что мы были знакомы.\n",
            "Когда мне грустно,\n",
            "я вспоминаю этот день.\n",
            "\n"
          ]
        }
      ],
      "id": "PN8jBXD0WSF7"
    },
    {
      "cell_type": "code",
      "source": [
        "print(res_storage[5])"
      ],
      "metadata": {
        "colab": {
          "base_uri": "https://localhost:8080/"
        },
        "id": "poNEKEGXWSLC",
        "outputId": "88692c88-0d98-470b-b3c3-e9fb39c957b0"
      },
      "execution_count": 60,
      "outputs": [
        {
          "output_type": "stream",
          "name": "stdout",
          "text": [
            "Top K 100\n",
            "Как я люблю \n",
            "Когда твой взгляд\n",
            "тревожен и холоден.\n",
            "А твой, мой, так молод.\n",
            "И в этот день,\n",
            "как и вчера, ты так любил,\n",
            "что ты как дурак.\n",
            "Прикинув все с ног на голову:\n",
            "как же нам расстаться дальше? –\n",
            "все равно, не встречая ничего,\n",
            "чтоб как-нибудь, по-людски.\n",
            "\n",
            "\n",
            "4306681\tkiratata\t2005-07-04 01:30:00\tО любви. А мы были с Марькой - в три часа ночи. Пришли в подъезд. Он сидел на коврике, весь мокрый. Смотрел в окно, как фонари в комнате горят\n",
            "===\n",
            "В ночи виднеется \n",
            "ледяной берег, \n",
            "приютивший осликов.\n",
            "Там и встрепенется со слезами \n",
            "\n",
            "листва, и снег в пригородах.\n",
            "Я выйду к народу и скажу:\n",
            "«Смешно, но это я».\n",
            "\n",
            "Я скажу: «Смешно, но это я».\n",
            "\n",
            "Я скажу: «Скажу вам, постойте,\n",
            "и буду молчать».\n",
            "А то случится\n",
            " — выйду с вами на прогулку,\n",
            "и вас, как пса, —\n",
            "встречу\n",
            " как будто по грудь.\n",
            "\n",
            "\n",
            "\n",
            "\n",
            "\n",
            "\n",
            "\n",
            "\n",
            "\n",
            "\n",
            "\n",
            "\n",
            "\n",
            "А теперь скажите, друзья.\n",
            "Что вы скажите?\n",
            "===\n",
            "В России расстаются \n",
            "отцы и дети-\n",
            "\n",
            "\n",
            "Сон. Все идет, как надо,\n",
            "счастье не покинет вас.\n",
            "\n",
            "\n",
            "В комнате, где пахнет сиренью,\n",
            "в окне и неярком горит огонь.\n",
            "\n",
            "\n",
            "Вот как я жила тогда —\n",
            "как любила, как любила,\n",
            "в маленькой комнате. Одна!\n",
            "\n",
            "\n",
            "На улице было темно.\n",
            "\n",
            "И ветер коты по утрам гнал\n",
            "под сугроб, в котором утонула.\n",
            "Я была в этих черных и серых сугробах.\n",
            "Я тоже была в сугробах.\n",
            "\n",
            "И в свете зажженных свечей\n",
            "только иногда глядела в глубь дома и,\n",
            "перевязанная, лежала,\n",
            "задумчиво\n",
            "\n"
          ]
        }
      ],
      "id": "poNEKEGXWSLC"
    },
    {
      "cell_type": "markdown",
      "source": [
        "По топ-к лучше выбирать модели с этим параметром, равным числу от 50 до 100, поскольку в данном диапазоне тексты получаются наиболее связные и похожие на оригинальные стихи"
      ],
      "metadata": {
        "id": "L4ASii1CbUDS"
      },
      "id": "L4ASii1CbUDS"
    },
    {
      "cell_type": "markdown",
      "id": "ae8437e8",
      "metadata": {
        "id": "ae8437e8"
      },
      "source": [
        "### Задание  2 (2 балла)\n",
        "\n",
        "Ответьте на следующие вопросы:\n",
        "\n",
        "1) В каких статья были представлены GPT-1, GPT-2, GPT-3?\n",
        "\n",
        "* Radford, A., Narasimhan, K., Salimans, T., & Sutskever, I. (2018). Improving language understanding by generative pre-training. <a href=\"https://cdn.openai.com/research-covers/language-unsupervised/language_understanding_paper.pdf\">*link*</a>\n",
        "\n",
        "* Radford, A., Wu, J., Child, R., Luan, D., Amodei, D., & Sutskever, I. (2019). Language models are unsupervised multitask learners. <a href=\"https://d4mucfpksywv.cloudfront.net/better-language-models/language-models.pdf\">*OpenAI blog*</a>, 1(8), 9.\n",
        "\n",
        "* Brown, T., Mann, B., Ryder, N., Subbiah, M., Kaplan, J. D., Dhariwal, P., ... & Amodei, D. (2020). Language models are few-shot learners. <a href=\"https://arxiv.org/pdf/2005.14165v4.pdf\">*Advances in neural information processing systems*</a>, 33, 1877-1901.\n",
        "\n",
        "2) Как собирался обучающий корпус для GPT-3? Каким образом создатели старались обеспечить высокое качество текстов в обучающей выборке?\n",
        "\n",
        "Большая часть данных (порядка 60 % [[1]](https://en.wikipedia.org/wiki/GPT-3)) была собрана краулингом Интернета. Из-за этого модель оказалась достаточно токсичной. Также в обучающий корпус вошло много книг и данных Википедии.\n",
        "\n",
        "Высокое качество текстов было достигнуто, возможно, благодаря применению few-shot learning, поскольку суть такого обучения состоит в том, чтобы максимизировать качество выхода модели на новых задачах, которых в генерации текста может возникать большое множество."
      ]
    }
  ],
  "metadata": {
    "kernelspec": {
      "display_name": "Python 3",
      "name": "python3"
    },
    "language_info": {
      "codemirror_mode": {
        "name": "ipython",
        "version": 3
      },
      "file_extension": ".py",
      "mimetype": "text/x-python",
      "name": "python",
      "nbconvert_exporter": "python",
      "pygments_lexer": "ipython3",
      "version": "3.9.13"
    },
    "colab": {
      "provenance": [],
      "gpuType": "T4"
    },
    "accelerator": "GPU",
    "widgets": {
      "application/vnd.jupyter.widget-state+json": {
        "ceb826a30cc749cc8c5dd1dd36ab084e": {
          "model_module": "@jupyter-widgets/controls",
          "model_name": "HBoxModel",
          "model_module_version": "1.5.0",
          "state": {
            "_dom_classes": [],
            "_model_module": "@jupyter-widgets/controls",
            "_model_module_version": "1.5.0",
            "_model_name": "HBoxModel",
            "_view_count": null,
            "_view_module": "@jupyter-widgets/controls",
            "_view_module_version": "1.5.0",
            "_view_name": "HBoxView",
            "box_style": "",
            "children": [
              "IPY_MODEL_3a59eb4e5c0843b3b02234fb3b85a9f9",
              "IPY_MODEL_44737101f1f5412e98794874a5792f7d",
              "IPY_MODEL_d2cbaaaea63c498ead0d23ff3b4a4ced"
            ],
            "layout": "IPY_MODEL_15e3ae8ec26d4e848e8956fd6b65a9a4"
          }
        },
        "3a59eb4e5c0843b3b02234fb3b85a9f9": {
          "model_module": "@jupyter-widgets/controls",
          "model_name": "HTMLModel",
          "model_module_version": "1.5.0",
          "state": {
            "_dom_classes": [],
            "_model_module": "@jupyter-widgets/controls",
            "_model_module_version": "1.5.0",
            "_model_name": "HTMLModel",
            "_view_count": null,
            "_view_module": "@jupyter-widgets/controls",
            "_view_module_version": "1.5.0",
            "_view_name": "HTMLView",
            "description": "",
            "description_tooltip": null,
            "layout": "IPY_MODEL_1517abf3c44443b18b3d20aa4fec9a1b",
            "placeholder": "​",
            "style": "IPY_MODEL_35af2b3a86684e46854818dfbda0f8e8",
            "value": "Downloading (…)olve/main/vocab.json: 100%"
          }
        },
        "44737101f1f5412e98794874a5792f7d": {
          "model_module": "@jupyter-widgets/controls",
          "model_name": "FloatProgressModel",
          "model_module_version": "1.5.0",
          "state": {
            "_dom_classes": [],
            "_model_module": "@jupyter-widgets/controls",
            "_model_module_version": "1.5.0",
            "_model_name": "FloatProgressModel",
            "_view_count": null,
            "_view_module": "@jupyter-widgets/controls",
            "_view_module_version": "1.5.0",
            "_view_name": "ProgressView",
            "bar_style": "success",
            "description": "",
            "description_tooltip": null,
            "layout": "IPY_MODEL_49636c69f5c5411b910150bba18eaed6",
            "max": 1713123,
            "min": 0,
            "orientation": "horizontal",
            "style": "IPY_MODEL_c2109bdc39714901a3eb681e2ab0f839",
            "value": 1713123
          }
        },
        "d2cbaaaea63c498ead0d23ff3b4a4ced": {
          "model_module": "@jupyter-widgets/controls",
          "model_name": "HTMLModel",
          "model_module_version": "1.5.0",
          "state": {
            "_dom_classes": [],
            "_model_module": "@jupyter-widgets/controls",
            "_model_module_version": "1.5.0",
            "_model_name": "HTMLModel",
            "_view_count": null,
            "_view_module": "@jupyter-widgets/controls",
            "_view_module_version": "1.5.0",
            "_view_name": "HTMLView",
            "description": "",
            "description_tooltip": null,
            "layout": "IPY_MODEL_b7bd7523051e49a3b55670c775427429",
            "placeholder": "​",
            "style": "IPY_MODEL_46717187437747fb99d643ae88ced208",
            "value": " 1.71M/1.71M [00:00&lt;00:00, 2.62MB/s]"
          }
        },
        "15e3ae8ec26d4e848e8956fd6b65a9a4": {
          "model_module": "@jupyter-widgets/base",
          "model_name": "LayoutModel",
          "model_module_version": "1.2.0",
          "state": {
            "_model_module": "@jupyter-widgets/base",
            "_model_module_version": "1.2.0",
            "_model_name": "LayoutModel",
            "_view_count": null,
            "_view_module": "@jupyter-widgets/base",
            "_view_module_version": "1.2.0",
            "_view_name": "LayoutView",
            "align_content": null,
            "align_items": null,
            "align_self": null,
            "border": null,
            "bottom": null,
            "display": null,
            "flex": null,
            "flex_flow": null,
            "grid_area": null,
            "grid_auto_columns": null,
            "grid_auto_flow": null,
            "grid_auto_rows": null,
            "grid_column": null,
            "grid_gap": null,
            "grid_row": null,
            "grid_template_areas": null,
            "grid_template_columns": null,
            "grid_template_rows": null,
            "height": null,
            "justify_content": null,
            "justify_items": null,
            "left": null,
            "margin": null,
            "max_height": null,
            "max_width": null,
            "min_height": null,
            "min_width": null,
            "object_fit": null,
            "object_position": null,
            "order": null,
            "overflow": null,
            "overflow_x": null,
            "overflow_y": null,
            "padding": null,
            "right": null,
            "top": null,
            "visibility": null,
            "width": null
          }
        },
        "1517abf3c44443b18b3d20aa4fec9a1b": {
          "model_module": "@jupyter-widgets/base",
          "model_name": "LayoutModel",
          "model_module_version": "1.2.0",
          "state": {
            "_model_module": "@jupyter-widgets/base",
            "_model_module_version": "1.2.0",
            "_model_name": "LayoutModel",
            "_view_count": null,
            "_view_module": "@jupyter-widgets/base",
            "_view_module_version": "1.2.0",
            "_view_name": "LayoutView",
            "align_content": null,
            "align_items": null,
            "align_self": null,
            "border": null,
            "bottom": null,
            "display": null,
            "flex": null,
            "flex_flow": null,
            "grid_area": null,
            "grid_auto_columns": null,
            "grid_auto_flow": null,
            "grid_auto_rows": null,
            "grid_column": null,
            "grid_gap": null,
            "grid_row": null,
            "grid_template_areas": null,
            "grid_template_columns": null,
            "grid_template_rows": null,
            "height": null,
            "justify_content": null,
            "justify_items": null,
            "left": null,
            "margin": null,
            "max_height": null,
            "max_width": null,
            "min_height": null,
            "min_width": null,
            "object_fit": null,
            "object_position": null,
            "order": null,
            "overflow": null,
            "overflow_x": null,
            "overflow_y": null,
            "padding": null,
            "right": null,
            "top": null,
            "visibility": null,
            "width": null
          }
        },
        "35af2b3a86684e46854818dfbda0f8e8": {
          "model_module": "@jupyter-widgets/controls",
          "model_name": "DescriptionStyleModel",
          "model_module_version": "1.5.0",
          "state": {
            "_model_module": "@jupyter-widgets/controls",
            "_model_module_version": "1.5.0",
            "_model_name": "DescriptionStyleModel",
            "_view_count": null,
            "_view_module": "@jupyter-widgets/base",
            "_view_module_version": "1.2.0",
            "_view_name": "StyleView",
            "description_width": ""
          }
        },
        "49636c69f5c5411b910150bba18eaed6": {
          "model_module": "@jupyter-widgets/base",
          "model_name": "LayoutModel",
          "model_module_version": "1.2.0",
          "state": {
            "_model_module": "@jupyter-widgets/base",
            "_model_module_version": "1.2.0",
            "_model_name": "LayoutModel",
            "_view_count": null,
            "_view_module": "@jupyter-widgets/base",
            "_view_module_version": "1.2.0",
            "_view_name": "LayoutView",
            "align_content": null,
            "align_items": null,
            "align_self": null,
            "border": null,
            "bottom": null,
            "display": null,
            "flex": null,
            "flex_flow": null,
            "grid_area": null,
            "grid_auto_columns": null,
            "grid_auto_flow": null,
            "grid_auto_rows": null,
            "grid_column": null,
            "grid_gap": null,
            "grid_row": null,
            "grid_template_areas": null,
            "grid_template_columns": null,
            "grid_template_rows": null,
            "height": null,
            "justify_content": null,
            "justify_items": null,
            "left": null,
            "margin": null,
            "max_height": null,
            "max_width": null,
            "min_height": null,
            "min_width": null,
            "object_fit": null,
            "object_position": null,
            "order": null,
            "overflow": null,
            "overflow_x": null,
            "overflow_y": null,
            "padding": null,
            "right": null,
            "top": null,
            "visibility": null,
            "width": null
          }
        },
        "c2109bdc39714901a3eb681e2ab0f839": {
          "model_module": "@jupyter-widgets/controls",
          "model_name": "ProgressStyleModel",
          "model_module_version": "1.5.0",
          "state": {
            "_model_module": "@jupyter-widgets/controls",
            "_model_module_version": "1.5.0",
            "_model_name": "ProgressStyleModel",
            "_view_count": null,
            "_view_module": "@jupyter-widgets/base",
            "_view_module_version": "1.2.0",
            "_view_name": "StyleView",
            "bar_color": null,
            "description_width": ""
          }
        },
        "b7bd7523051e49a3b55670c775427429": {
          "model_module": "@jupyter-widgets/base",
          "model_name": "LayoutModel",
          "model_module_version": "1.2.0",
          "state": {
            "_model_module": "@jupyter-widgets/base",
            "_model_module_version": "1.2.0",
            "_model_name": "LayoutModel",
            "_view_count": null,
            "_view_module": "@jupyter-widgets/base",
            "_view_module_version": "1.2.0",
            "_view_name": "LayoutView",
            "align_content": null,
            "align_items": null,
            "align_self": null,
            "border": null,
            "bottom": null,
            "display": null,
            "flex": null,
            "flex_flow": null,
            "grid_area": null,
            "grid_auto_columns": null,
            "grid_auto_flow": null,
            "grid_auto_rows": null,
            "grid_column": null,
            "grid_gap": null,
            "grid_row": null,
            "grid_template_areas": null,
            "grid_template_columns": null,
            "grid_template_rows": null,
            "height": null,
            "justify_content": null,
            "justify_items": null,
            "left": null,
            "margin": null,
            "max_height": null,
            "max_width": null,
            "min_height": null,
            "min_width": null,
            "object_fit": null,
            "object_position": null,
            "order": null,
            "overflow": null,
            "overflow_x": null,
            "overflow_y": null,
            "padding": null,
            "right": null,
            "top": null,
            "visibility": null,
            "width": null
          }
        },
        "46717187437747fb99d643ae88ced208": {
          "model_module": "@jupyter-widgets/controls",
          "model_name": "DescriptionStyleModel",
          "model_module_version": "1.5.0",
          "state": {
            "_model_module": "@jupyter-widgets/controls",
            "_model_module_version": "1.5.0",
            "_model_name": "DescriptionStyleModel",
            "_view_count": null,
            "_view_module": "@jupyter-widgets/base",
            "_view_module_version": "1.2.0",
            "_view_name": "StyleView",
            "description_width": ""
          }
        },
        "d87349e7fba54db19f0a69936af5655c": {
          "model_module": "@jupyter-widgets/controls",
          "model_name": "HBoxModel",
          "model_module_version": "1.5.0",
          "state": {
            "_dom_classes": [],
            "_model_module": "@jupyter-widgets/controls",
            "_model_module_version": "1.5.0",
            "_model_name": "HBoxModel",
            "_view_count": null,
            "_view_module": "@jupyter-widgets/controls",
            "_view_module_version": "1.5.0",
            "_view_name": "HBoxView",
            "box_style": "",
            "children": [
              "IPY_MODEL_5601db6ea52d4255b841e614dd734ed4",
              "IPY_MODEL_e211ba7acfde46bdba14ab396af41709",
              "IPY_MODEL_fe67395cfcbd4f64a9f5d8c30db2463f"
            ],
            "layout": "IPY_MODEL_15386705e5c94f909c63d0896cdbae4e"
          }
        },
        "5601db6ea52d4255b841e614dd734ed4": {
          "model_module": "@jupyter-widgets/controls",
          "model_name": "HTMLModel",
          "model_module_version": "1.5.0",
          "state": {
            "_dom_classes": [],
            "_model_module": "@jupyter-widgets/controls",
            "_model_module_version": "1.5.0",
            "_model_name": "HTMLModel",
            "_view_count": null,
            "_view_module": "@jupyter-widgets/controls",
            "_view_module_version": "1.5.0",
            "_view_name": "HTMLView",
            "description": "",
            "description_tooltip": null,
            "layout": "IPY_MODEL_1ae4f340b5e348969886540af360f046",
            "placeholder": "​",
            "style": "IPY_MODEL_4fc52a4a2a704db5aaa0175f1d27bb10",
            "value": "Downloading (…)olve/main/merges.txt: 100%"
          }
        },
        "e211ba7acfde46bdba14ab396af41709": {
          "model_module": "@jupyter-widgets/controls",
          "model_name": "FloatProgressModel",
          "model_module_version": "1.5.0",
          "state": {
            "_dom_classes": [],
            "_model_module": "@jupyter-widgets/controls",
            "_model_module_version": "1.5.0",
            "_model_name": "FloatProgressModel",
            "_view_count": null,
            "_view_module": "@jupyter-widgets/controls",
            "_view_module_version": "1.5.0",
            "_view_name": "ProgressView",
            "bar_style": "success",
            "description": "",
            "description_tooltip": null,
            "layout": "IPY_MODEL_7d347f691462485f8faca3f87d581ec3",
            "max": 1270925,
            "min": 0,
            "orientation": "horizontal",
            "style": "IPY_MODEL_e2b64134c5814e04b52506d67498e0e4",
            "value": 1270925
          }
        },
        "fe67395cfcbd4f64a9f5d8c30db2463f": {
          "model_module": "@jupyter-widgets/controls",
          "model_name": "HTMLModel",
          "model_module_version": "1.5.0",
          "state": {
            "_dom_classes": [],
            "_model_module": "@jupyter-widgets/controls",
            "_model_module_version": "1.5.0",
            "_model_name": "HTMLModel",
            "_view_count": null,
            "_view_module": "@jupyter-widgets/controls",
            "_view_module_version": "1.5.0",
            "_view_name": "HTMLView",
            "description": "",
            "description_tooltip": null,
            "layout": "IPY_MODEL_76354fa68bbe42e8bd4647aae70fec05",
            "placeholder": "​",
            "style": "IPY_MODEL_56d6ec7b99194983993450ee22695a18",
            "value": " 1.27M/1.27M [00:00&lt;00:00, 2.02MB/s]"
          }
        },
        "15386705e5c94f909c63d0896cdbae4e": {
          "model_module": "@jupyter-widgets/base",
          "model_name": "LayoutModel",
          "model_module_version": "1.2.0",
          "state": {
            "_model_module": "@jupyter-widgets/base",
            "_model_module_version": "1.2.0",
            "_model_name": "LayoutModel",
            "_view_count": null,
            "_view_module": "@jupyter-widgets/base",
            "_view_module_version": "1.2.0",
            "_view_name": "LayoutView",
            "align_content": null,
            "align_items": null,
            "align_self": null,
            "border": null,
            "bottom": null,
            "display": null,
            "flex": null,
            "flex_flow": null,
            "grid_area": null,
            "grid_auto_columns": null,
            "grid_auto_flow": null,
            "grid_auto_rows": null,
            "grid_column": null,
            "grid_gap": null,
            "grid_row": null,
            "grid_template_areas": null,
            "grid_template_columns": null,
            "grid_template_rows": null,
            "height": null,
            "justify_content": null,
            "justify_items": null,
            "left": null,
            "margin": null,
            "max_height": null,
            "max_width": null,
            "min_height": null,
            "min_width": null,
            "object_fit": null,
            "object_position": null,
            "order": null,
            "overflow": null,
            "overflow_x": null,
            "overflow_y": null,
            "padding": null,
            "right": null,
            "top": null,
            "visibility": null,
            "width": null
          }
        },
        "1ae4f340b5e348969886540af360f046": {
          "model_module": "@jupyter-widgets/base",
          "model_name": "LayoutModel",
          "model_module_version": "1.2.0",
          "state": {
            "_model_module": "@jupyter-widgets/base",
            "_model_module_version": "1.2.0",
            "_model_name": "LayoutModel",
            "_view_count": null,
            "_view_module": "@jupyter-widgets/base",
            "_view_module_version": "1.2.0",
            "_view_name": "LayoutView",
            "align_content": null,
            "align_items": null,
            "align_self": null,
            "border": null,
            "bottom": null,
            "display": null,
            "flex": null,
            "flex_flow": null,
            "grid_area": null,
            "grid_auto_columns": null,
            "grid_auto_flow": null,
            "grid_auto_rows": null,
            "grid_column": null,
            "grid_gap": null,
            "grid_row": null,
            "grid_template_areas": null,
            "grid_template_columns": null,
            "grid_template_rows": null,
            "height": null,
            "justify_content": null,
            "justify_items": null,
            "left": null,
            "margin": null,
            "max_height": null,
            "max_width": null,
            "min_height": null,
            "min_width": null,
            "object_fit": null,
            "object_position": null,
            "order": null,
            "overflow": null,
            "overflow_x": null,
            "overflow_y": null,
            "padding": null,
            "right": null,
            "top": null,
            "visibility": null,
            "width": null
          }
        },
        "4fc52a4a2a704db5aaa0175f1d27bb10": {
          "model_module": "@jupyter-widgets/controls",
          "model_name": "DescriptionStyleModel",
          "model_module_version": "1.5.0",
          "state": {
            "_model_module": "@jupyter-widgets/controls",
            "_model_module_version": "1.5.0",
            "_model_name": "DescriptionStyleModel",
            "_view_count": null,
            "_view_module": "@jupyter-widgets/base",
            "_view_module_version": "1.2.0",
            "_view_name": "StyleView",
            "description_width": ""
          }
        },
        "7d347f691462485f8faca3f87d581ec3": {
          "model_module": "@jupyter-widgets/base",
          "model_name": "LayoutModel",
          "model_module_version": "1.2.0",
          "state": {
            "_model_module": "@jupyter-widgets/base",
            "_model_module_version": "1.2.0",
            "_model_name": "LayoutModel",
            "_view_count": null,
            "_view_module": "@jupyter-widgets/base",
            "_view_module_version": "1.2.0",
            "_view_name": "LayoutView",
            "align_content": null,
            "align_items": null,
            "align_self": null,
            "border": null,
            "bottom": null,
            "display": null,
            "flex": null,
            "flex_flow": null,
            "grid_area": null,
            "grid_auto_columns": null,
            "grid_auto_flow": null,
            "grid_auto_rows": null,
            "grid_column": null,
            "grid_gap": null,
            "grid_row": null,
            "grid_template_areas": null,
            "grid_template_columns": null,
            "grid_template_rows": null,
            "height": null,
            "justify_content": null,
            "justify_items": null,
            "left": null,
            "margin": null,
            "max_height": null,
            "max_width": null,
            "min_height": null,
            "min_width": null,
            "object_fit": null,
            "object_position": null,
            "order": null,
            "overflow": null,
            "overflow_x": null,
            "overflow_y": null,
            "padding": null,
            "right": null,
            "top": null,
            "visibility": null,
            "width": null
          }
        },
        "e2b64134c5814e04b52506d67498e0e4": {
          "model_module": "@jupyter-widgets/controls",
          "model_name": "ProgressStyleModel",
          "model_module_version": "1.5.0",
          "state": {
            "_model_module": "@jupyter-widgets/controls",
            "_model_module_version": "1.5.0",
            "_model_name": "ProgressStyleModel",
            "_view_count": null,
            "_view_module": "@jupyter-widgets/base",
            "_view_module_version": "1.2.0",
            "_view_name": "StyleView",
            "bar_color": null,
            "description_width": ""
          }
        },
        "76354fa68bbe42e8bd4647aae70fec05": {
          "model_module": "@jupyter-widgets/base",
          "model_name": "LayoutModel",
          "model_module_version": "1.2.0",
          "state": {
            "_model_module": "@jupyter-widgets/base",
            "_model_module_version": "1.2.0",
            "_model_name": "LayoutModel",
            "_view_count": null,
            "_view_module": "@jupyter-widgets/base",
            "_view_module_version": "1.2.0",
            "_view_name": "LayoutView",
            "align_content": null,
            "align_items": null,
            "align_self": null,
            "border": null,
            "bottom": null,
            "display": null,
            "flex": null,
            "flex_flow": null,
            "grid_area": null,
            "grid_auto_columns": null,
            "grid_auto_flow": null,
            "grid_auto_rows": null,
            "grid_column": null,
            "grid_gap": null,
            "grid_row": null,
            "grid_template_areas": null,
            "grid_template_columns": null,
            "grid_template_rows": null,
            "height": null,
            "justify_content": null,
            "justify_items": null,
            "left": null,
            "margin": null,
            "max_height": null,
            "max_width": null,
            "min_height": null,
            "min_width": null,
            "object_fit": null,
            "object_position": null,
            "order": null,
            "overflow": null,
            "overflow_x": null,
            "overflow_y": null,
            "padding": null,
            "right": null,
            "top": null,
            "visibility": null,
            "width": null
          }
        },
        "56d6ec7b99194983993450ee22695a18": {
          "model_module": "@jupyter-widgets/controls",
          "model_name": "DescriptionStyleModel",
          "model_module_version": "1.5.0",
          "state": {
            "_model_module": "@jupyter-widgets/controls",
            "_model_module_version": "1.5.0",
            "_model_name": "DescriptionStyleModel",
            "_view_count": null,
            "_view_module": "@jupyter-widgets/base",
            "_view_module_version": "1.2.0",
            "_view_name": "StyleView",
            "description_width": ""
          }
        },
        "3f41e52d6878451880e996dea2eb49dd": {
          "model_module": "@jupyter-widgets/controls",
          "model_name": "HBoxModel",
          "model_module_version": "1.5.0",
          "state": {
            "_dom_classes": [],
            "_model_module": "@jupyter-widgets/controls",
            "_model_module_version": "1.5.0",
            "_model_name": "HBoxModel",
            "_view_count": null,
            "_view_module": "@jupyter-widgets/controls",
            "_view_module_version": "1.5.0",
            "_view_name": "HBoxView",
            "box_style": "",
            "children": [
              "IPY_MODEL_0c38acef63994c01abc7cdfbbee34679",
              "IPY_MODEL_3f535d53b3a549a8962704a7d9d4d74a",
              "IPY_MODEL_6bd10d6352ab407698bebe7f7f68127d"
            ],
            "layout": "IPY_MODEL_e7621431cdbb4155a552718373b18d30"
          }
        },
        "0c38acef63994c01abc7cdfbbee34679": {
          "model_module": "@jupyter-widgets/controls",
          "model_name": "HTMLModel",
          "model_module_version": "1.5.0",
          "state": {
            "_dom_classes": [],
            "_model_module": "@jupyter-widgets/controls",
            "_model_module_version": "1.5.0",
            "_model_name": "HTMLModel",
            "_view_count": null,
            "_view_module": "@jupyter-widgets/controls",
            "_view_module_version": "1.5.0",
            "_view_name": "HTMLView",
            "description": "",
            "description_tooltip": null,
            "layout": "IPY_MODEL_29128dc45b8b48789a5d0ba1b41f13cf",
            "placeholder": "​",
            "style": "IPY_MODEL_dad1309f7ff04a1eab305beb1a61eb78",
            "value": "Downloading (…)lve/main/config.json: 100%"
          }
        },
        "3f535d53b3a549a8962704a7d9d4d74a": {
          "model_module": "@jupyter-widgets/controls",
          "model_name": "FloatProgressModel",
          "model_module_version": "1.5.0",
          "state": {
            "_dom_classes": [],
            "_model_module": "@jupyter-widgets/controls",
            "_model_module_version": "1.5.0",
            "_model_name": "FloatProgressModel",
            "_view_count": null,
            "_view_module": "@jupyter-widgets/controls",
            "_view_module_version": "1.5.0",
            "_view_name": "ProgressView",
            "bar_style": "success",
            "description": "",
            "description_tooltip": null,
            "layout": "IPY_MODEL_5f3b4a3245cd43d481890549b2e48a48",
            "max": 608,
            "min": 0,
            "orientation": "horizontal",
            "style": "IPY_MODEL_ff2be50391e54ef6ba93b296127fe114",
            "value": 608
          }
        },
        "6bd10d6352ab407698bebe7f7f68127d": {
          "model_module": "@jupyter-widgets/controls",
          "model_name": "HTMLModel",
          "model_module_version": "1.5.0",
          "state": {
            "_dom_classes": [],
            "_model_module": "@jupyter-widgets/controls",
            "_model_module_version": "1.5.0",
            "_model_name": "HTMLModel",
            "_view_count": null,
            "_view_module": "@jupyter-widgets/controls",
            "_view_module_version": "1.5.0",
            "_view_name": "HTMLView",
            "description": "",
            "description_tooltip": null,
            "layout": "IPY_MODEL_0808734fe45849828137dbb534fe0321",
            "placeholder": "​",
            "style": "IPY_MODEL_8957fe197b844c5b9fb5301c770ad213",
            "value": " 608/608 [00:00&lt;00:00, 15.1kB/s]"
          }
        },
        "e7621431cdbb4155a552718373b18d30": {
          "model_module": "@jupyter-widgets/base",
          "model_name": "LayoutModel",
          "model_module_version": "1.2.0",
          "state": {
            "_model_module": "@jupyter-widgets/base",
            "_model_module_version": "1.2.0",
            "_model_name": "LayoutModel",
            "_view_count": null,
            "_view_module": "@jupyter-widgets/base",
            "_view_module_version": "1.2.0",
            "_view_name": "LayoutView",
            "align_content": null,
            "align_items": null,
            "align_self": null,
            "border": null,
            "bottom": null,
            "display": null,
            "flex": null,
            "flex_flow": null,
            "grid_area": null,
            "grid_auto_columns": null,
            "grid_auto_flow": null,
            "grid_auto_rows": null,
            "grid_column": null,
            "grid_gap": null,
            "grid_row": null,
            "grid_template_areas": null,
            "grid_template_columns": null,
            "grid_template_rows": null,
            "height": null,
            "justify_content": null,
            "justify_items": null,
            "left": null,
            "margin": null,
            "max_height": null,
            "max_width": null,
            "min_height": null,
            "min_width": null,
            "object_fit": null,
            "object_position": null,
            "order": null,
            "overflow": null,
            "overflow_x": null,
            "overflow_y": null,
            "padding": null,
            "right": null,
            "top": null,
            "visibility": null,
            "width": null
          }
        },
        "29128dc45b8b48789a5d0ba1b41f13cf": {
          "model_module": "@jupyter-widgets/base",
          "model_name": "LayoutModel",
          "model_module_version": "1.2.0",
          "state": {
            "_model_module": "@jupyter-widgets/base",
            "_model_module_version": "1.2.0",
            "_model_name": "LayoutModel",
            "_view_count": null,
            "_view_module": "@jupyter-widgets/base",
            "_view_module_version": "1.2.0",
            "_view_name": "LayoutView",
            "align_content": null,
            "align_items": null,
            "align_self": null,
            "border": null,
            "bottom": null,
            "display": null,
            "flex": null,
            "flex_flow": null,
            "grid_area": null,
            "grid_auto_columns": null,
            "grid_auto_flow": null,
            "grid_auto_rows": null,
            "grid_column": null,
            "grid_gap": null,
            "grid_row": null,
            "grid_template_areas": null,
            "grid_template_columns": null,
            "grid_template_rows": null,
            "height": null,
            "justify_content": null,
            "justify_items": null,
            "left": null,
            "margin": null,
            "max_height": null,
            "max_width": null,
            "min_height": null,
            "min_width": null,
            "object_fit": null,
            "object_position": null,
            "order": null,
            "overflow": null,
            "overflow_x": null,
            "overflow_y": null,
            "padding": null,
            "right": null,
            "top": null,
            "visibility": null,
            "width": null
          }
        },
        "dad1309f7ff04a1eab305beb1a61eb78": {
          "model_module": "@jupyter-widgets/controls",
          "model_name": "DescriptionStyleModel",
          "model_module_version": "1.5.0",
          "state": {
            "_model_module": "@jupyter-widgets/controls",
            "_model_module_version": "1.5.0",
            "_model_name": "DescriptionStyleModel",
            "_view_count": null,
            "_view_module": "@jupyter-widgets/base",
            "_view_module_version": "1.2.0",
            "_view_name": "StyleView",
            "description_width": ""
          }
        },
        "5f3b4a3245cd43d481890549b2e48a48": {
          "model_module": "@jupyter-widgets/base",
          "model_name": "LayoutModel",
          "model_module_version": "1.2.0",
          "state": {
            "_model_module": "@jupyter-widgets/base",
            "_model_module_version": "1.2.0",
            "_model_name": "LayoutModel",
            "_view_count": null,
            "_view_module": "@jupyter-widgets/base",
            "_view_module_version": "1.2.0",
            "_view_name": "LayoutView",
            "align_content": null,
            "align_items": null,
            "align_self": null,
            "border": null,
            "bottom": null,
            "display": null,
            "flex": null,
            "flex_flow": null,
            "grid_area": null,
            "grid_auto_columns": null,
            "grid_auto_flow": null,
            "grid_auto_rows": null,
            "grid_column": null,
            "grid_gap": null,
            "grid_row": null,
            "grid_template_areas": null,
            "grid_template_columns": null,
            "grid_template_rows": null,
            "height": null,
            "justify_content": null,
            "justify_items": null,
            "left": null,
            "margin": null,
            "max_height": null,
            "max_width": null,
            "min_height": null,
            "min_width": null,
            "object_fit": null,
            "object_position": null,
            "order": null,
            "overflow": null,
            "overflow_x": null,
            "overflow_y": null,
            "padding": null,
            "right": null,
            "top": null,
            "visibility": null,
            "width": null
          }
        },
        "ff2be50391e54ef6ba93b296127fe114": {
          "model_module": "@jupyter-widgets/controls",
          "model_name": "ProgressStyleModel",
          "model_module_version": "1.5.0",
          "state": {
            "_model_module": "@jupyter-widgets/controls",
            "_model_module_version": "1.5.0",
            "_model_name": "ProgressStyleModel",
            "_view_count": null,
            "_view_module": "@jupyter-widgets/base",
            "_view_module_version": "1.2.0",
            "_view_name": "StyleView",
            "bar_color": null,
            "description_width": ""
          }
        },
        "0808734fe45849828137dbb534fe0321": {
          "model_module": "@jupyter-widgets/base",
          "model_name": "LayoutModel",
          "model_module_version": "1.2.0",
          "state": {
            "_model_module": "@jupyter-widgets/base",
            "_model_module_version": "1.2.0",
            "_model_name": "LayoutModel",
            "_view_count": null,
            "_view_module": "@jupyter-widgets/base",
            "_view_module_version": "1.2.0",
            "_view_name": "LayoutView",
            "align_content": null,
            "align_items": null,
            "align_self": null,
            "border": null,
            "bottom": null,
            "display": null,
            "flex": null,
            "flex_flow": null,
            "grid_area": null,
            "grid_auto_columns": null,
            "grid_auto_flow": null,
            "grid_auto_rows": null,
            "grid_column": null,
            "grid_gap": null,
            "grid_row": null,
            "grid_template_areas": null,
            "grid_template_columns": null,
            "grid_template_rows": null,
            "height": null,
            "justify_content": null,
            "justify_items": null,
            "left": null,
            "margin": null,
            "max_height": null,
            "max_width": null,
            "min_height": null,
            "min_width": null,
            "object_fit": null,
            "object_position": null,
            "order": null,
            "overflow": null,
            "overflow_x": null,
            "overflow_y": null,
            "padding": null,
            "right": null,
            "top": null,
            "visibility": null,
            "width": null
          }
        },
        "8957fe197b844c5b9fb5301c770ad213": {
          "model_module": "@jupyter-widgets/controls",
          "model_name": "DescriptionStyleModel",
          "model_module_version": "1.5.0",
          "state": {
            "_model_module": "@jupyter-widgets/controls",
            "_model_module_version": "1.5.0",
            "_model_name": "DescriptionStyleModel",
            "_view_count": null,
            "_view_module": "@jupyter-widgets/base",
            "_view_module_version": "1.2.0",
            "_view_name": "StyleView",
            "description_width": ""
          }
        },
        "64089fc46f4941cf9d8546ec4accc25d": {
          "model_module": "@jupyter-widgets/controls",
          "model_name": "HBoxModel",
          "model_module_version": "1.5.0",
          "state": {
            "_dom_classes": [],
            "_model_module": "@jupyter-widgets/controls",
            "_model_module_version": "1.5.0",
            "_model_name": "HBoxModel",
            "_view_count": null,
            "_view_module": "@jupyter-widgets/controls",
            "_view_module_version": "1.5.0",
            "_view_name": "HBoxView",
            "box_style": "",
            "children": [
              "IPY_MODEL_eb38812977014900a9bec88f27f31527",
              "IPY_MODEL_d4261a94786540dd8706a8e6f9f99159",
              "IPY_MODEL_405d7a215fe140c69b10b7f9627731b5"
            ],
            "layout": "IPY_MODEL_5a47e071a2754d3496656e3454c56109"
          }
        },
        "eb38812977014900a9bec88f27f31527": {
          "model_module": "@jupyter-widgets/controls",
          "model_name": "HTMLModel",
          "model_module_version": "1.5.0",
          "state": {
            "_dom_classes": [],
            "_model_module": "@jupyter-widgets/controls",
            "_model_module_version": "1.5.0",
            "_model_name": "HTMLModel",
            "_view_count": null,
            "_view_module": "@jupyter-widgets/controls",
            "_view_module_version": "1.5.0",
            "_view_name": "HTMLView",
            "description": "",
            "description_tooltip": null,
            "layout": "IPY_MODEL_720f19a4af30489c9322e654866b5938",
            "placeholder": "​",
            "style": "IPY_MODEL_e906134d96a94198a626fc48c1f0afc0",
            "value": "Downloading pytorch_model.bin: 100%"
          }
        },
        "d4261a94786540dd8706a8e6f9f99159": {
          "model_module": "@jupyter-widgets/controls",
          "model_name": "FloatProgressModel",
          "model_module_version": "1.5.0",
          "state": {
            "_dom_classes": [],
            "_model_module": "@jupyter-widgets/controls",
            "_model_module_version": "1.5.0",
            "_model_name": "FloatProgressModel",
            "_view_count": null,
            "_view_module": "@jupyter-widgets/controls",
            "_view_module_version": "1.5.0",
            "_view_name": "ProgressView",
            "bar_style": "success",
            "description": "",
            "description_tooltip": null,
            "layout": "IPY_MODEL_9cc3190485c94756a1bc1c0ec242bf69",
            "max": 551290714,
            "min": 0,
            "orientation": "horizontal",
            "style": "IPY_MODEL_179c5e1e845d4074aa3767b3453f0115",
            "value": 551290714
          }
        },
        "405d7a215fe140c69b10b7f9627731b5": {
          "model_module": "@jupyter-widgets/controls",
          "model_name": "HTMLModel",
          "model_module_version": "1.5.0",
          "state": {
            "_dom_classes": [],
            "_model_module": "@jupyter-widgets/controls",
            "_model_module_version": "1.5.0",
            "_model_name": "HTMLModel",
            "_view_count": null,
            "_view_module": "@jupyter-widgets/controls",
            "_view_module_version": "1.5.0",
            "_view_name": "HTMLView",
            "description": "",
            "description_tooltip": null,
            "layout": "IPY_MODEL_cd3adac4f1414cb6aed87fdcf7e5819b",
            "placeholder": "​",
            "style": "IPY_MODEL_e2f87c2d6e664954af0bb9acacda510c",
            "value": " 551M/551M [00:32&lt;00:00, 17.0MB/s]"
          }
        },
        "5a47e071a2754d3496656e3454c56109": {
          "model_module": "@jupyter-widgets/base",
          "model_name": "LayoutModel",
          "model_module_version": "1.2.0",
          "state": {
            "_model_module": "@jupyter-widgets/base",
            "_model_module_version": "1.2.0",
            "_model_name": "LayoutModel",
            "_view_count": null,
            "_view_module": "@jupyter-widgets/base",
            "_view_module_version": "1.2.0",
            "_view_name": "LayoutView",
            "align_content": null,
            "align_items": null,
            "align_self": null,
            "border": null,
            "bottom": null,
            "display": null,
            "flex": null,
            "flex_flow": null,
            "grid_area": null,
            "grid_auto_columns": null,
            "grid_auto_flow": null,
            "grid_auto_rows": null,
            "grid_column": null,
            "grid_gap": null,
            "grid_row": null,
            "grid_template_areas": null,
            "grid_template_columns": null,
            "grid_template_rows": null,
            "height": null,
            "justify_content": null,
            "justify_items": null,
            "left": null,
            "margin": null,
            "max_height": null,
            "max_width": null,
            "min_height": null,
            "min_width": null,
            "object_fit": null,
            "object_position": null,
            "order": null,
            "overflow": null,
            "overflow_x": null,
            "overflow_y": null,
            "padding": null,
            "right": null,
            "top": null,
            "visibility": null,
            "width": null
          }
        },
        "720f19a4af30489c9322e654866b5938": {
          "model_module": "@jupyter-widgets/base",
          "model_name": "LayoutModel",
          "model_module_version": "1.2.0",
          "state": {
            "_model_module": "@jupyter-widgets/base",
            "_model_module_version": "1.2.0",
            "_model_name": "LayoutModel",
            "_view_count": null,
            "_view_module": "@jupyter-widgets/base",
            "_view_module_version": "1.2.0",
            "_view_name": "LayoutView",
            "align_content": null,
            "align_items": null,
            "align_self": null,
            "border": null,
            "bottom": null,
            "display": null,
            "flex": null,
            "flex_flow": null,
            "grid_area": null,
            "grid_auto_columns": null,
            "grid_auto_flow": null,
            "grid_auto_rows": null,
            "grid_column": null,
            "grid_gap": null,
            "grid_row": null,
            "grid_template_areas": null,
            "grid_template_columns": null,
            "grid_template_rows": null,
            "height": null,
            "justify_content": null,
            "justify_items": null,
            "left": null,
            "margin": null,
            "max_height": null,
            "max_width": null,
            "min_height": null,
            "min_width": null,
            "object_fit": null,
            "object_position": null,
            "order": null,
            "overflow": null,
            "overflow_x": null,
            "overflow_y": null,
            "padding": null,
            "right": null,
            "top": null,
            "visibility": null,
            "width": null
          }
        },
        "e906134d96a94198a626fc48c1f0afc0": {
          "model_module": "@jupyter-widgets/controls",
          "model_name": "DescriptionStyleModel",
          "model_module_version": "1.5.0",
          "state": {
            "_model_module": "@jupyter-widgets/controls",
            "_model_module_version": "1.5.0",
            "_model_name": "DescriptionStyleModel",
            "_view_count": null,
            "_view_module": "@jupyter-widgets/base",
            "_view_module_version": "1.2.0",
            "_view_name": "StyleView",
            "description_width": ""
          }
        },
        "9cc3190485c94756a1bc1c0ec242bf69": {
          "model_module": "@jupyter-widgets/base",
          "model_name": "LayoutModel",
          "model_module_version": "1.2.0",
          "state": {
            "_model_module": "@jupyter-widgets/base",
            "_model_module_version": "1.2.0",
            "_model_name": "LayoutModel",
            "_view_count": null,
            "_view_module": "@jupyter-widgets/base",
            "_view_module_version": "1.2.0",
            "_view_name": "LayoutView",
            "align_content": null,
            "align_items": null,
            "align_self": null,
            "border": null,
            "bottom": null,
            "display": null,
            "flex": null,
            "flex_flow": null,
            "grid_area": null,
            "grid_auto_columns": null,
            "grid_auto_flow": null,
            "grid_auto_rows": null,
            "grid_column": null,
            "grid_gap": null,
            "grid_row": null,
            "grid_template_areas": null,
            "grid_template_columns": null,
            "grid_template_rows": null,
            "height": null,
            "justify_content": null,
            "justify_items": null,
            "left": null,
            "margin": null,
            "max_height": null,
            "max_width": null,
            "min_height": null,
            "min_width": null,
            "object_fit": null,
            "object_position": null,
            "order": null,
            "overflow": null,
            "overflow_x": null,
            "overflow_y": null,
            "padding": null,
            "right": null,
            "top": null,
            "visibility": null,
            "width": null
          }
        },
        "179c5e1e845d4074aa3767b3453f0115": {
          "model_module": "@jupyter-widgets/controls",
          "model_name": "ProgressStyleModel",
          "model_module_version": "1.5.0",
          "state": {
            "_model_module": "@jupyter-widgets/controls",
            "_model_module_version": "1.5.0",
            "_model_name": "ProgressStyleModel",
            "_view_count": null,
            "_view_module": "@jupyter-widgets/base",
            "_view_module_version": "1.2.0",
            "_view_name": "StyleView",
            "bar_color": null,
            "description_width": ""
          }
        },
        "cd3adac4f1414cb6aed87fdcf7e5819b": {
          "model_module": "@jupyter-widgets/base",
          "model_name": "LayoutModel",
          "model_module_version": "1.2.0",
          "state": {
            "_model_module": "@jupyter-widgets/base",
            "_model_module_version": "1.2.0",
            "_model_name": "LayoutModel",
            "_view_count": null,
            "_view_module": "@jupyter-widgets/base",
            "_view_module_version": "1.2.0",
            "_view_name": "LayoutView",
            "align_content": null,
            "align_items": null,
            "align_self": null,
            "border": null,
            "bottom": null,
            "display": null,
            "flex": null,
            "flex_flow": null,
            "grid_area": null,
            "grid_auto_columns": null,
            "grid_auto_flow": null,
            "grid_auto_rows": null,
            "grid_column": null,
            "grid_gap": null,
            "grid_row": null,
            "grid_template_areas": null,
            "grid_template_columns": null,
            "grid_template_rows": null,
            "height": null,
            "justify_content": null,
            "justify_items": null,
            "left": null,
            "margin": null,
            "max_height": null,
            "max_width": null,
            "min_height": null,
            "min_width": null,
            "object_fit": null,
            "object_position": null,
            "order": null,
            "overflow": null,
            "overflow_x": null,
            "overflow_y": null,
            "padding": null,
            "right": null,
            "top": null,
            "visibility": null,
            "width": null
          }
        },
        "e2f87c2d6e664954af0bb9acacda510c": {
          "model_module": "@jupyter-widgets/controls",
          "model_name": "DescriptionStyleModel",
          "model_module_version": "1.5.0",
          "state": {
            "_model_module": "@jupyter-widgets/controls",
            "_model_module_version": "1.5.0",
            "_model_name": "DescriptionStyleModel",
            "_view_count": null,
            "_view_module": "@jupyter-widgets/base",
            "_view_module_version": "1.2.0",
            "_view_name": "StyleView",
            "description_width": ""
          }
        }
      }
    }
  },
  "nbformat": 4,
  "nbformat_minor": 5
}