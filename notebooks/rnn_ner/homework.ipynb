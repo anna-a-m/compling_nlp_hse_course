{
  "cells": [
    {
      "cell_type": "markdown",
      "id": "1bf6f873",
      "metadata": {
        "id": "1bf6f873"
      },
      "source": [
        "# Домашнее задание № 8"
      ]
    },
    {
      "cell_type": "markdown",
      "id": "3b4bd487",
      "metadata": {
        "id": "3b4bd487"
      },
      "source": [
        "## Задание 1 (4 балла)"
      ]
    },
    {
      "cell_type": "markdown",
      "id": "bf4c4f87",
      "metadata": {
        "id": "bf4c4f87"
      },
      "source": [
        "Обучите 8 моделей для задачи классификации текста (датасет - lenta_40k ). А именно:\n",
        "1) модель с 1 GRU слоем;\n",
        "2) модель с 1 LSTM слоем\n",
        "3) модель с 1 GRU и 1 LSTM слоем\n",
        "4) модель с 1 BIGRU и 2 LSTM слоями\n",
        "5) модель с 5 GRU слоями и 3 LSTM слоями\n",
        "6) модель 1 BIGRU и 1 BILSTM слоями, причем так чтобы модели для forward и backward прохода отличались\n",
        "7) модель, где последовательно идут слои: LSTM, GRU, BILSTM, BIGRU, GRU, LSTM\n",
        "\n",
        "\n",
        "\n",
        "Параметр units и размер эмбединга можете задать любой. Оцените качество каждой модели и определите победителя."
      ]
    },
    {
      "cell_type": "markdown",
      "id": "83251c9f",
      "metadata": {
        "id": "83251c9f"
      },
      "source": [
        "**Подгрузка данных**"
      ]
    },
    {
      "cell_type": "code",
      "execution_count": 2,
      "id": "83db6635",
      "metadata": {
        "id": "83db6635"
      },
      "outputs": [],
      "source": [
        "import pandas as pd\n",
        "data = pd.read_csv('lenta_40k.csv.zip')\n",
        "data.dropna(subset=['topic', 'text'], inplace=True)"
      ]
    },
    {
      "cell_type": "code",
      "execution_count": 3,
      "id": "50362f6e",
      "metadata": {
        "colab": {
          "base_uri": "https://localhost:8080/",
          "height": 206
        },
        "id": "50362f6e",
        "outputId": "eea4d00a-423d-4068-9d6c-2102b7780cc8"
      },
      "outputs": [
        {
          "output_type": "execute_result",
          "data": {
            "text/plain": [
              "                                                text           topic\n",
              "0  Россия должна сотрудничать с Всемирным антидоп...           Спорт\n",
              "1  Уголовный суд Кувейта 28 июня освободил под за...             Мир\n",
              "2  Французский журнал Charlie Hebdo опубликовал н...  Интернет и СМИ\n",
              "3  В Петербурге в доме № 53 по улице Лени Голиков...          Россия\n",
              "4  В московском аэропорту \"Домодедово\" задержан г...          Россия"
            ],
            "text/html": [
              "\n",
              "  <div id=\"df-41f0c532-1067-4071-b1f1-7a2108f1cfa4\">\n",
              "    <div class=\"colab-df-container\">\n",
              "      <div>\n",
              "<style scoped>\n",
              "    .dataframe tbody tr th:only-of-type {\n",
              "        vertical-align: middle;\n",
              "    }\n",
              "\n",
              "    .dataframe tbody tr th {\n",
              "        vertical-align: top;\n",
              "    }\n",
              "\n",
              "    .dataframe thead th {\n",
              "        text-align: right;\n",
              "    }\n",
              "</style>\n",
              "<table border=\"1\" class=\"dataframe\">\n",
              "  <thead>\n",
              "    <tr style=\"text-align: right;\">\n",
              "      <th></th>\n",
              "      <th>text</th>\n",
              "      <th>topic</th>\n",
              "    </tr>\n",
              "  </thead>\n",
              "  <tbody>\n",
              "    <tr>\n",
              "      <th>0</th>\n",
              "      <td>Россия должна сотрудничать с Всемирным антидоп...</td>\n",
              "      <td>Спорт</td>\n",
              "    </tr>\n",
              "    <tr>\n",
              "      <th>1</th>\n",
              "      <td>Уголовный суд Кувейта 28 июня освободил под за...</td>\n",
              "      <td>Мир</td>\n",
              "    </tr>\n",
              "    <tr>\n",
              "      <th>2</th>\n",
              "      <td>Французский журнал Charlie Hebdo опубликовал н...</td>\n",
              "      <td>Интернет и СМИ</td>\n",
              "    </tr>\n",
              "    <tr>\n",
              "      <th>3</th>\n",
              "      <td>В Петербурге в доме № 53 по улице Лени Голиков...</td>\n",
              "      <td>Россия</td>\n",
              "    </tr>\n",
              "    <tr>\n",
              "      <th>4</th>\n",
              "      <td>В московском аэропорту \"Домодедово\" задержан г...</td>\n",
              "      <td>Россия</td>\n",
              "    </tr>\n",
              "  </tbody>\n",
              "</table>\n",
              "</div>\n",
              "      <button class=\"colab-df-convert\" onclick=\"convertToInteractive('df-41f0c532-1067-4071-b1f1-7a2108f1cfa4')\"\n",
              "              title=\"Convert this dataframe to an interactive table.\"\n",
              "              style=\"display:none;\">\n",
              "        \n",
              "  <svg xmlns=\"http://www.w3.org/2000/svg\" height=\"24px\"viewBox=\"0 0 24 24\"\n",
              "       width=\"24px\">\n",
              "    <path d=\"M0 0h24v24H0V0z\" fill=\"none\"/>\n",
              "    <path d=\"M18.56 5.44l.94 2.06.94-2.06 2.06-.94-2.06-.94-.94-2.06-.94 2.06-2.06.94zm-11 1L8.5 8.5l.94-2.06 2.06-.94-2.06-.94L8.5 2.5l-.94 2.06-2.06.94zm10 10l.94 2.06.94-2.06 2.06-.94-2.06-.94-.94-2.06-.94 2.06-2.06.94z\"/><path d=\"M17.41 7.96l-1.37-1.37c-.4-.4-.92-.59-1.43-.59-.52 0-1.04.2-1.43.59L10.3 9.45l-7.72 7.72c-.78.78-.78 2.05 0 2.83L4 21.41c.39.39.9.59 1.41.59.51 0 1.02-.2 1.41-.59l7.78-7.78 2.81-2.81c.8-.78.8-2.07 0-2.86zM5.41 20L4 18.59l7.72-7.72 1.47 1.35L5.41 20z\"/>\n",
              "  </svg>\n",
              "      </button>\n",
              "      \n",
              "  <style>\n",
              "    .colab-df-container {\n",
              "      display:flex;\n",
              "      flex-wrap:wrap;\n",
              "      gap: 12px;\n",
              "    }\n",
              "\n",
              "    .colab-df-convert {\n",
              "      background-color: #E8F0FE;\n",
              "      border: none;\n",
              "      border-radius: 50%;\n",
              "      cursor: pointer;\n",
              "      display: none;\n",
              "      fill: #1967D2;\n",
              "      height: 32px;\n",
              "      padding: 0 0 0 0;\n",
              "      width: 32px;\n",
              "    }\n",
              "\n",
              "    .colab-df-convert:hover {\n",
              "      background-color: #E2EBFA;\n",
              "      box-shadow: 0px 1px 2px rgba(60, 64, 67, 0.3), 0px 1px 3px 1px rgba(60, 64, 67, 0.15);\n",
              "      fill: #174EA6;\n",
              "    }\n",
              "\n",
              "    [theme=dark] .colab-df-convert {\n",
              "      background-color: #3B4455;\n",
              "      fill: #D2E3FC;\n",
              "    }\n",
              "\n",
              "    [theme=dark] .colab-df-convert:hover {\n",
              "      background-color: #434B5C;\n",
              "      box-shadow: 0px 1px 3px 1px rgba(0, 0, 0, 0.15);\n",
              "      filter: drop-shadow(0px 1px 2px rgba(0, 0, 0, 0.3));\n",
              "      fill: #FFFFFF;\n",
              "    }\n",
              "  </style>\n",
              "\n",
              "      <script>\n",
              "        const buttonEl =\n",
              "          document.querySelector('#df-41f0c532-1067-4071-b1f1-7a2108f1cfa4 button.colab-df-convert');\n",
              "        buttonEl.style.display =\n",
              "          google.colab.kernel.accessAllowed ? 'block' : 'none';\n",
              "\n",
              "        async function convertToInteractive(key) {\n",
              "          const element = document.querySelector('#df-41f0c532-1067-4071-b1f1-7a2108f1cfa4');\n",
              "          const dataTable =\n",
              "            await google.colab.kernel.invokeFunction('convertToInteractive',\n",
              "                                                     [key], {});\n",
              "          if (!dataTable) return;\n",
              "\n",
              "          const docLinkHtml = 'Like what you see? Visit the ' +\n",
              "            '<a target=\"_blank\" href=https://colab.research.google.com/notebooks/data_table.ipynb>data table notebook</a>'\n",
              "            + ' to learn more about interactive tables.';\n",
              "          element.innerHTML = '';\n",
              "          dataTable['output_type'] = 'display_data';\n",
              "          await google.colab.output.renderOutput(dataTable, element);\n",
              "          const docLink = document.createElement('div');\n",
              "          docLink.innerHTML = docLinkHtml;\n",
              "          element.appendChild(docLink);\n",
              "        }\n",
              "      </script>\n",
              "    </div>\n",
              "  </div>\n",
              "  "
            ]
          },
          "metadata": {},
          "execution_count": 3
        }
      ],
      "source": [
        "data.head()"
      ]
    },
    {
      "cell_type": "markdown",
      "id": "395d1d84",
      "metadata": {
        "id": "395d1d84"
      },
      "source": [
        "**Вспомогательное**"
      ]
    },
    {
      "cell_type": "code",
      "execution_count": 4,
      "id": "96feb8ba",
      "metadata": {
        "id": "96feb8ba"
      },
      "outputs": [],
      "source": [
        "import tensorflow as tf"
      ]
    },
    {
      "cell_type": "code",
      "execution_count": 32,
      "id": "11d8b3b4",
      "metadata": {
        "id": "11d8b3b4"
      },
      "outputs": [],
      "source": [
        "from tensorflow.keras import backend as K\n",
        "\n",
        "def f1(y_true, y_pred):\n",
        "\n",
        "    def recall(y_true, y_pred):\n",
        "        true_positives = K.sum(K.round(K.clip(y_true * y_pred, 0, 1)))\n",
        "        possible_positives = K.sum(K.round(K.clip(y_true, 0, 1)))\n",
        "        recall = true_positives / (possible_positives + K.epsilon())\n",
        "        return recall\n",
        "\n",
        "    def precision(y_true, y_pred):\n",
        "        true_positives = K.sum(K.round(K.clip(y_true * y_pred, 0, 1)))\n",
        "        predicted_positives = K.sum(K.round(K.clip(y_pred, 0, 1)))\n",
        "        precision = true_positives / (predicted_positives + K.epsilon())\n",
        "        return precision\n",
        "\n",
        "    precision = precision(y_true, y_pred)\n",
        "    recall = recall(y_true, y_pred)\n",
        "    return 2*((precision*recall)/(precision+recall+K.epsilon()))"
      ]
    },
    {
      "cell_type": "markdown",
      "id": "add0a1fd",
      "metadata": {
        "id": "add0a1fd"
      },
      "source": [
        "**Обработка данных**"
      ]
    },
    {
      "cell_type": "code",
      "execution_count": 16,
      "id": "e4481e4d",
      "metadata": {
        "id": "e4481e4d"
      },
      "outputs": [],
      "source": [
        "from collections import Counter\n",
        "from string import punctuation\n",
        "\n",
        "def preprocess(text):\n",
        "    tokens = text.lower().split()\n",
        "    tokens = [token.strip(punctuation) for token in tokens]\n",
        "    return tokens\n",
        "\n",
        "vocab = Counter()\n",
        "\n",
        "data['preprocess'] = data.text.apply(preprocess)\n",
        "\n",
        "for text in data.preprocess:\n",
        "    vocab.update(text)\n",
        "\n",
        "filtered_vocab = set([word for word in vocab if vocab[word] > 30])\n",
        "word2id = {word: i + 1 for i, word in enumerate(filtered_vocab)}\n",
        "word2id['PAD'] = 0\n",
        "id2word = {i: word for word, i in word2id.items()}\n",
        "\n",
        "def text_in_idx_generator(texts):\n",
        "    global word2id\n",
        "    for l in texts:\n",
        "        yield [word2id[token] for token in l if token in word2id]\n",
        "\n",
        "X = list(text_in_idx_generator(data.preprocess))\n",
        "MAX_LEN = 200\n",
        "X = tf.keras.preprocessing.sequence.pad_sequences(X, maxlen=MAX_LEN)"
      ]
    },
    {
      "cell_type": "code",
      "execution_count": 17,
      "id": "8556b5c0",
      "metadata": {
        "id": "8556b5c0"
      },
      "outputs": [],
      "source": [
        "id2label = {i:label for i, label in enumerate(set(data.topic.values))}\n",
        "label2id = {l:i for i, l in id2label.items()}\n",
        "y = tf.keras.utils.to_categorical([label2id[label] for label in data.topic.values])"
      ]
    },
    {
      "cell_type": "markdown",
      "id": "f7085ce6",
      "metadata": {
        "id": "f7085ce6"
      },
      "source": [
        "**Обучающая + тестовая выборки**"
      ]
    },
    {
      "cell_type": "code",
      "execution_count": 18,
      "id": "7178871d",
      "metadata": {
        "id": "7178871d"
      },
      "outputs": [],
      "source": [
        "from sklearn.model_selection import train_test_split\n",
        "X_train, X_valid, y_train, y_valid = train_test_split(X, y, test_size=0.05, stratify=y)"
      ]
    },
    {
      "cell_type": "markdown",
      "id": "9507ffcb",
      "metadata": {
        "id": "9507ffcb"
      },
      "source": [
        "**модель с 1 GRU слоем**"
      ]
    },
    {
      "cell_type": "code",
      "execution_count": 34,
      "id": "4c0f0a7e",
      "metadata": {
        "id": "4c0f0a7e"
      },
      "outputs": [],
      "source": [
        "inputs = tf.keras.layers.Input(shape=(MAX_LEN,))\n",
        "embeddings = tf.keras.layers.Embedding(input_dim=len(word2id), output_dim=30)(inputs, )\n",
        "rnn = tf.keras.layers.GRU(128, return_sequences=False)(embeddings)\n",
        "\n",
        "outputs = tf.keras.layers.Dense(len(label2id), activation='softmax')(rnn)\n",
        "\n",
        "model1 = tf.keras.Model(inputs=inputs, outputs=outputs)\n",
        "optimizer = tf.keras.optimizers.Adam(learning_rate=0.001)\n",
        "model1.compile(optimizer=optimizer,\n",
        "              loss='categorical_crossentropy',\n",
        "              metrics=[f1,\n",
        "                       tf.keras.metrics.RecallAtPrecision(0.8, name='rec@prec')])"
      ]
    },
    {
      "cell_type": "markdown",
      "id": "e25a0a80",
      "metadata": {
        "id": "e25a0a80"
      },
      "source": [
        "**модель с 1 LSTM слоем**"
      ]
    },
    {
      "cell_type": "code",
      "execution_count": 35,
      "id": "8e57ce4d",
      "metadata": {
        "id": "8e57ce4d"
      },
      "outputs": [],
      "source": [
        "inputs = tf.keras.layers.Input(shape=(MAX_LEN,))\n",
        "embeddings = tf.keras.layers.Embedding(input_dim=len(word2id), output_dim=30)(inputs, )\n",
        "rnn = tf.keras.layers.LSTM(128, return_sequences=False)(embeddings)\n",
        "\n",
        "outputs = tf.keras.layers.Dense(len(label2id), activation='softmax')(rnn)\n",
        "\n",
        "model2 = tf.keras.Model(inputs=inputs, outputs=outputs)\n",
        "optimizer = tf.keras.optimizers.Adam(learning_rate=0.001)\n",
        "model2.compile(optimizer=optimizer,\n",
        "              loss='categorical_crossentropy',\n",
        "              metrics=[f1,\n",
        "                       tf.keras.metrics.RecallAtPrecision(0.8, name='rec@prec')])"
      ]
    },
    {
      "cell_type": "markdown",
      "id": "22a97a77",
      "metadata": {
        "id": "22a97a77"
      },
      "source": [
        "**модель с 1 GRU и 1 LSTM слоем**"
      ]
    },
    {
      "cell_type": "code",
      "execution_count": 36,
      "id": "2b396dad",
      "metadata": {
        "id": "2b396dad"
      },
      "outputs": [],
      "source": [
        "inputs = tf.keras.layers.Input(shape=(MAX_LEN,))\n",
        "embeddings = tf.keras.layers.Embedding(input_dim=len(word2id), output_dim=30)(inputs, )\n",
        "rnn = tf.keras.layers.GRU(128, return_sequences=True)(embeddings)\n",
        "rnn = tf.keras.layers.LSTM(128, return_sequences=False)(rnn)\n",
        "\n",
        "outputs = tf.keras.layers.Dense(len(label2id), activation='softmax')(rnn)\n",
        "\n",
        "model3 = tf.keras.Model(inputs=inputs, outputs=outputs)\n",
        "optimizer = tf.keras.optimizers.Adam(learning_rate=0.001)\n",
        "model3.compile(optimizer=optimizer,\n",
        "              loss='categorical_crossentropy',\n",
        "              metrics=[f1,\n",
        "                       tf.keras.metrics.RecallAtPrecision(0.8, name='rec@prec')])"
      ]
    },
    {
      "cell_type": "markdown",
      "id": "0657b362",
      "metadata": {
        "id": "0657b362"
      },
      "source": [
        "**модель с 1 BIGRU и 2 LSTM слоями**"
      ]
    },
    {
      "cell_type": "code",
      "execution_count": 37,
      "id": "a4bdae5a",
      "metadata": {
        "id": "a4bdae5a"
      },
      "outputs": [],
      "source": [
        "inputs = tf.keras.layers.Input(shape=(MAX_LEN,))\n",
        "embeddings = tf.keras.layers.Embedding(input_dim=len(word2id), output_dim=30)(inputs, )\n",
        "rnn = tf.keras.layers.Bidirectional(tf.keras.layers.GRU(128, return_sequences=True))(embeddings)\n",
        "rnn = tf.keras.layers.LSTM(128, return_sequences=True)(rnn)\n",
        "rnn = tf.keras.layers.LSTM(128, return_sequences=False)(rnn)\n",
        "\n",
        "outputs = tf.keras.layers.Dense(len(label2id), activation='softmax')(rnn)\n",
        "\n",
        "model4 = tf.keras.Model(inputs=inputs, outputs=outputs)\n",
        "optimizer = tf.keras.optimizers.Adam(learning_rate=0.001)\n",
        "model4.compile(optimizer=optimizer,\n",
        "              loss='categorical_crossentropy',\n",
        "              metrics=[f1,\n",
        "                       tf.keras.metrics.RecallAtPrecision(0.8, name='rec@prec')])"
      ]
    },
    {
      "cell_type": "markdown",
      "id": "0c8ed658",
      "metadata": {
        "id": "0c8ed658"
      },
      "source": [
        "**модель с 5 GRU слоями и 3 LSTM слоями**"
      ]
    },
    {
      "cell_type": "code",
      "execution_count": 38,
      "id": "9b10257b",
      "metadata": {
        "id": "9b10257b"
      },
      "outputs": [],
      "source": [
        "inputs = tf.keras.layers.Input(shape=(MAX_LEN,))\n",
        "embeddings = tf.keras.layers.Embedding(input_dim=len(word2id), output_dim=30)(inputs, )\n",
        "rnn = tf.keras.layers.GRU(128, return_sequences=True)(embeddings)\n",
        "for _ in range(4):\n",
        "    rnn = tf.keras.layers.GRU(128, return_sequences=True)(rnn)\n",
        "for _ in range(2):\n",
        "    rnn = tf.keras.layers.LSTM(128, return_sequences=True)(rnn)\n",
        "rnn = tf.keras.layers.LSTM(128, return_sequences=False)(rnn)\n",
        "\n",
        "outputs = tf.keras.layers.Dense(len(label2id), activation='softmax')(rnn)\n",
        "\n",
        "model5 = tf.keras.Model(inputs=inputs, outputs=outputs)\n",
        "optimizer = tf.keras.optimizers.Adam(learning_rate=0.001)\n",
        "model5.compile(optimizer=optimizer,\n",
        "              loss='categorical_crossentropy',\n",
        "              metrics=[f1,\n",
        "                       tf.keras.metrics.RecallAtPrecision(0.8, name='rec@prec')])"
      ]
    },
    {
      "cell_type": "markdown",
      "id": "c47d1efc",
      "metadata": {
        "id": "c47d1efc"
      },
      "source": [
        "**модель 1 BIGRU и 1 BILSTM слоями**"
      ]
    },
    {
      "cell_type": "code",
      "execution_count": 39,
      "id": "6277da86",
      "metadata": {
        "id": "6277da86"
      },
      "outputs": [],
      "source": [
        "inputs = tf.keras.layers.Input(shape=(MAX_LEN,))\n",
        "embeddings = tf.keras.layers.Embedding(input_dim=len(word2id), output_dim=30)(inputs, )\n",
        "\n",
        "rnn = tf.keras.layers.Bidirectional(tf.keras.layers.GRU(128, return_sequences=True))(embeddings)\n",
        "rnn = tf.keras.layers.Bidirectional(tf.keras.layers.LSTM(128, return_sequences=False))(rnn)\n",
        "\n",
        "outputs = tf.keras.layers.Dense(len(label2id), activation='softmax')(rnn)\n",
        "\n",
        "model6 = tf.keras.Model(inputs=inputs, outputs=outputs)\n",
        "optimizer = tf.keras.optimizers.Adam(learning_rate=0.001)\n",
        "model6.compile(optimizer=optimizer,\n",
        "              loss='categorical_crossentropy',\n",
        "              metrics=[f1,\n",
        "                       tf.keras.metrics.RecallAtPrecision(0.8, name='rec@prec')])"
      ]
    },
    {
      "cell_type": "markdown",
      "id": "74f90744",
      "metadata": {
        "id": "74f90744"
      },
      "source": [
        "**LSTM, GRU, BILSTM, BIGRU, GRU, LSTM**"
      ]
    },
    {
      "cell_type": "code",
      "execution_count": 40,
      "id": "e7913772",
      "metadata": {
        "id": "e7913772"
      },
      "outputs": [],
      "source": [
        "inputs = tf.keras.layers.Input(shape=(MAX_LEN,))\n",
        "embeddings = tf.keras.layers.Embedding(input_dim=len(word2id), output_dim=30)(inputs, )\n",
        "rnn = tf.keras.layers.LSTM(128, return_sequences=True)(embeddings)\n",
        "rnn = tf.keras.layers.GRU(128, return_sequences=True)(rnn)\n",
        "rnn = tf.keras.layers.Bidirectional(tf.keras.layers.LSTM(128, return_sequences=True))(rnn)\n",
        "rnn = tf.keras.layers.Bidirectional(tf.keras.layers.GRU(128, return_sequences=True))(rnn)\n",
        "rnn = tf.keras.layers.LSTM(128, return_sequences=False)(rnn)\n",
        "\n",
        "outputs = tf.keras.layers.Dense(len(label2id), activation='softmax')(rnn)\n",
        "\n",
        "model7 = tf.keras.Model(inputs=inputs, outputs=outputs)\n",
        "optimizer = tf.keras.optimizers.Adam(learning_rate=0.001)\n",
        "model7.compile(optimizer=optimizer,\n",
        "              loss='categorical_crossentropy',\n",
        "              metrics=[f1,\n",
        "                       tf.keras.metrics.RecallAtPrecision(0.8, name='rec@prec')])"
      ]
    },
    {
      "cell_type": "markdown",
      "id": "cb0d1d58",
      "metadata": {
        "id": "cb0d1d58"
      },
      "source": [
        "**Обучение моделей**"
      ]
    },
    {
      "cell_type": "code",
      "execution_count": 41,
      "id": "4ed6b2e6",
      "metadata": {
        "collapsed": true,
        "colab": {
          "base_uri": "https://localhost:8080/"
        },
        "id": "4ed6b2e6",
        "outputId": "f5d89e78-e1a7-4f67-d543-d2237436176c"
      },
      "outputs": [
        {
          "output_type": "stream",
          "name": "stdout",
          "text": [
            "Epoch 1/8\n",
            "211/211 [==============================] - 40s 173ms/step - loss: 2.2685 - f1: 0.0049 - rec@prec: 9.4926e-05 - val_loss: 1.8875 - val_f1: 0.0504 - val_rec@prec: 0.0311\n",
            "Epoch 2/8\n",
            "211/211 [==============================] - 27s 126ms/step - loss: 1.5401 - f1: 0.3309 - rec@prec: 0.1972 - val_loss: 1.3465 - val_f1: 0.5476 - val_rec@prec: 0.4022\n",
            "Epoch 3/8\n",
            "211/211 [==============================] - 17s 80ms/step - loss: 1.0596 - f1: 0.6471 - rec@prec: 0.5598 - val_loss: 1.1835 - val_f1: 0.6481 - val_rec@prec: 0.5302\n",
            "Epoch 4/8\n",
            "211/211 [==============================] - 14s 67ms/step - loss: 0.7302 - f1: 0.7698 - rec@prec: 0.7648 - val_loss: 1.1261 - val_f1: 0.6643 - val_rec@prec: 0.5541\n",
            "Epoch 5/8\n",
            "211/211 [==============================] - 11s 51ms/step - loss: 0.5224 - f1: 0.8395 - rec@prec: 0.8734 - val_loss: 1.1439 - val_f1: 0.6901 - val_rec@prec: 0.5978\n",
            "Epoch 6/8\n",
            "211/211 [==============================] - 9s 42ms/step - loss: 0.3594 - f1: 0.8950 - rec@prec: 0.9400 - val_loss: 1.2208 - val_f1: 0.6931 - val_rec@prec: 0.6069\n",
            "Epoch 7/8\n",
            "211/211 [==============================] - 8s 37ms/step - loss: 0.2532 - f1: 0.9273 - rec@prec: 0.9698 - val_loss: 1.3226 - val_f1: 0.7041 - val_rec@prec: 0.6127\n",
            "Epoch 8/8\n",
            "211/211 [==============================] - 8s 36ms/step - loss: 0.1766 - f1: 0.9517 - rec@prec: 0.9846 - val_loss: 1.4485 - val_f1: 0.6837 - val_rec@prec: 0.5672\n",
            "Epoch 1/8\n",
            "211/211 [==============================] - 36s 161ms/step - loss: 2.2377 - f1: 0.0197 - rec@prec: 0.0145 - val_loss: 1.8588 - val_f1: 0.0913 - val_rec@prec: 0.0789\n",
            "Epoch 2/8\n",
            "211/211 [==============================] - 24s 112ms/step - loss: 1.6237 - f1: 0.3150 - rec@prec: 0.1803 - val_loss: 1.6105 - val_f1: 0.4242 - val_rec@prec: 0.1745\n",
            "Epoch 3/8\n",
            "211/211 [==============================] - 18s 85ms/step - loss: 1.3108 - f1: 0.5258 - rec@prec: 0.3372 - val_loss: 1.3315 - val_f1: 0.5781 - val_rec@prec: 0.3106\n",
            "Epoch 4/8\n",
            "211/211 [==============================] - 14s 64ms/step - loss: 0.9897 - f1: 0.6902 - rec@prec: 0.6095 - val_loss: 1.1376 - val_f1: 0.6658 - val_rec@prec: 0.5437\n",
            "Epoch 5/8\n",
            "211/211 [==============================] - 12s 56ms/step - loss: 0.7640 - f1: 0.7683 - rec@prec: 0.7577 - val_loss: 1.0971 - val_f1: 0.6961 - val_rec@prec: 0.5771\n",
            "Epoch 6/8\n",
            "211/211 [==============================] - 8s 38ms/step - loss: 0.6200 - f1: 0.8179 - rec@prec: 0.8388 - val_loss: 1.0854 - val_f1: 0.7124 - val_rec@prec: 0.6168\n",
            "Epoch 7/8\n",
            "211/211 [==============================] - 7s 33ms/step - loss: 0.4741 - f1: 0.8656 - rec@prec: 0.9038 - val_loss: 1.0597 - val_f1: 0.7194 - val_rec@prec: 0.6353\n",
            "Epoch 8/8\n",
            "211/211 [==============================] - 7s 31ms/step - loss: 0.3799 - f1: 0.8932 - rec@prec: 0.9368 - val_loss: 1.0995 - val_f1: 0.7235 - val_rec@prec: 0.6393\n",
            "Epoch 1/8\n",
            "211/211 [==============================] - 44s 186ms/step - loss: 2.0802 - f1: 0.0514 - rec@prec: 0.0277 - val_loss: 1.6057 - val_f1: 0.2139 - val_rec@prec: 0.1032\n",
            "Epoch 2/8\n",
            "211/211 [==============================] - 25s 118ms/step - loss: 1.4440 - f1: 0.3021 - rec@prec: 0.1690 - val_loss: 1.4306 - val_f1: 0.3117 - val_rec@prec: 0.2002\n",
            "Epoch 3/8\n",
            "211/211 [==============================] - 18s 86ms/step - loss: 1.2043 - f1: 0.5191 - rec@prec: 0.3352 - val_loss: 1.3179 - val_f1: 0.5706 - val_rec@prec: 0.3517\n",
            "Epoch 4/8\n",
            "211/211 [==============================] - 18s 86ms/step - loss: 0.9807 - f1: 0.6729 - rec@prec: 0.5622 - val_loss: 1.2076 - val_f1: 0.6316 - val_rec@prec: 0.4513\n",
            "Epoch 5/8\n",
            "211/211 [==============================] - 14s 67ms/step - loss: 0.7993 - f1: 0.7555 - rec@prec: 0.7273 - val_loss: 1.2060 - val_f1: 0.6537 - val_rec@prec: 0.5113\n",
            "Epoch 6/8\n",
            "211/211 [==============================] - 13s 63ms/step - loss: 0.6517 - f1: 0.8078 - rec@prec: 0.8166 - val_loss: 1.1266 - val_f1: 0.6762 - val_rec@prec: 0.5721\n",
            "Epoch 7/8\n",
            "211/211 [==============================] - 10s 49ms/step - loss: 0.5412 - f1: 0.8421 - rec@prec: 0.8695 - val_loss: 1.1423 - val_f1: 0.6915 - val_rec@prec: 0.5879\n",
            "Epoch 8/8\n",
            "211/211 [==============================] - 11s 52ms/step - loss: 0.4503 - f1: 0.8705 - rec@prec: 0.9082 - val_loss: 1.1679 - val_f1: 0.6971 - val_rec@prec: 0.5753\n",
            "Epoch 1/8\n",
            "211/211 [==============================] - 53s 207ms/step - loss: 2.1766 - f1: 0.0295 - rec@prec: 0.0174 - val_loss: 1.7802 - val_f1: 0.1077 - val_rec@prec: 0.0744\n",
            "Epoch 2/8\n",
            "211/211 [==============================] - 33s 154ms/step - loss: 1.7489 - f1: 0.1397 - rec@prec: 0.0850 - val_loss: 1.7192 - val_f1: 0.1434 - val_rec@prec: 0.0839\n",
            "Epoch 3/8\n",
            "211/211 [==============================] - 25s 118ms/step - loss: 1.5281 - f1: 0.2330 - rec@prec: 0.1326 - val_loss: 1.5102 - val_f1: 0.3171 - val_rec@prec: 0.1587\n",
            "Epoch 4/8\n",
            "211/211 [==============================] - 24s 113ms/step - loss: 1.3446 - f1: 0.4460 - rec@prec: 0.2339 - val_loss: 1.3718 - val_f1: 0.5423 - val_rec@prec: 0.3197\n",
            "Epoch 5/8\n",
            "211/211 [==============================] - 21s 99ms/step - loss: 1.1509 - f1: 0.6002 - rec@prec: 0.4184 - val_loss: 1.2799 - val_f1: 0.5987 - val_rec@prec: 0.3774\n",
            "Epoch 6/8\n",
            "211/211 [==============================] - 20s 94ms/step - loss: 1.0030 - f1: 0.6681 - rec@prec: 0.5543 - val_loss: 1.2332 - val_f1: 0.6242 - val_rec@prec: 0.4139\n",
            "Epoch 7/8\n",
            "211/211 [==============================] - 20s 96ms/step - loss: 0.9020 - f1: 0.7062 - rec@prec: 0.6290 - val_loss: 1.2062 - val_f1: 0.6359 - val_rec@prec: 0.4811\n",
            "Epoch 8/8\n",
            "211/211 [==============================] - 18s 87ms/step - loss: 0.8018 - f1: 0.7504 - rec@prec: 0.7168 - val_loss: 1.1675 - val_f1: 0.6724 - val_rec@prec: 0.5059\n",
            "Epoch 1/8\n",
            "211/211 [==============================] - 74s 275ms/step - loss: 2.3426 - f1: 0.0000e+00 - rec@prec: 0.0000e+00 - val_loss: 2.3254 - val_f1: 0.0000e+00 - val_rec@prec: 0.0000e+00\n",
            "Epoch 2/8\n",
            "211/211 [==============================] - 46s 219ms/step - loss: 2.3257 - f1: 0.0000e+00 - rec@prec: 0.0000e+00 - val_loss: 2.3221 - val_f1: 0.0000e+00 - val_rec@prec: 0.0000e+00\n",
            "Epoch 3/8\n",
            "211/211 [==============================] - 51s 243ms/step - loss: 2.3240 - f1: 0.0000e+00 - rec@prec: 0.0000e+00 - val_loss: 2.3202 - val_f1: 0.0000e+00 - val_rec@prec: 0.0000e+00\n",
            "Epoch 4/8\n",
            "211/211 [==============================] - 34s 163ms/step - loss: 2.3234 - f1: 0.0000e+00 - rec@prec: 0.0000e+00 - val_loss: 2.3197 - val_f1: 0.0000e+00 - val_rec@prec: 0.0000e+00\n",
            "Epoch 5/8\n",
            "211/211 [==============================] - 33s 155ms/step - loss: 2.3233 - f1: 0.0000e+00 - rec@prec: 0.0000e+00 - val_loss: 2.3214 - val_f1: 0.0000e+00 - val_rec@prec: 0.0000e+00\n",
            "Epoch 6/8\n",
            "211/211 [==============================] - 32s 149ms/step - loss: 2.3231 - f1: 0.0000e+00 - rec@prec: 0.0000e+00 - val_loss: 2.3204 - val_f1: 0.0000e+00 - val_rec@prec: 0.0000e+00\n",
            "Epoch 7/8\n",
            "211/211 [==============================] - 32s 153ms/step - loss: 2.3230 - f1: 0.0000e+00 - rec@prec: 0.0000e+00 - val_loss: 2.3196 - val_f1: 0.0000e+00 - val_rec@prec: 0.0000e+00\n",
            "Epoch 8/8\n",
            "211/211 [==============================] - 30s 142ms/step - loss: 2.3231 - f1: 0.0000e+00 - rec@prec: 0.0000e+00 - val_loss: 2.3196 - val_f1: 0.0000e+00 - val_rec@prec: 0.0000e+00\n",
            "Epoch 1/8\n",
            "211/211 [==============================] - 52s 207ms/step - loss: 2.0190 - f1: 0.0589 - rec@prec: 0.0325 - val_loss: 1.7625 - val_f1: 0.1278 - val_rec@prec: 0.0834\n",
            "Epoch 2/8\n",
            "211/211 [==============================] - 32s 153ms/step - loss: 1.4813 - f1: 0.3807 - rec@prec: 0.2009 - val_loss: 1.5113 - val_f1: 0.4768 - val_rec@prec: 0.2520\n",
            "Epoch 3/8\n",
            "211/211 [==============================] - 29s 135ms/step - loss: 1.1483 - f1: 0.6190 - rec@prec: 0.4717 - val_loss: 1.2479 - val_f1: 0.6345 - val_rec@prec: 0.4707\n",
            "Epoch 4/8\n",
            "211/211 [==============================] - 25s 118ms/step - loss: 0.8262 - f1: 0.7543 - rec@prec: 0.7237 - val_loss: 1.1126 - val_f1: 0.6884 - val_rec@prec: 0.5631\n",
            "Epoch 5/8\n",
            "211/211 [==============================] - 23s 107ms/step - loss: 0.6460 - f1: 0.8111 - rec@prec: 0.8243 - val_loss: 1.0671 - val_f1: 0.7139 - val_rec@prec: 0.6114\n",
            "Epoch 6/8\n",
            "211/211 [==============================] - 20s 95ms/step - loss: 0.5340 - f1: 0.8450 - rec@prec: 0.8765 - val_loss: 1.1146 - val_f1: 0.7006 - val_rec@prec: 0.5771\n",
            "Epoch 7/8\n",
            "211/211 [==============================] - 20s 94ms/step - loss: 0.4349 - f1: 0.8755 - rec@prec: 0.9163 - val_loss: 1.1747 - val_f1: 0.7093 - val_rec@prec: 0.6014\n",
            "Epoch 8/8\n",
            "211/211 [==============================] - 20s 96ms/step - loss: 0.3663 - f1: 0.8945 - rec@prec: 0.9374 - val_loss: 1.2079 - val_f1: 0.7046 - val_rec@prec: 0.6014\n",
            "Epoch 1/8\n",
            "211/211 [==============================] - 71s 269ms/step - loss: 2.0985 - f1: 0.0021 - rec@prec: 9.7299e-04 - val_loss: 1.8485 - val_f1: 0.0597 - val_rec@prec: 0.0144\n",
            "Epoch 2/8\n",
            "211/211 [==============================] - 47s 221ms/step - loss: 1.6540 - f1: 0.1667 - rec@prec: 0.0870 - val_loss: 1.5526 - val_f1: 0.2849 - val_rec@prec: 0.1664\n",
            "Epoch 3/8\n",
            "211/211 [==============================] - 38s 181ms/step - loss: 1.2953 - f1: 0.4997 - rec@prec: 0.2995 - val_loss: 1.3413 - val_f1: 0.5752 - val_rec@prec: 0.2894\n",
            "Epoch 4/8\n",
            "211/211 [==============================] - 36s 170ms/step - loss: 1.0632 - f1: 0.6497 - rec@prec: 0.5090 - val_loss: 1.2913 - val_f1: 0.5766 - val_rec@prec: 0.3323\n",
            "Epoch 5/8\n",
            "211/211 [==============================] - 35s 164ms/step - loss: 0.8916 - f1: 0.7197 - rec@prec: 0.6579 - val_loss: 1.1573 - val_f1: 0.6424 - val_rec@prec: 0.5126\n",
            "Epoch 6/8\n",
            "211/211 [==============================] - 33s 157ms/step - loss: 0.7466 - f1: 0.7781 - rec@prec: 0.7653 - val_loss: 1.0735 - val_f1: 0.7003 - val_rec@prec: 0.5766\n",
            "Epoch 7/8\n",
            "211/211 [==============================] - 33s 154ms/step - loss: 0.6244 - f1: 0.8183 - rec@prec: 0.8334 - val_loss: 1.1092 - val_f1: 0.6870 - val_rec@prec: 0.5924\n",
            "Epoch 8/8\n",
            "211/211 [==============================] - 31s 147ms/step - loss: 0.5423 - f1: 0.8416 - rec@prec: 0.8720 - val_loss: 1.0705 - val_f1: 0.7072 - val_rec@prec: 0.6032\n"
          ]
        }
      ],
      "source": [
        "models = [model1,\n",
        "          model2,\n",
        "          model3,\n",
        "          model4,\n",
        "          model5,\n",
        "          model6,\n",
        "          model7]\n",
        "\n",
        "index = [\"1-GRU\", \"1-LSTM\", \"1-GRU+1-LSTM\", \"1-BIGRU+2-LSTM\", \"5-GRU+3-LSTM\", \"1-BIGRU+1-BILSTM\",\n",
        "         \"LSTM+GRU+BILSTM+BIGRU+GRU+LSTM\"]\n",
        "\n",
        "with open('results.csv', 'w', encoding='utf-8') as file:\n",
        "    file.write('model,train_f1,train_loss,val_f1,val_loss\\n')\n",
        "\n",
        "for i, m in enumerate(models):\n",
        "    history = m.fit(X_train, y_train,\n",
        "                    validation_data=(X_valid, y_valid),\n",
        "                    batch_size=200,\n",
        "                    epochs=8)\n",
        "    f1_sc = history.history['f1'][-1]\n",
        "    loss = history.history['loss'][-1]\n",
        "    val_f1 = history.history['val_f1'][-1]\n",
        "    val_loss = history.history['val_loss'][-1]\n",
        "    with open('results.csv', 'a', encoding='utf-8') as file:\n",
        "        scores = [f1_sc, loss, val_f1, val_loss]\n",
        "        scores = list(map(lambda x: str(round(x, 3)), scores))\n",
        "        scores = [index[i]] + scores\n",
        "        file.write(','.join(scores))\n",
        "        file.write('\\n')"
      ]
    },
    {
      "cell_type": "code",
      "execution_count": 47,
      "id": "456c9b5e",
      "metadata": {
        "colab": {
          "base_uri": "https://localhost:8080/",
          "height": 269
        },
        "id": "456c9b5e",
        "outputId": "449709dc-8742-4a24-a62f-3415c51baf2e"
      },
      "outputs": [
        {
          "output_type": "execute_result",
          "data": {
            "text/plain": [
              "                            model  train_f1  train_loss  val_f1  val_loss\n",
              "0                           1-GRU     0.952       0.177   0.684     1.448\n",
              "1                          1-LSTM     0.893       0.380   0.724     1.100\n",
              "2                    1-GRU+1-LSTM     0.871       0.450   0.697     1.168\n",
              "3                  1-BIGRU+2-LSTM     0.750       0.802   0.672     1.167\n",
              "4                    5-GRU+3-LSTM     0.000       2.323   0.000     2.320\n",
              "5                1-BIGRU+1-BILSTM     0.894       0.366   0.705     1.208\n",
              "6  LSTM+GRU+BILSTM+BIGRU+GRU+LSTM     0.842       0.542   0.707     1.071"
            ],
            "text/html": [
              "\n",
              "  <div id=\"df-dfc5fdf0-1e76-4b56-bc58-87237dd8661e\">\n",
              "    <div class=\"colab-df-container\">\n",
              "      <div>\n",
              "<style scoped>\n",
              "    .dataframe tbody tr th:only-of-type {\n",
              "        vertical-align: middle;\n",
              "    }\n",
              "\n",
              "    .dataframe tbody tr th {\n",
              "        vertical-align: top;\n",
              "    }\n",
              "\n",
              "    .dataframe thead th {\n",
              "        text-align: right;\n",
              "    }\n",
              "</style>\n",
              "<table border=\"1\" class=\"dataframe\">\n",
              "  <thead>\n",
              "    <tr style=\"text-align: right;\">\n",
              "      <th></th>\n",
              "      <th>model</th>\n",
              "      <th>train_f1</th>\n",
              "      <th>train_loss</th>\n",
              "      <th>val_f1</th>\n",
              "      <th>val_loss</th>\n",
              "    </tr>\n",
              "  </thead>\n",
              "  <tbody>\n",
              "    <tr>\n",
              "      <th>0</th>\n",
              "      <td>1-GRU</td>\n",
              "      <td>0.952</td>\n",
              "      <td>0.177</td>\n",
              "      <td>0.684</td>\n",
              "      <td>1.448</td>\n",
              "    </tr>\n",
              "    <tr>\n",
              "      <th>1</th>\n",
              "      <td>1-LSTM</td>\n",
              "      <td>0.893</td>\n",
              "      <td>0.380</td>\n",
              "      <td>0.724</td>\n",
              "      <td>1.100</td>\n",
              "    </tr>\n",
              "    <tr>\n",
              "      <th>2</th>\n",
              "      <td>1-GRU+1-LSTM</td>\n",
              "      <td>0.871</td>\n",
              "      <td>0.450</td>\n",
              "      <td>0.697</td>\n",
              "      <td>1.168</td>\n",
              "    </tr>\n",
              "    <tr>\n",
              "      <th>3</th>\n",
              "      <td>1-BIGRU+2-LSTM</td>\n",
              "      <td>0.750</td>\n",
              "      <td>0.802</td>\n",
              "      <td>0.672</td>\n",
              "      <td>1.167</td>\n",
              "    </tr>\n",
              "    <tr>\n",
              "      <th>4</th>\n",
              "      <td>5-GRU+3-LSTM</td>\n",
              "      <td>0.000</td>\n",
              "      <td>2.323</td>\n",
              "      <td>0.000</td>\n",
              "      <td>2.320</td>\n",
              "    </tr>\n",
              "    <tr>\n",
              "      <th>5</th>\n",
              "      <td>1-BIGRU+1-BILSTM</td>\n",
              "      <td>0.894</td>\n",
              "      <td>0.366</td>\n",
              "      <td>0.705</td>\n",
              "      <td>1.208</td>\n",
              "    </tr>\n",
              "    <tr>\n",
              "      <th>6</th>\n",
              "      <td>LSTM+GRU+BILSTM+BIGRU+GRU+LSTM</td>\n",
              "      <td>0.842</td>\n",
              "      <td>0.542</td>\n",
              "      <td>0.707</td>\n",
              "      <td>1.071</td>\n",
              "    </tr>\n",
              "  </tbody>\n",
              "</table>\n",
              "</div>\n",
              "      <button class=\"colab-df-convert\" onclick=\"convertToInteractive('df-dfc5fdf0-1e76-4b56-bc58-87237dd8661e')\"\n",
              "              title=\"Convert this dataframe to an interactive table.\"\n",
              "              style=\"display:none;\">\n",
              "        \n",
              "  <svg xmlns=\"http://www.w3.org/2000/svg\" height=\"24px\"viewBox=\"0 0 24 24\"\n",
              "       width=\"24px\">\n",
              "    <path d=\"M0 0h24v24H0V0z\" fill=\"none\"/>\n",
              "    <path d=\"M18.56 5.44l.94 2.06.94-2.06 2.06-.94-2.06-.94-.94-2.06-.94 2.06-2.06.94zm-11 1L8.5 8.5l.94-2.06 2.06-.94-2.06-.94L8.5 2.5l-.94 2.06-2.06.94zm10 10l.94 2.06.94-2.06 2.06-.94-2.06-.94-.94-2.06-.94 2.06-2.06.94z\"/><path d=\"M17.41 7.96l-1.37-1.37c-.4-.4-.92-.59-1.43-.59-.52 0-1.04.2-1.43.59L10.3 9.45l-7.72 7.72c-.78.78-.78 2.05 0 2.83L4 21.41c.39.39.9.59 1.41.59.51 0 1.02-.2 1.41-.59l7.78-7.78 2.81-2.81c.8-.78.8-2.07 0-2.86zM5.41 20L4 18.59l7.72-7.72 1.47 1.35L5.41 20z\"/>\n",
              "  </svg>\n",
              "      </button>\n",
              "      \n",
              "  <style>\n",
              "    .colab-df-container {\n",
              "      display:flex;\n",
              "      flex-wrap:wrap;\n",
              "      gap: 12px;\n",
              "    }\n",
              "\n",
              "    .colab-df-convert {\n",
              "      background-color: #E8F0FE;\n",
              "      border: none;\n",
              "      border-radius: 50%;\n",
              "      cursor: pointer;\n",
              "      display: none;\n",
              "      fill: #1967D2;\n",
              "      height: 32px;\n",
              "      padding: 0 0 0 0;\n",
              "      width: 32px;\n",
              "    }\n",
              "\n",
              "    .colab-df-convert:hover {\n",
              "      background-color: #E2EBFA;\n",
              "      box-shadow: 0px 1px 2px rgba(60, 64, 67, 0.3), 0px 1px 3px 1px rgba(60, 64, 67, 0.15);\n",
              "      fill: #174EA6;\n",
              "    }\n",
              "\n",
              "    [theme=dark] .colab-df-convert {\n",
              "      background-color: #3B4455;\n",
              "      fill: #D2E3FC;\n",
              "    }\n",
              "\n",
              "    [theme=dark] .colab-df-convert:hover {\n",
              "      background-color: #434B5C;\n",
              "      box-shadow: 0px 1px 3px 1px rgba(0, 0, 0, 0.15);\n",
              "      filter: drop-shadow(0px 1px 2px rgba(0, 0, 0, 0.3));\n",
              "      fill: #FFFFFF;\n",
              "    }\n",
              "  </style>\n",
              "\n",
              "      <script>\n",
              "        const buttonEl =\n",
              "          document.querySelector('#df-dfc5fdf0-1e76-4b56-bc58-87237dd8661e button.colab-df-convert');\n",
              "        buttonEl.style.display =\n",
              "          google.colab.kernel.accessAllowed ? 'block' : 'none';\n",
              "\n",
              "        async function convertToInteractive(key) {\n",
              "          const element = document.querySelector('#df-dfc5fdf0-1e76-4b56-bc58-87237dd8661e');\n",
              "          const dataTable =\n",
              "            await google.colab.kernel.invokeFunction('convertToInteractive',\n",
              "                                                     [key], {});\n",
              "          if (!dataTable) return;\n",
              "\n",
              "          const docLinkHtml = 'Like what you see? Visit the ' +\n",
              "            '<a target=\"_blank\" href=https://colab.research.google.com/notebooks/data_table.ipynb>data table notebook</a>'\n",
              "            + ' to learn more about interactive tables.';\n",
              "          element.innerHTML = '';\n",
              "          dataTable['output_type'] = 'display_data';\n",
              "          await google.colab.output.renderOutput(dataTable, element);\n",
              "          const docLink = document.createElement('div');\n",
              "          docLink.innerHTML = docLinkHtml;\n",
              "          element.appendChild(docLink);\n",
              "        }\n",
              "      </script>\n",
              "    </div>\n",
              "  </div>\n",
              "  "
            ]
          },
          "metadata": {},
          "execution_count": 47
        }
      ],
      "source": [
        "res = pd.read_csv('results.csv')\n",
        "res"
      ]
    },
    {
      "cell_type": "markdown",
      "id": "8fc973c1",
      "metadata": {
        "id": "8fc973c1"
      },
      "source": [
        "**Вывод:**\n",
        "\n",
        "все модели отработали достаточно хорошо, давая на тестовой выборке точность порядка 70 %. Лучше всего себя показала однослойная лстм-модель. Также хороша последняя модель (LSTM+GRU+BILSTM+BIGRU+GRU+LSTM), возможно при большем количестве эпох она сошлась бы лучше однослойной лстм модели.\n",
        "\n",
        "К сожалению, модель с 5-ю GRU слоями и 3-мя LSTM слоями не обучилась.\n",
        "\n",
        "**Графики ф-меры для моделей**"
      ]
    },
    {
      "cell_type": "code",
      "source": [
        "import matplotlib.pyplot as plt\n",
        "\n",
        "figure, axis = plt.subplots(3, 3, figsize=[10, 10])\n",
        "j = 0\n",
        "\n",
        "for i, m in enumerate(models):\n",
        "# summarize history for accuracy\n",
        "    axis[j, i%3].plot(m.history.history['rec@prec'])\n",
        "    axis[j, i%3].plot(m.history.history['val_rec@prec'])\n",
        "    #axis[j, i%3].title('model f1')\n",
        "    #axis[j, i%3].ylabel('f1')\n",
        "    #axis[j, i%3].xlabel('epoch')\n",
        "    axis[j, i%3].legend(['train', 'val'], loc='upper left')\n",
        "    axis[j, i%3].set_title(f\"Model {index[i]}\")\n",
        "    if i % 3 == 2:\n",
        "        j += 1\n",
        "\n",
        "plt.show()"
      ],
      "metadata": {
        "colab": {
          "base_uri": "https://localhost:8080/",
          "height": 853
        },
        "id": "CLawXnBPYJCo",
        "outputId": "4c250880-c28c-4d6d-97a9-d17af5a4acce"
      },
      "id": "CLawXnBPYJCo",
      "execution_count": 61,
      "outputs": [
        {
          "output_type": "display_data",
          "data": {
            "text/plain": [
              "<Figure size 1000x1000 with 9 Axes>"
            ],
            "image/png": "[encoded data removed]"
          },
          "metadata": {}
        }
      ]
    },
    {
      "cell_type": "markdown",
      "source": [
        "**Графики функции потерь**"
      ],
      "metadata": {
        "id": "dB_pXN5UfW6T"
      },
      "id": "dB_pXN5UfW6T"
    },
    {
      "cell_type": "code",
      "source": [
        "figure, axis = plt.subplots(3, 3, figsize=[10, 10])\n",
        "j = 0\n",
        "\n",
        "for i, m in enumerate(models):\n",
        "# summarize history for accuracy\n",
        "    axis[j, i%3].plot(m.history.history['loss'])\n",
        "    axis[j, i%3].plot(m.history.history['val_loss'])\n",
        "    axis[j, i%3].legend(['train', 'val'], loc='upper left')\n",
        "    axis[j, i%3].set_title(f\"Model {index[i]}\")\n",
        "    if i % 3 == 2:\n",
        "        j += 1\n",
        "\n",
        "plt.show()"
      ],
      "metadata": {
        "colab": {
          "base_uri": "https://localhost:8080/",
          "height": 853
        },
        "id": "oi74zq_FcMpO",
        "outputId": "27d60745-b183-4109-b3fc-3806d3986a20"
      },
      "id": "oi74zq_FcMpO",
      "execution_count": 65,
      "outputs": [
        {
          "output_type": "display_data",
          "data": {
            "text/plain": [
              "<Figure size 1000x1000 with 9 Axes>"
            ],
            "image/png": "[encoded data removed]"
          },
          "metadata": {}
        }
      ]
    },
    {
      "cell_type": "markdown",
      "source": [
        "Как видно, модель LSTM+GRU+BILSTM+BIGRU+GRU+LSTM при более долгом обучении может достигнуть лучших результатов, в то время как однослойная лстм модель достигла своих лучших результатов.\n",
        "\n",
        "Однослойная гру модель достаточно быстро переобучается, примерно после 5 эпохи. Модель с 5-ю гру и 3-мя лстм слоями не сходится, возможно, для нее стоит выбрать другие параметры обучения, например другой лернинг рейт."
      ],
      "metadata": {
        "id": "mvRI3V2Qe5xD"
      },
      "id": "mvRI3V2Qe5xD"
    },
    {
      "cell_type": "markdown",
      "id": "ed5d6eea",
      "metadata": {
        "id": "ed5d6eea"
      },
      "source": [
        "## Задание 2 (6 баллов)\n"
      ]
    },
    {
      "cell_type": "markdown",
      "id": "5c2c07cf",
      "metadata": {
        "id": "5c2c07cf"
      },
      "source": [
        "На данных википедии (wikiann) обучите 2 модели:\n",
        "1) модель в которой будут использованы предобученные эмбединги слов и несколько BILSTM слоев.\n",
        "\n",
        "2) модель в которой будут использованы предобученные эмбединги слов и несколько BIGRU слоев.\n",
        "\n",
        "Сравните качество по метрикам. Также придумайте несколько сложных примеров и проверьте, какие сущности определяет каждая из моделей."
      ]
    },
    {
      "cell_type": "code",
      "source": [
        "! pip install datasets"
      ],
      "metadata": {
        "id": "93AcWeJdgVd_"
      },
      "id": "93AcWeJdgVd_",
      "execution_count": null,
      "outputs": []
    },
    {
      "cell_type": "markdown",
      "id": "755b4118",
      "metadata": {
        "id": "755b4118"
      },
      "source": [
        "**Загружаем данные**"
      ]
    },
    {
      "cell_type": "code",
      "execution_count": 68,
      "id": "fb704b1b",
      "metadata": {
        "colab": {
          "base_uri": "https://localhost:8080/",
          "height": 232,
          "referenced_widgets": [
            "1cbd24cc55e24c4e91ffddb900a0e50b",
            "c2d2684f7baa45a7a8f16f47c54a3522",
            "2ee3eb74c0754308b43d57ec47e7071f",
            "3105b4e711a0461184a1da374ae24187",
            "00652edd7a364016bfc1ac840d537a66",
            "b13f5efbbc894f22bbfc8fbd12782bb6",
            "b46b0eeed377400a85bcf112334c9af7",
            "cdf67c99fc4a46168a2ef246d1e6e9d1",
            "7cc73ee35fc6428a8ee63f8f784a83f8",
            "bd91034e38f04170947ebb1de5f5a14c",
            "8317a70c175e41dfb33232414fe15529",
            "5650bd367e51462783448cd441f052db",
            "71baafc7cb634b308f437b7dc723a086",
            "a558586ef6e64754993c9a4ea39fe8d3",
            "6d5d2f5dca35435e9eccfa2206593981",
            "969f3a8bacc9485cb577c653bab55617",
            "fe182d9dadff47f39d08ebcfa89fd1e0",
            "cf26028ff95048b2bb93e018fb8ac233",
            "fc1729171ab7449490e26e01f87185b8",
            "e3a36752a746472e8ce61826c47fe856",
            "3ad2c768b38448fd80550b2a78b508ca",
            "72a8d06ac80a476da3c2e78143d27522",
            "69eb55fcc9ee43459fbf853fb08b76a3",
            "6533e3ad88254dc8b6637e753a2d5ecd",
            "84d0db2e59e3428ca502bc2c359c099e",
            "5d662e73f570412ca04f286f16e96488",
            "291ce2d86d264d35bc6301092b012af2",
            "9eed1fddda5443bda24634d89f2ba0ed",
            "af35d0cad88b4d5d9b73c6c0082e2a70",
            "45d3f28af0c748f4b70137156df78ed6",
            "658d3828fe8f4e4fb64b45bbc22d24d4",
            "8807d8504b274cab9ce42fea6b987177",
            "89671fc3926645349e5c15e1055246e6",
            "d0afd4ea210f471dbcafbb65c6226194",
            "6aeb3c76adeb43b78fba640e0e95702c",
            "aa87e580cd1748cc99c06c5c828a6161",
            "f1f7825a36fc40d4a19742a60b3b3176",
            "d3492f045e294be6a30b76ea4bce9303",
            "fd9e44d7cd434dfeaab99d14b5d77678",
            "0359ed89a7f843789cfefc46a760b210",
            "6618152ae9e34047af2210c4b733286e",
            "7de16442ad034b8e93308be51436142a",
            "427faf2a5827490eadfd8e99fa12aa07",
            "a1f0bdd1878440ecb05e7e21a3889249",
            "13a6b06ffb684e88b96b94ab6c678c1b",
            "752b93b199574e0b958273cf770cccb6",
            "2b13f6ed1fc94417a08d5938e0e10d58",
            "cdf4545660fa4e0fb9bce0d98edff26f",
            "fd3c413c3a6047bcb58292ca66be53ca",
            "ffde389076df4d3cbd2379cce13fb403",
            "e1c587290d3345f8bc1f149cc9248048",
            "557c57d97ed6415fbd01094f54c942e7",
            "4a4dc0d43f3646118e4115bdcbb80c25",
            "339cbd5c493b4af291264977e06cb795",
            "799cc8191fac4d8d8b8125953b84b41e",
            "c67a2e0f8570423fa4ebea3ee0933e42",
            "040573bd3540498d93aa6d2558542512",
            "afa6185a8e1141a8b50e3fa955c8a9c1",
            "cf37b0d286254ca2a692d0c0c4942073",
            "238a7230d49e4c688de6687a65d6fba7",
            "b254b0ff486e4f65ba8d6c24ea57c6e3",
            "b4ad5db9361142a5b57ec1603dd348cb",
            "cf6b8c1a9c2f42829704e2f03811bdbc",
            "2adac231ff654d8aad5f5246c402badf",
            "9dca10657568473a8d878b43dda7be7b",
            "506ac02ab8944cca8d0133e81b25ed15",
            "41fb91a7cf8a448da7f4f0614f364fa5",
            "ee536b3f4d184be98e9c533fd41a89e9",
            "e7c6f26357a84a3285a1ac2cf48769ec",
            "e32073b12a5142c3bf31f4afd7a92002",
            "60c04601f3354e0dbff43e653c1e28a7",
            "89ff3fed4b104827b2bb39f43e989667",
            "ba690b678cdb404cb3f991cadb13a4c7",
            "15b06158e94145828b19a693092db5ad",
            "7207a026f939453db5e671a18ea88de7",
            "a28a7864b06f40a2b0d58dd0ae89b89e",
            "603225154f4949edb63204ed97bd5eae",
            "3827bb901ee446b3a0850cdd54b6bd8a",
            "f3e32c377d4e4127a7d70e428e93d826",
            "cd52f7264fad4f28bb865c19e1752082",
            "c3869dae341247ee9469ba91f164e7a2",
            "32cd4375094640b89712a4a92132c9ff",
            "f2f53034596244a093a2ee2f94e3dea9",
            "0437812a32904a97abf529eda701b43f",
            "09f10601667948aba097740f6cab6ea7",
            "eea7597cb51b4301b74fb8690123f698",
            "80a55a3ec5614f1284eb81e2c6e72be6",
            "bccbc60d717f4d09b339b4d6ad732800"
          ]
        },
        "id": "fb704b1b",
        "outputId": "7c691188-0c58-4758-c6e6-21ff6ef14256"
      },
      "outputs": [
        {
          "output_type": "display_data",
          "data": {
            "text/plain": [
              "Downloading builder script:   0%|          | 0.00/11.6k [00:00<?, ?B/s]"
            ],
            "application/vnd.jupyter.widget-view+json": {
              "version_major": 2,
              "version_minor": 0,
              "model_id": "1cbd24cc55e24c4e91ffddb900a0e50b"
            }
          },
          "metadata": {}
        },
        {
          "output_type": "display_data",
          "data": {
            "text/plain": [
              "Downloading metadata:   0%|          | 0.00/617k [00:00<?, ?B/s]"
            ],
            "application/vnd.jupyter.widget-view+json": {
              "version_major": 2,
              "version_minor": 0,
              "model_id": "5650bd367e51462783448cd441f052db"
            }
          },
          "metadata": {}
        },
        {
          "output_type": "display_data",
          "data": {
            "text/plain": [
              "Downloading readme:   0%|          | 0.00/131k [00:00<?, ?B/s]"
            ],
            "application/vnd.jupyter.widget-view+json": {
              "version_major": 2,
              "version_minor": 0,
              "model_id": "69eb55fcc9ee43459fbf853fb08b76a3"
            }
          },
          "metadata": {}
        },
        {
          "output_type": "stream",
          "name": "stdout",
          "text": [
            "Downloading and preparing dataset wikiann/ru to /root/.cache/huggingface/datasets/wikiann/ru/1.1.0/4bfd4fe4468ab78bb6e096968f61fab7a888f44f9d3371c2f3fea7e74a5a354e...\n"
          ]
        },
        {
          "output_type": "display_data",
          "data": {
            "text/plain": [
              "Downloading data:   0%|          | 0.00/234M [00:00<?, ?B/s]"
            ],
            "application/vnd.jupyter.widget-view+json": {
              "version_major": 2,
              "version_minor": 0,
              "model_id": "d0afd4ea210f471dbcafbb65c6226194"
            }
          },
          "metadata": {}
        },
        {
          "output_type": "display_data",
          "data": {
            "text/plain": [
              "Generating validation split:   0%|          | 0/10000 [00:00<?, ? examples/s]"
            ],
            "application/vnd.jupyter.widget-view+json": {
              "version_major": 2,
              "version_minor": 0,
              "model_id": "13a6b06ffb684e88b96b94ab6c678c1b"
            }
          },
          "metadata": {}
        },
        {
          "output_type": "display_data",
          "data": {
            "text/plain": [
              "Generating test split:   0%|          | 0/10000 [00:00<?, ? examples/s]"
            ],
            "application/vnd.jupyter.widget-view+json": {
              "version_major": 2,
              "version_minor": 0,
              "model_id": "c67a2e0f8570423fa4ebea3ee0933e42"
            }
          },
          "metadata": {}
        },
        {
          "output_type": "display_data",
          "data": {
            "text/plain": [
              "Generating train split:   0%|          | 0/20000 [00:00<?, ? examples/s]"
            ],
            "application/vnd.jupyter.widget-view+json": {
              "version_major": 2,
              "version_minor": 0,
              "model_id": "41fb91a7cf8a448da7f4f0614f364fa5"
            }
          },
          "metadata": {}
        },
        {
          "output_type": "stream",
          "name": "stdout",
          "text": [
            "Dataset wikiann downloaded and prepared to /root/.cache/huggingface/datasets/wikiann/ru/1.1.0/4bfd4fe4468ab78bb6e096968f61fab7a888f44f9d3371c2f3fea7e74a5a354e. Subsequent calls will reuse this data.\n"
          ]
        },
        {
          "output_type": "display_data",
          "data": {
            "text/plain": [
              "  0%|          | 0/3 [00:00<?, ?it/s]"
            ],
            "application/vnd.jupyter.widget-view+json": {
              "version_major": 2,
              "version_minor": 0,
              "model_id": "3827bb901ee446b3a0850cdd54b6bd8a"
            }
          },
          "metadata": {}
        }
      ],
      "source": [
        "from datasets import load_dataset\n",
        "dataset = load_dataset(\"wikiann\", 'ru')"
      ]
    },
    {
      "cell_type": "code",
      "execution_count": 69,
      "id": "24b4e4aa",
      "metadata": {
        "colab": {
          "base_uri": "https://localhost:8080/"
        },
        "id": "24b4e4aa",
        "outputId": "20a1e608-5bcc-41d6-ec25-bf5652daa600"
      },
      "outputs": [
        {
          "output_type": "execute_result",
          "data": {
            "text/plain": [
              "(['Был',\n",
              "  'женат',\n",
              "  ',',\n",
              "  'имел',\n",
              "  'четырёх',\n",
              "  'детей',\n",
              "  ',',\n",
              "  'вместе',\n",
              "  'с',\n",
              "  'семьёй',\n",
              "  'проживал',\n",
              "  'в',\n",
              "  'городке',\n",
              "  'Оквилле',\n",
              "  '.'],\n",
              " [0, 0, 0, 0, 0, 0, 0, 0, 0, 0, 0, 0, 0, 5, 0])"
            ]
          },
          "metadata": {},
          "execution_count": 69
        }
      ],
      "source": [
        "i = 100\n",
        "dataset['train']['tokens'][i], dataset['train']['ner_tags'][i]"
      ]
    },
    {
      "cell_type": "markdown",
      "id": "24a84a08",
      "metadata": {
        "id": "24a84a08"
      },
      "source": [
        "**Готовим данные**"
      ]
    },
    {
      "cell_type": "code",
      "execution_count": 70,
      "id": "8035db14",
      "metadata": {
        "id": "8035db14"
      },
      "outputs": [],
      "source": [
        "from collections import Counter\n",
        "import tensorflow as tf\n",
        "\n",
        "vocab = Counter()\n",
        "\n",
        "for sent in dataset['train']['tokens']:\n",
        "    vocab.update([x.lower() for x in sent])\n",
        "\n",
        "filtered_vocab = set([word for word in vocab if vocab[word] > 30])\n",
        "word2id = {word: i + 2 for i, word in enumerate(filtered_vocab)}\n",
        "word2id['PAD'] = 0\n",
        "word2id['UNK'] = 0\n",
        "id2word = {i: word for word, i in word2id.items()}\n",
        "\n",
        "def text_in_idx_generator(texts):\n",
        "    global word2id\n",
        "    for sent in texts['tokens']:\n",
        "        tokens = [w.lower() for w in sent]\n",
        "        ids = [word2id.get(token, 1) for token in tokens]\n",
        "        yield ids\n",
        "\n",
        "X_train = list(text_in_idx_generator(dataset['train']))\n",
        "MAX_LEN = max(len(x) for x in X_train)\n",
        "X_train = tf.keras.preprocessing.sequence.pad_sequences(X_train, maxlen=MAX_LEN, padding='post')\n",
        "\n",
        "X_test = list(text_in_idx_generator(dataset['test']))\n",
        "X_test = tf.keras.preprocessing.sequence.pad_sequences(X_test, maxlen=MAX_LEN, padding='post')"
      ]
    },
    {
      "cell_type": "code",
      "execution_count": 71,
      "id": "9ead26a4",
      "metadata": {
        "id": "9ead26a4"
      },
      "outputs": [],
      "source": [
        "id2labels = {0:'O', 1:'B-PER', 2:'I-PER', 3:'B-ORG', 4:'I-ORG', 5: 'B-LOC', 6:'I-LOC', 7:'PAD'}\n",
        "label2id = {v:k for k,v in id2labels.items()}"
      ]
    },
    {
      "cell_type": "code",
      "source": [
        "y = tf.keras.utils.to_categorical([label2id[label] for label in data.topic.values])"
      ],
      "metadata": {
        "id": "F50gDJ86heZA"
      },
      "id": "F50gDJ86heZA",
      "execution_count": null,
      "outputs": []
    },
    {
      "cell_type": "code",
      "execution_count": 72,
      "id": "984b5b75",
      "metadata": {
        "id": "984b5b75"
      },
      "outputs": [],
      "source": [
        "y_train = tf.keras.preprocessing.sequence.pad_sequences(dataset['train']['ner_tags'], value=7,\n",
        "                                                  maxlen=MAX_LEN,  padding='post')\n",
        "y_test = tf.keras.preprocessing.sequence.pad_sequences(dataset['test']['ner_tags'], value=7,\n",
        "                                                       maxlen=MAX_LEN,  padding='post')"
      ]
    },
    {
      "cell_type": "code",
      "source": [
        "y_train[0].shape"
      ],
      "metadata": {
        "colab": {
          "base_uri": "https://localhost:8080/"
        },
        "id": "y_nLLuuhhgfF",
        "outputId": "d5a1162f-6c99-464a-94e9-8cf5bcc0a8e8"
      },
      "id": "y_nLLuuhhgfF",
      "execution_count": 82,
      "outputs": [
        {
          "output_type": "execute_result",
          "data": {
            "text/plain": [
              "(54,)"
            ]
          },
          "metadata": {},
          "execution_count": 82
        }
      ]
    },
    {
      "cell_type": "markdown",
      "id": "d6f7721e",
      "metadata": {
        "id": "d6f7721e"
      },
      "source": [
        "**Вспомогательные функции**"
      ]
    },
    {
      "cell_type": "code",
      "execution_count": 73,
      "id": "e58adf9b",
      "metadata": {
        "id": "e58adf9b"
      },
      "outputs": [],
      "source": [
        "import re\n",
        "\n",
        "def tokenize(text, word2id):\n",
        "    tokens = re.findall('\\w+|[^\\w\\s]+', text)\n",
        "    ids = [word2id.get(token.lower(), 1) for token in tokens]\n",
        "    return tokens, ids\n",
        "\n",
        "def pred2tags(pred, id2label, length):\n",
        "    pred = pred.argmax(2)[0, :length]\n",
        "    labels = [id2label[l] for l in pred]\n",
        "    return labels\n",
        "\n",
        "def label_seq(text, word2id, id2label, max_len, model):\n",
        "    tokens, ids = tokenize(text, word2id)\n",
        "    pred = model.predict(tf.keras.preprocessing.sequence.pad_sequences([ids],\n",
        "                                                                       maxlen=max_len,\n",
        "                                                                       padding='post'))\n",
        "    labels = pred2tags(pred, id2label, len(ids))\n",
        "\n",
        "    return list(zip(tokens, labels))"
      ]
    },
    {
      "cell_type": "markdown",
      "id": "c51e67de",
      "metadata": {
        "id": "c51e67de"
      },
      "source": [
        "**Модель с несколькими BILSTM слоями**"
      ]
    },
    {
      "cell_type": "code",
      "execution_count": 83,
      "id": "c5e97786",
      "metadata": {
        "id": "c5e97786"
      },
      "outputs": [],
      "source": [
        "inputs = tf.keras.layers.Input(shape=(MAX_LEN,))\n",
        "embeddings = tf.keras.layers.Embedding(input_dim=len(word2id), output_dim=100)(inputs)\n",
        "\n",
        "lstm_1 = tf.keras.layers.Bidirectional(tf.keras.layers.LSTM(128, return_sequences=True))(embeddings)\n",
        "lstm_2 = tf.keras.layers.Bidirectional(tf.keras.layers.LSTM(128, return_sequences=True))(lstm_1)\n",
        "lstm_3 = tf.keras.layers.Bidirectional(tf.keras.layers.LSTM(128, return_sequences=True))(lstm_2)\n",
        "\n",
        "outputs = tf.keras.layers.Dense(len(label2id), activation='softmax')(lstm_3)\n",
        "\n",
        "model8 = tf.keras.Model(inputs=inputs, outputs=outputs)\n",
        "model8.compile(optimizer='adam',\n",
        "              loss='sparse_categorical_crossentropy',\n",
        "             metrics=['accuracy'])"
      ]
    },
    {
      "cell_type": "code",
      "source": [
        "model8.summary()"
      ],
      "metadata": {
        "colab": {
          "base_uri": "https://localhost:8080/"
        },
        "id": "dHuWOXuig48r",
        "outputId": "1f8ad4db-902c-40f9-bf9f-483368347b15"
      },
      "id": "dHuWOXuig48r",
      "execution_count": 84,
      "outputs": [
        {
          "output_type": "stream",
          "name": "stdout",
          "text": [
            "Model: \"model_15\"\n",
            "_________________________________________________________________\n",
            " Layer (type)                Output Shape              Param #   \n",
            "=================================================================\n",
            " input_16 (InputLayer)       [(None, 54)]              0         \n",
            "                                                                 \n",
            " embedding_15 (Embedding)    (None, 54, 100)           32500     \n",
            "                                                                 \n",
            " bidirectional_13 (Bidirecti  (None, 54, 256)          234496    \n",
            " onal)                                                           \n",
            "                                                                 \n",
            " bidirectional_14 (Bidirecti  (None, 54, 256)          394240    \n",
            " onal)                                                           \n",
            "                                                                 \n",
            " bidirectional_15 (Bidirecti  (None, 54, 256)          394240    \n",
            " onal)                                                           \n",
            "                                                                 \n",
            " dense_15 (Dense)            (None, 54, 8)             2056      \n",
            "                                                                 \n",
            "=================================================================\n",
            "Total params: 1,057,532\n",
            "Trainable params: 1,057,532\n",
            "Non-trainable params: 0\n",
            "_________________________________________________________________\n"
          ]
        }
      ]
    },
    {
      "cell_type": "code",
      "execution_count": 85,
      "id": "7e3568ac",
      "metadata": {
        "colab": {
          "base_uri": "https://localhost:8080/"
        },
        "id": "7e3568ac",
        "outputId": "8236c400-c91b-4097-c7fe-c613ff1d1734"
      },
      "outputs": [
        {
          "output_type": "stream",
          "name": "stdout",
          "text": [
            "Epoch 1/10\n",
            "157/157 [==============================] - 40s 171ms/step - loss: 0.2382 - accuracy: 0.9323 - val_loss: 0.1514 - val_accuracy: 0.9528\n",
            "Epoch 2/10\n",
            "157/157 [==============================] - 8s 49ms/step - loss: 0.1399 - accuracy: 0.9545 - val_loss: 0.1269 - val_accuracy: 0.9575\n",
            "Epoch 3/10\n",
            "157/157 [==============================] - 8s 48ms/step - loss: 0.1148 - accuracy: 0.9624 - val_loss: 0.1012 - val_accuracy: 0.9677\n",
            "Epoch 4/10\n",
            "157/157 [==============================] - 7s 46ms/step - loss: 0.0881 - accuracy: 0.9718 - val_loss: 0.0744 - val_accuracy: 0.9754\n",
            "Epoch 5/10\n",
            "157/157 [==============================] - 6s 39ms/step - loss: 0.0689 - accuracy: 0.9772 - val_loss: 0.0652 - val_accuracy: 0.9783\n",
            "Epoch 6/10\n",
            "157/157 [==============================] - 7s 44ms/step - loss: 0.0638 - accuracy: 0.9787 - val_loss: 0.0658 - val_accuracy: 0.9782\n",
            "Epoch 7/10\n",
            "157/157 [==============================] - 7s 43ms/step - loss: 0.0602 - accuracy: 0.9796 - val_loss: 0.0615 - val_accuracy: 0.9792\n",
            "Epoch 8/10\n",
            "157/157 [==============================] - 6s 41ms/step - loss: 0.0584 - accuracy: 0.9803 - val_loss: 0.0599 - val_accuracy: 0.9802\n",
            "Epoch 9/10\n",
            "157/157 [==============================] - 7s 42ms/step - loss: 0.0566 - accuracy: 0.9809 - val_loss: 0.0583 - val_accuracy: 0.9805\n",
            "Epoch 10/10\n",
            "157/157 [==============================] - 6s 40ms/step - loss: 0.0556 - accuracy: 0.9812 - val_loss: 0.0594 - val_accuracy: 0.9801\n"
          ]
        },
        {
          "output_type": "execute_result",
          "data": {
            "text/plain": [
              "<keras.callbacks.History at 0x7f7cfe506e00>"
            ]
          },
          "metadata": {},
          "execution_count": 85
        }
      ],
      "source": [
        "model8.fit(X_train, y_train,\n",
        "          validation_data=(X_test, y_test),\n",
        "          batch_size=128,\n",
        "         epochs=10)"
      ]
    },
    {
      "cell_type": "markdown",
      "source": [
        "**Графики обучения модели**"
      ],
      "metadata": {
        "id": "Ye-ga1M2jkOh"
      },
      "id": "Ye-ga1M2jkOh"
    },
    {
      "cell_type": "code",
      "execution_count": 91,
      "id": "557b510b",
      "metadata": {
        "colab": {
          "base_uri": "https://localhost:8080/",
          "height": 314
        },
        "id": "557b510b",
        "outputId": "1fc82ad7-cda6-4c0d-c795-bb222b9634d1"
      },
      "outputs": [
        {
          "output_type": "display_data",
          "data": {
            "text/plain": [
              "<Figure size 800x300 with 2 Axes>"
            ],
            "image/png": "[encoded data removed]"
          },
          "metadata": {}
        }
      ],
      "source": [
        "import matplotlib.pyplot as plt\n",
        "\n",
        "figure, axis = plt.subplots(1, 2, figsize=[8, 3])\n",
        "# summarize history for accuracy\n",
        "axis[0].plot(model8.history.history['accuracy'])\n",
        "axis[0].plot(model8.history.history['val_accuracy'])\n",
        "axis[0].legend(['train', 'val'], loc='upper left')\n",
        "axis[0].set_title('accuracy')\n",
        "\n",
        "axis[1].plot(model8.history.history['loss'])\n",
        "axis[1].plot(model8.history.history['val_loss'])\n",
        "axis[1].legend(['train', 'val'], loc='upper left')\n",
        "axis[1].set_title('loss')\n",
        "\n",
        "plt.show()"
      ]
    },
    {
      "cell_type": "code",
      "execution_count": 92,
      "id": "085e7853",
      "metadata": {
        "colab": {
          "base_uri": "https://localhost:8080/"
        },
        "id": "085e7853",
        "outputId": "e7508d68-521c-458a-a0c4-77551f9e8e73"
      },
      "outputs": [
        {
          "output_type": "stream",
          "name": "stdout",
          "text": [
            "Test loss: 0.059400543570518494\n",
            "Test accuracy: 0.9801499843597412\n"
          ]
        }
      ],
      "source": [
        "score = model8.evaluate(X_test, y_test, verbose=0)\n",
        "print('Test loss:', score[0])\n",
        "print('Test accuracy:', score[1])"
      ]
    },
    {
      "cell_type": "markdown",
      "id": "c18fe4cb",
      "metadata": {
        "id": "c18fe4cb"
      },
      "source": [
        "**Модель с несколькими BIGRU слоями**"
      ]
    },
    {
      "cell_type": "code",
      "execution_count": 93,
      "id": "2f90b499",
      "metadata": {
        "id": "2f90b499"
      },
      "outputs": [],
      "source": [
        "inputs = tf.keras.layers.Input(shape=(MAX_LEN,))\n",
        "embeddings = tf.keras.layers.Embedding(input_dim=len(word2id), output_dim=100)(inputs)\n",
        "\n",
        "gru_1 = tf.keras.layers.Bidirectional(tf.keras.layers.GRU(128, return_sequences=True))(embeddings)\n",
        "gru_2 = tf.keras.layers.Bidirectional(tf.keras.layers.GRU(128, return_sequences=True))(gru_1)\n",
        "gru_3 = tf.keras.layers.Bidirectional(tf.keras.layers.GRU(128, return_sequences=True))(gru_2)\n",
        "gru_4 = tf.keras.layers.Bidirectional(tf.keras.layers.GRU(128, return_sequences=True))(gru_3)\n",
        "\n",
        "outputs = tf.keras.layers.Dense(len(label2id), activation='softmax')(gru_4)\n",
        "\n",
        "model9 = tf.keras.Model(inputs=inputs, outputs=outputs)\n",
        "model9.compile(optimizer='adam',\n",
        "              loss='sparse_categorical_crossentropy',\n",
        "             metrics=['accuracy'])"
      ]
    },
    {
      "cell_type": "code",
      "execution_count": 94,
      "id": "5ffca35b",
      "metadata": {
        "colab": {
          "base_uri": "https://localhost:8080/"
        },
        "id": "5ffca35b",
        "outputId": "ad861539-a638-421e-c3b6-5997997dc54c"
      },
      "outputs": [
        {
          "output_type": "stream",
          "name": "stdout",
          "text": [
            "Epoch 1/10\n",
            "157/157 [==============================] - 39s 110ms/step - loss: 0.2171 - accuracy: 0.9349 - val_loss: 0.1205 - val_accuracy: 0.9614\n",
            "Epoch 2/10\n",
            "157/157 [==============================] - 8s 52ms/step - loss: 0.0884 - accuracy: 0.9707 - val_loss: 0.0714 - val_accuracy: 0.9768\n",
            "Epoch 3/10\n",
            "157/157 [==============================] - 9s 55ms/step - loss: 0.0659 - accuracy: 0.9779 - val_loss: 0.0706 - val_accuracy: 0.9778\n",
            "Epoch 4/10\n",
            "157/157 [==============================] - 8s 48ms/step - loss: 0.0617 - accuracy: 0.9791 - val_loss: 0.0611 - val_accuracy: 0.9796\n",
            "Epoch 5/10\n",
            "157/157 [==============================] - 8s 51ms/step - loss: 0.0584 - accuracy: 0.9801 - val_loss: 0.0593 - val_accuracy: 0.9799\n",
            "Epoch 6/10\n",
            "157/157 [==============================] - 7s 45ms/step - loss: 0.0571 - accuracy: 0.9805 - val_loss: 0.0584 - val_accuracy: 0.9801\n",
            "Epoch 7/10\n",
            "157/157 [==============================] - 10s 62ms/step - loss: 0.0554 - accuracy: 0.9811 - val_loss: 0.0592 - val_accuracy: 0.9797\n",
            "Epoch 8/10\n",
            "157/157 [==============================] - 14s 88ms/step - loss: 0.0545 - accuracy: 0.9812 - val_loss: 0.0569 - val_accuracy: 0.9807\n",
            "Epoch 9/10\n",
            "157/157 [==============================] - 9s 59ms/step - loss: 0.0530 - accuracy: 0.9818 - val_loss: 0.0566 - val_accuracy: 0.9809\n",
            "Epoch 10/10\n",
            "157/157 [==============================] - 9s 60ms/step - loss: 0.0520 - accuracy: 0.9821 - val_loss: 0.0556 - val_accuracy: 0.9809\n"
          ]
        },
        {
          "output_type": "execute_result",
          "data": {
            "text/plain": [
              "<keras.callbacks.History at 0x7f7c5ecf2bf0>"
            ]
          },
          "metadata": {},
          "execution_count": 94
        }
      ],
      "source": [
        "model9.fit(X_train, y_train,\n",
        "          validation_data=(X_test, y_test),\n",
        "          batch_size=128,\n",
        "         epochs=10)"
      ]
    },
    {
      "cell_type": "markdown",
      "source": [
        "**Графики обучения модели**\n",
        "\n",
        "Почему-то keras решил не отдавать историю обучения модельки, хотя до этого все шло хорошо"
      ],
      "metadata": {
        "id": "VcIIRCDYkA__"
      },
      "id": "VcIIRCDYkA__"
    },
    {
      "cell_type": "code",
      "execution_count": 105,
      "id": "1205deab",
      "metadata": {
        "colab": {
          "base_uri": "https://localhost:8080/"
        },
        "id": "1205deab",
        "outputId": "8336f301-c75e-4ada-8dc8-31f6856b248a"
      },
      "outputs": [
        {
          "output_type": "stream",
          "name": "stdout",
          "text": [
            "{}\n"
          ]
        }
      ],
      "source": [
        "print(model9.history.history)"
      ]
    },
    {
      "cell_type": "code",
      "execution_count": 103,
      "id": "73186168",
      "metadata": {
        "colab": {
          "base_uri": "https://localhost:8080/"
        },
        "id": "73186168",
        "outputId": "6747fcdf-f5fe-427d-dde8-d9dec16b3a54"
      },
      "outputs": [
        {
          "output_type": "stream",
          "name": "stdout",
          "text": [
            "Test loss: 0.055602509528398514\n",
            "Test accuracy: 0.9809055328369141\n"
          ]
        }
      ],
      "source": [
        "score = model9.evaluate(X_test, y_test, verbose=0)\n",
        "print('Test loss:', score[0])\n",
        "print('Test accuracy:', score[1])"
      ]
    },
    {
      "cell_type": "markdown",
      "source": [
        "Как видно, обе модели хорошо обучились, но вторая модель с би-гру слоями все же чуть лучше"
      ],
      "metadata": {
        "id": "E9AVecJmlwcu"
      },
      "id": "E9AVecJmlwcu"
    },
    {
      "cell_type": "markdown",
      "source": [
        "**Сравнение на сложных примерах**"
      ],
      "metadata": {
        "id": "TtZKTGRdj_9-"
      },
      "id": "TtZKTGRdj_9-"
    },
    {
      "cell_type": "code",
      "source": [
        "! pip install ipymarkup"
      ],
      "metadata": {
        "colab": {
          "base_uri": "https://localhost:8080/"
        },
        "id": "uYGsqW17tyUJ",
        "outputId": "3358af59-8dc7-4a5a-d953-48a4995abbe7"
      },
      "id": "uYGsqW17tyUJ",
      "execution_count": 106,
      "outputs": [
        {
          "output_type": "stream",
          "name": "stdout",
          "text": [
            "Looking in indexes: https://pypi.org/simple, https://us-python.pkg.dev/colab-wheels/public/simple/\n",
            "Collecting ipymarkup\n",
            "  Downloading ipymarkup-0.9.0-py3-none-any.whl (14 kB)\n",
            "Collecting intervaltree>=3 (from ipymarkup)\n",
            "  Downloading intervaltree-3.1.0.tar.gz (32 kB)\n",
            "  Preparing metadata (setup.py) ... \u001b[?25l\u001b[?25hdone\n",
            "Requirement already satisfied: sortedcontainers<3.0,>=2.0 in /usr/local/lib/python3.10/dist-packages (from intervaltree>=3->ipymarkup) (2.4.0)\n",
            "Building wheels for collected packages: intervaltree\n",
            "  Building wheel for intervaltree (setup.py) ... \u001b[?25l\u001b[?25hdone\n",
            "  Created wheel for intervaltree: filename=intervaltree-3.1.0-py2.py3-none-any.whl size=26099 sha256=02da3d3cf12ce752b1ad4041f527701e760c5a22e5bdee7ff6006bb169f06e98\n",
            "  Stored in directory: /root/.cache/pip/wheels/fa/80/8c/43488a924a046b733b64de3fac99252674c892a4c3801c0a61\n",
            "Successfully built intervaltree\n",
            "Installing collected packages: intervaltree, ipymarkup\n",
            "Successfully installed intervaltree-3.1.0 ipymarkup-0.9.0\n"
          ]
        }
      ]
    },
    {
      "cell_type": "code",
      "source": [
        "from ipymarkup import show_span_box_markup"
      ],
      "metadata": {
        "id": "24xqLsgLt51a"
      },
      "id": "24xqLsgLt51a",
      "execution_count": 107,
      "outputs": []
    },
    {
      "cell_type": "code",
      "source": [
        "example1 = \"Представляя спикера, проректор НИУ ВШЭ Елена Одоевская подчеркнула, что Дарья Кирьянова до прихода в министерство долгое время работала в бизнесе — в корпорации Intel на различных позициях.\"\n",
        "example2 = \"Рядом весело бежали псы его, которых звали: Караул, Пожар, Дружок, Чемодан и Пирожок, Рыже-огненный Кидай и огромный Угадай.\"\n",
        "example3 = \"Эрих Мария Ремарк был женат на Ильзе Ютте Замбоне, но брак был фиктивным. \""
      ],
      "metadata": {
        "id": "lvvaCSm5kSp_"
      },
      "id": "lvvaCSm5kSp_",
      "execution_count": 108,
      "outputs": []
    },
    {
      "cell_type": "code",
      "source": [
        "label_seq('Алексей сказал Светлане, чтобы она собиралась на поезд в Москву.', word2id, id2labels, MAX_LEN, model9)"
      ],
      "metadata": {
        "colab": {
          "base_uri": "https://localhost:8080/"
        },
        "id": "hK003ziokJHi",
        "outputId": "4e501937-ae17-4349-9c6f-b6eb0398b204"
      },
      "id": "hK003ziokJHi",
      "execution_count": 109,
      "outputs": [
        {
          "output_type": "stream",
          "name": "stdout",
          "text": [
            "1/1 [==============================] - 7s 7s/step\n"
          ]
        },
        {
          "output_type": "execute_result",
          "data": {
            "text/plain": [
              "[('Алексей', 'B-PER'),\n",
              " ('сказал', 'O'),\n",
              " ('Светлане', 'O'),\n",
              " (',', 'O'),\n",
              " ('чтобы', 'O'),\n",
              " ('она', 'O'),\n",
              " ('собиралась', 'O'),\n",
              " ('на', 'O'),\n",
              " ('поезд', 'O'),\n",
              " ('в', 'O'),\n",
              " ('Москву', 'O'),\n",
              " ('.', 'O')]"
            ]
          },
          "metadata": {},
          "execution_count": 109
        }
      ]
    },
    {
      "cell_type": "code",
      "source": [
        "def get_markup(example):\n",
        "    markup_1 = label_seq(example, word2id, id2labels, MAX_LEN, model8)\n",
        "    markup_2 = label_seq(example, word2id, id2labels, MAX_LEN, model9)\n",
        "    spans1 = []\n",
        "    spans2 = []\n",
        "    for i, (word, tag) in enumerate(markup_1):\n",
        "        idx1 = example.index(word)\n",
        "        idx2 = idx1 + len(word)\n",
        "        if tag != 'O':\n",
        "            spans1.append((idx1, idx2, tag))\n",
        "        if markup_2[i][1] != 'O':\n",
        "            spans2.append((idx1, idx2, markup_2[i][1]))\n",
        "    show_span_box_markup(example, spans1)\n",
        "    show_span_box_markup(example, spans2)"
      ],
      "metadata": {
        "id": "T8BoJngIu79D"
      },
      "id": "T8BoJngIu79D",
      "execution_count": 127,
      "outputs": []
    },
    {
      "cell_type": "code",
      "source": [
        "get_markup(example1)"
      ],
      "metadata": {
        "colab": {
          "base_uri": "https://localhost:8080/",
          "height": 121
        },
        "id": "12S_qhR5w8Do",
        "outputId": "a1938794-900a-486c-b76b-746138dc9e7b"
      },
      "id": "12S_qhR5w8Do",
      "execution_count": 128,
      "outputs": [
        {
          "output_type": "stream",
          "name": "stdout",
          "text": [
            "1/1 [==============================] - 0s 29ms/step\n",
            "1/1 [==============================] - 0s 33ms/step\n"
          ]
        },
        {
          "output_type": "display_data",
          "data": {
            "text/plain": [
              "<IPython.core.display.HTML object>"
            ],
            "text/html": [
              "<div class=\"tex2jax_ignore\" style=\"white-space: pre-wrap\">Представляя спикера, проректор НИУ ВШЭ Елена Одоевская подчеркнула, что Дарья Кирьянова до прихода в <span style=\"padding: 2px; border-radius: 4px; border: 1px solid #c8e6c9; background: #e8f5e9\">министерство<span style=\"vertical-align: middle; margin-left: 2px; font-size: 0.7em; color: #66bb6a;\">B-LOC</span></span> долгое время работала в <span style=\"padding: 2px; border-radius: 4px; border: 1px solid #c8e6c9; background: #e8f5e9\">бизнесе<span style=\"vertical-align: middle; margin-left: 2px; font-size: 0.7em; color: #66bb6a;\">B-LOC</span></span> — в корпорации Intel на различных позициях.</div>"
            ]
          },
          "metadata": {}
        },
        {
          "output_type": "display_data",
          "data": {
            "text/plain": [
              "<IPython.core.display.HTML object>"
            ],
            "text/html": [
              "<div class=\"tex2jax_ignore\" style=\"white-space: pre-wrap\">Представляя спикера, проректор НИУ ВШЭ Елена Одоевская подчеркнула, что Дарья Кирьянова до прихода в <span style=\"padding: 2px; border-radius: 4px; border: 1px solid #ffcdd2; background: #ffebee\">министерство<span style=\"vertical-align: middle; margin-left: 2px; font-size: 0.7em; color: #e57373;\">B-ORG</span></span> <span style=\"padding: 2px; border-radius: 4px; border: 1px solid #ffe0b2; background: #fff3e0\">долгое<span style=\"vertical-align: middle; margin-left: 2px; font-size: 0.7em; color: #ffb74d;\">I-ORG</span></span> время работала в бизнесе — в корпорации Intel на различных позициях.</div>"
            ]
          },
          "metadata": {}
        }
      ]
    },
    {
      "cell_type": "code",
      "source": [
        "get_markup(example2)"
      ],
      "metadata": {
        "colab": {
          "base_uri": "https://localhost:8080/",
          "height": 86
        },
        "id": "6rmyT_5Kxda2",
        "outputId": "0445b59a-e9c7-4c03-e778-cc7ca775b345"
      },
      "id": "6rmyT_5Kxda2",
      "execution_count": 129,
      "outputs": [
        {
          "output_type": "stream",
          "name": "stdout",
          "text": [
            "1/1 [==============================] - 0s 52ms/step\n",
            "1/1 [==============================] - 0s 42ms/step\n"
          ]
        },
        {
          "output_type": "display_data",
          "data": {
            "text/plain": [
              "<IPython.core.display.HTML object>"
            ],
            "text/html": [
              "<div class=\"tex2jax_ignore\" style=\"white-space: pre-wrap\">Рядом весело бежали псы его, которых звали<span style=\"padding: 2px; border-radius: 4px; border: 1px solid #ffe0b2; background: #fff3e0\">:<span style=\"vertical-align: middle; margin-left: 2px; font-size: 0.7em; color: #ffb74d;\">I-ORG</span></span> <span style=\"padding: 2px; border-radius: 4px; border: 1px solid #ffe0b2; background: #fff3e0\">Караул<span style=\"vertical-align: middle; margin-left: 2px; font-size: 0.7em; color: #ffb74d;\">I-ORG</span></span>, <span style=\"padding: 2px; border-radius: 4px; border: 1px solid #d1c4e9; background: #ede7f6\">Пожар<span style=\"vertical-align: middle; margin-left: 2px; font-size: 0.7em; color: #9575cd;\">B-PER</span></span>, <span style=\"padding: 2px; border-radius: 4px; border: 1px solid #d1c4e9; background: #ede7f6\">Дружок<span style=\"vertical-align: middle; margin-left: 2px; font-size: 0.7em; color: #9575cd;\">B-PER</span></span>, Чемодан и Пирожок, Рыже-огненный Кидай и огромный Угадай.</div>"
            ]
          },
          "metadata": {}
        },
        {
          "output_type": "display_data",
          "data": {
            "text/plain": [
              "<IPython.core.display.HTML object>"
            ],
            "text/html": [
              "<div class=\"tex2jax_ignore\" style=\"white-space: pre-wrap\">Рядом весело бежали псы его, которых <span style=\"padding: 2px; border-radius: 4px; border: 1px solid #ffcdd2; background: #ffebee\">звали<span style=\"vertical-align: middle; margin-left: 2px; font-size: 0.7em; color: #e57373;\">B-ORG</span></span><span style=\"padding: 2px; border-radius: 4px; border: 1px solid #ffe0b2; background: #fff3e0\">:<span style=\"vertical-align: middle; margin-left: 2px; font-size: 0.7em; color: #ffb74d;\">I-ORG</span></span> <span style=\"padding: 2px; border-radius: 4px; border: 1px solid #ffe0b2; background: #fff3e0\">Караул<span style=\"vertical-align: middle; margin-left: 2px; font-size: 0.7em; color: #ffb74d;\">I-ORG</span></span>, <span style=\"padding: 2px; border-radius: 4px; border: 1px solid #ffcdd2; background: #ffebee\">Пожар<span style=\"vertical-align: middle; margin-left: 2px; font-size: 0.7em; color: #e57373;\">B-ORG</span></span>, <span style=\"padding: 2px; border-radius: 4px; border: 1px solid #c8e6c9; background: #e8f5e9\">Дружок<span style=\"vertical-align: middle; margin-left: 2px; font-size: 0.7em; color: #66bb6a;\">B-LOC</span></span>, <span style=\"padding: 2px; border-radius: 4px; border: 1px solid #c8e6c9; background: #e8f5e9\">Чемодан<span style=\"vertical-align: middle; margin-left: 2px; font-size: 0.7em; color: #66bb6a;\">B-LOC</span></span> и Пирожок, Рыже-огненный Кидай и огромный Угадай.</div>"
            ]
          },
          "metadata": {}
        }
      ]
    },
    {
      "cell_type": "code",
      "source": [
        "get_markup(example3)"
      ],
      "metadata": {
        "colab": {
          "base_uri": "https://localhost:8080/",
          "height": 86
        },
        "id": "CXlp7pXPx_nA",
        "outputId": "76ac0347-80c5-4c7d-a356-82afcec2cbc7"
      },
      "id": "CXlp7pXPx_nA",
      "execution_count": 130,
      "outputs": [
        {
          "output_type": "stream",
          "name": "stdout",
          "text": [
            "1/1 [==============================] - 0s 138ms/step\n",
            "1/1 [==============================] - 0s 135ms/step\n"
          ]
        },
        {
          "output_type": "display_data",
          "data": {
            "text/plain": [
              "<IPython.core.display.HTML object>"
            ],
            "text/html": [
              "<div class=\"tex2jax_ignore\" style=\"white-space: pre-wrap\">Эрих Мария Ремарк был женат на Ильзе Ютте Замбоне, но брак был фиктивным. </div>"
            ]
          },
          "metadata": {}
        },
        {
          "output_type": "display_data",
          "data": {
            "text/plain": [
              "<IPython.core.display.HTML object>"
            ],
            "text/html": [
              "<div class=\"tex2jax_ignore\" style=\"white-space: pre-wrap\">Эрих <span style=\"padding: 2px; border-radius: 4px; border: 1px solid #d7ccc8; background: #efebe9\">Мария<span style=\"vertical-align: middle; margin-left: 2px; font-size: 0.7em; color: #a1887f;\">I-PER</span></span> <span style=\"padding: 2px; border-radius: 4px; border: 1px solid #d7ccc8; background: #efebe9\">Ремарк<span style=\"vertical-align: middle; margin-left: 2px; font-size: 0.7em; color: #a1887f;\">I-PER</span></span> был женат на Ильзе Ютте Замбоне, но брак был фиктивным. </div>"
            ]
          },
          "metadata": {}
        }
      ]
    },
    {
      "cell_type": "markdown",
      "source": [
        "***Пример 1***\n",
        "\n",
        "Не распознаются имя и фамилия, стоящие внутри предложения, в целом, а не только те, которые сопровождаются приложением (*проректор НИУ ВШЭ*). Зато второй моделью токен *минестерство* распознаётся как организация, хотя она расширяет эту сущность до *минестерство долгое*, что неверно. Первая же модель неверно приписывает ему тег локации, как и токену *бизнес*\n",
        "\n",
        "***Пример 2***\n",
        "\n",
        "Сложные клички лучше распознаются первой моделью, хотя и не все. Вторая модель, хоть и выделяет их как именованные сущности, приписывает им не те теги.\n",
        "\n",
        "***Пример 3***\n",
        "\n",
        "Составные иностранные имена распознаются в начале предложения, но не в середине / конце. Также первому токену не приписывается нужный тег \"B-PER\"."
      ],
      "metadata": {
        "id": "p1eiJ1u5ysta"
      },
      "id": "p1eiJ1u5ysta"
    }
  ],
  "metadata": {
    "kernelspec": {
      "display_name": "Python 3",
      "name": "python3"
    },
    "language_info": {
      "codemirror_mode": {
        "name": "ipython",
        "version": 3
      },
      "file_extension": ".py",
      "mimetype": "text/x-python",
      "name": "python",
      "nbconvert_exporter": "python",
      "pygments_lexer": "ipython3",
      "version": "3.9.13"
    },
    "colab": {
      "provenance": [],
      "gpuType": "T4"
    },
    "accelerator": "GPU",
    "widgets": {
      "application/vnd.jupyter.widget-state+json": {
        "1cbd24cc55e24c4e91ffddb900a0e50b": {
          "model_module": "@jupyter-widgets/controls",
          "model_name": "HBoxModel",
          "model_module_version": "1.5.0",
          "state": {
            "_dom_classes": [],
            "_model_module": "@jupyter-widgets/controls",
            "_model_module_version": "1.5.0",
            "_model_name": "HBoxModel",
            "_view_count": null,
            "_view_module": "@jupyter-widgets/controls",
            "_view_module_version": "1.5.0",
            "_view_name": "HBoxView",
            "box_style": "",
            "children": [
              "IPY_MODEL_c2d2684f7baa45a7a8f16f47c54a3522",
              "IPY_MODEL_2ee3eb74c0754308b43d57ec47e7071f",
              "IPY_MODEL_3105b4e711a0461184a1da374ae24187"
            ],
            "layout": "IPY_MODEL_00652edd7a364016bfc1ac840d537a66"
          }
        },
        "c2d2684f7baa45a7a8f16f47c54a3522": {
          "model_module": "@jupyter-widgets/controls",
          "model_name": "HTMLModel",
          "model_module_version": "1.5.0",
          "state": {
            "_dom_classes": [],
            "_model_module": "@jupyter-widgets/controls",
            "_model_module_version": "1.5.0",
            "_model_name": "HTMLModel",
            "_view_count": null,
            "_view_module": "@jupyter-widgets/controls",
            "_view_module_version": "1.5.0",
            "_view_name": "HTMLView",
            "description": "",
            "description_tooltip": null,
            "layout": "IPY_MODEL_b13f5efbbc894f22bbfc8fbd12782bb6",
            "placeholder": "​",
            "style": "IPY_MODEL_b46b0eeed377400a85bcf112334c9af7",
            "value": "Downloading builder script: 100%"
          }
        },
        "2ee3eb74c0754308b43d57ec47e7071f": {
          "model_module": "@jupyter-widgets/controls",
          "model_name": "FloatProgressModel",
          "model_module_version": "1.5.0",
          "state": {
            "_dom_classes": [],
            "_model_module": "@jupyter-widgets/controls",
            "_model_module_version": "1.5.0",
            "_model_name": "FloatProgressModel",
            "_view_count": null,
            "_view_module": "@jupyter-widgets/controls",
            "_view_module_version": "1.5.0",
            "_view_name": "ProgressView",
            "bar_style": "success",
            "description": "",
            "description_tooltip": null,
            "layout": "IPY_MODEL_cdf67c99fc4a46168a2ef246d1e6e9d1",
            "max": 11637,
            "min": 0,
            "orientation": "horizontal",
            "style": "IPY_MODEL_7cc73ee35fc6428a8ee63f8f784a83f8",
            "value": 11637
          }
        },
        "3105b4e711a0461184a1da374ae24187": {
          "model_module": "@jupyter-widgets/controls",
          "model_name": "HTMLModel",
          "model_module_version": "1.5.0",
          "state": {
            "_dom_classes": [],
            "_model_module": "@jupyter-widgets/controls",
            "_model_module_version": "1.5.0",
            "_model_name": "HTMLModel",
            "_view_count": null,
            "_view_module": "@jupyter-widgets/controls",
            "_view_module_version": "1.5.0",
            "_view_name": "HTMLView",
            "description": "",
            "description_tooltip": null,
            "layout": "IPY_MODEL_bd91034e38f04170947ebb1de5f5a14c",
            "placeholder": "​",
            "style": "IPY_MODEL_8317a70c175e41dfb33232414fe15529",
            "value": " 11.6k/11.6k [00:00&lt;00:00, 351kB/s]"
          }
        },
        "00652edd7a364016bfc1ac840d537a66": {
          "model_module": "@jupyter-widgets/base",
          "model_name": "LayoutModel",
          "model_module_version": "1.2.0",
          "state": {
            "_model_module": "@jupyter-widgets/base",
            "_model_module_version": "1.2.0",
            "_model_name": "LayoutModel",
            "_view_count": null,
            "_view_module": "@jupyter-widgets/base",
            "_view_module_version": "1.2.0",
            "_view_name": "LayoutView",
            "align_content": null,
            "align_items": null,
            "align_self": null,
            "border": null,
            "bottom": null,
            "display": null,
            "flex": null,
            "flex_flow": null,
            "grid_area": null,
            "grid_auto_columns": null,
            "grid_auto_flow": null,
            "grid_auto_rows": null,
            "grid_column": null,
            "grid_gap": null,
            "grid_row": null,
            "grid_template_areas": null,
            "grid_template_columns": null,
            "grid_template_rows": null,
            "height": null,
            "justify_content": null,
            "justify_items": null,
            "left": null,
            "margin": null,
            "max_height": null,
            "max_width": null,
            "min_height": null,
            "min_width": null,
            "object_fit": null,
            "object_position": null,
            "order": null,
            "overflow": null,
            "overflow_x": null,
            "overflow_y": null,
            "padding": null,
            "right": null,
            "top": null,
            "visibility": null,
            "width": null
          }
        },
        "b13f5efbbc894f22bbfc8fbd12782bb6": {
          "model_module": "@jupyter-widgets/base",
          "model_name": "LayoutModel",
          "model_module_version": "1.2.0",
          "state": {
            "_model_module": "@jupyter-widgets/base",
            "_model_module_version": "1.2.0",
            "_model_name": "LayoutModel",
            "_view_count": null,
            "_view_module": "@jupyter-widgets/base",
            "_view_module_version": "1.2.0",
            "_view_name": "LayoutView",
            "align_content": null,
            "align_items": null,
            "align_self": null,
            "border": null,
            "bottom": null,
            "display": null,
            "flex": null,
            "flex_flow": null,
            "grid_area": null,
            "grid_auto_columns": null,
            "grid_auto_flow": null,
            "grid_auto_rows": null,
            "grid_column": null,
            "grid_gap": null,
            "grid_row": null,
            "grid_template_areas": null,
            "grid_template_columns": null,
            "grid_template_rows": null,
            "height": null,
            "justify_content": null,
            "justify_items": null,
            "left": null,
            "margin": null,
            "max_height": null,
            "max_width": null,
            "min_height": null,
            "min_width": null,
            "object_fit": null,
            "object_position": null,
            "order": null,
            "overflow": null,
            "overflow_x": null,
            "overflow_y": null,
            "padding": null,
            "right": null,
            "top": null,
            "visibility": null,
            "width": null
          }
        },
        "b46b0eeed377400a85bcf112334c9af7": {
          "model_module": "@jupyter-widgets/controls",
          "model_name": "DescriptionStyleModel",
          "model_module_version": "1.5.0",
          "state": {
            "_model_module": "@jupyter-widgets/controls",
            "_model_module_version": "1.5.0",
            "_model_name": "DescriptionStyleModel",
            "_view_count": null,
            "_view_module": "@jupyter-widgets/base",
            "_view_module_version": "1.2.0",
            "_view_name": "StyleView",
            "description_width": ""
          }
        },
        "cdf67c99fc4a46168a2ef246d1e6e9d1": {
          "model_module": "@jupyter-widgets/base",
          "model_name": "LayoutModel",
          "model_module_version": "1.2.0",
          "state": {
            "_model_module": "@jupyter-widgets/base",
            "_model_module_version": "1.2.0",
            "_model_name": "LayoutModel",
            "_view_count": null,
            "_view_module": "@jupyter-widgets/base",
            "_view_module_version": "1.2.0",
            "_view_name": "LayoutView",
            "align_content": null,
            "align_items": null,
            "align_self": null,
            "border": null,
            "bottom": null,
            "display": null,
            "flex": null,
            "flex_flow": null,
            "grid_area": null,
            "grid_auto_columns": null,
            "grid_auto_flow": null,
            "grid_auto_rows": null,
            "grid_column": null,
            "grid_gap": null,
            "grid_row": null,
            "grid_template_areas": null,
            "grid_template_columns": null,
            "grid_template_rows": null,
            "height": null,
            "justify_content": null,
            "justify_items": null,
            "left": null,
            "margin": null,
            "max_height": null,
            "max_width": null,
            "min_height": null,
            "min_width": null,
            "object_fit": null,
            "object_position": null,
            "order": null,
            "overflow": null,
            "overflow_x": null,
            "overflow_y": null,
            "padding": null,
            "right": null,
            "top": null,
            "visibility": null,
            "width": null
          }
        },
        "7cc73ee35fc6428a8ee63f8f784a83f8": {
          "model_module": "@jupyter-widgets/controls",
          "model_name": "ProgressStyleModel",
          "model_module_version": "1.5.0",
          "state": {
            "_model_module": "@jupyter-widgets/controls",
            "_model_module_version": "1.5.0",
            "_model_name": "ProgressStyleModel",
            "_view_count": null,
            "_view_module": "@jupyter-widgets/base",
            "_view_module_version": "1.2.0",
            "_view_name": "StyleView",
            "bar_color": null,
            "description_width": ""
          }
        },
        "bd91034e38f04170947ebb1de5f5a14c": {
          "model_module": "@jupyter-widgets/base",
          "model_name": "LayoutModel",
          "model_module_version": "1.2.0",
          "state": {
            "_model_module": "@jupyter-widgets/base",
            "_model_module_version": "1.2.0",
            "_model_name": "LayoutModel",
            "_view_count": null,
            "_view_module": "@jupyter-widgets/base",
            "_view_module_version": "1.2.0",
            "_view_name": "LayoutView",
            "align_content": null,
            "align_items": null,
            "align_self": null,
            "border": null,
            "bottom": null,
            "display": null,
            "flex": null,
            "flex_flow": null,
            "grid_area": null,
            "grid_auto_columns": null,
            "grid_auto_flow": null,
            "grid_auto_rows": null,
            "grid_column": null,
            "grid_gap": null,
            "grid_row": null,
            "grid_template_areas": null,
            "grid_template_columns": null,
            "grid_template_rows": null,
            "height": null,
            "justify_content": null,
            "justify_items": null,
            "left": null,
            "margin": null,
            "max_height": null,
            "max_width": null,
            "min_height": null,
            "min_width": null,
            "object_fit": null,
            "object_position": null,
            "order": null,
            "overflow": null,
            "overflow_x": null,
            "overflow_y": null,
            "padding": null,
            "right": null,
            "top": null,
            "visibility": null,
            "width": null
          }
        },
        "8317a70c175e41dfb33232414fe15529": {
          "model_module": "@jupyter-widgets/controls",
          "model_name": "DescriptionStyleModel",
          "model_module_version": "1.5.0",
          "state": {
            "_model_module": "@jupyter-widgets/controls",
            "_model_module_version": "1.5.0",
            "_model_name": "DescriptionStyleModel",
            "_view_count": null,
            "_view_module": "@jupyter-widgets/base",
            "_view_module_version": "1.2.0",
            "_view_name": "StyleView",
            "description_width": ""
          }
        },
        "5650bd367e51462783448cd441f052db": {
          "model_module": "@jupyter-widgets/controls",
          "model_name": "HBoxModel",
          "model_module_version": "1.5.0",
          "state": {
            "_dom_classes": [],
            "_model_module": "@jupyter-widgets/controls",
            "_model_module_version": "1.5.0",
            "_model_name": "HBoxModel",
            "_view_count": null,
            "_view_module": "@jupyter-widgets/controls",
            "_view_module_version": "1.5.0",
            "_view_name": "HBoxView",
            "box_style": "",
            "children": [
              "IPY_MODEL_71baafc7cb634b308f437b7dc723a086",
              "IPY_MODEL_a558586ef6e64754993c9a4ea39fe8d3",
              "IPY_MODEL_6d5d2f5dca35435e9eccfa2206593981"
            ],
            "layout": "IPY_MODEL_969f3a8bacc9485cb577c653bab55617"
          }
        },
        "71baafc7cb634b308f437b7dc723a086": {
          "model_module": "@jupyter-widgets/controls",
          "model_name": "HTMLModel",
          "model_module_version": "1.5.0",
          "state": {
            "_dom_classes": [],
            "_model_module": "@jupyter-widgets/controls",
            "_model_module_version": "1.5.0",
            "_model_name": "HTMLModel",
            "_view_count": null,
            "_view_module": "@jupyter-widgets/controls",
            "_view_module_version": "1.5.0",
            "_view_name": "HTMLView",
            "description": "",
            "description_tooltip": null,
            "layout": "IPY_MODEL_fe182d9dadff47f39d08ebcfa89fd1e0",
            "placeholder": "​",
            "style": "IPY_MODEL_cf26028ff95048b2bb93e018fb8ac233",
            "value": "Downloading metadata: 100%"
          }
        },
        "a558586ef6e64754993c9a4ea39fe8d3": {
          "model_module": "@jupyter-widgets/controls",
          "model_name": "FloatProgressModel",
          "model_module_version": "1.5.0",
          "state": {
            "_dom_classes": [],
            "_model_module": "@jupyter-widgets/controls",
            "_model_module_version": "1.5.0",
            "_model_name": "FloatProgressModel",
            "_view_count": null,
            "_view_module": "@jupyter-widgets/controls",
            "_view_module_version": "1.5.0",
            "_view_name": "ProgressView",
            "bar_style": "success",
            "description": "",
            "description_tooltip": null,
            "layout": "IPY_MODEL_fc1729171ab7449490e26e01f87185b8",
            "max": 617123,
            "min": 0,
            "orientation": "horizontal",
            "style": "IPY_MODEL_e3a36752a746472e8ce61826c47fe856",
            "value": 617123
          }
        },
        "6d5d2f5dca35435e9eccfa2206593981": {
          "model_module": "@jupyter-widgets/controls",
          "model_name": "HTMLModel",
          "model_module_version": "1.5.0",
          "state": {
            "_dom_classes": [],
            "_model_module": "@jupyter-widgets/controls",
            "_model_module_version": "1.5.0",
            "_model_name": "HTMLModel",
            "_view_count": null,
            "_view_module": "@jupyter-widgets/controls",
            "_view_module_version": "1.5.0",
            "_view_name": "HTMLView",
            "description": "",
            "description_tooltip": null,
            "layout": "IPY_MODEL_3ad2c768b38448fd80550b2a78b508ca",
            "placeholder": "​",
            "style": "IPY_MODEL_72a8d06ac80a476da3c2e78143d27522",
            "value": " 617k/617k [00:00&lt;00:00, 678kB/s]"
          }
        },
        "969f3a8bacc9485cb577c653bab55617": {
          "model_module": "@jupyter-widgets/base",
          "model_name": "LayoutModel",
          "model_module_version": "1.2.0",
          "state": {
            "_model_module": "@jupyter-widgets/base",
            "_model_module_version": "1.2.0",
            "_model_name": "LayoutModel",
            "_view_count": null,
            "_view_module": "@jupyter-widgets/base",
            "_view_module_version": "1.2.0",
            "_view_name": "LayoutView",
            "align_content": null,
            "align_items": null,
            "align_self": null,
            "border": null,
            "bottom": null,
            "display": null,
            "flex": null,
            "flex_flow": null,
            "grid_area": null,
            "grid_auto_columns": null,
            "grid_auto_flow": null,
            "grid_auto_rows": null,
            "grid_column": null,
            "grid_gap": null,
            "grid_row": null,
            "grid_template_areas": null,
            "grid_template_columns": null,
            "grid_template_rows": null,
            "height": null,
            "justify_content": null,
            "justify_items": null,
            "left": null,
            "margin": null,
            "max_height": null,
            "max_width": null,
            "min_height": null,
            "min_width": null,
            "object_fit": null,
            "object_position": null,
            "order": null,
            "overflow": null,
            "overflow_x": null,
            "overflow_y": null,
            "padding": null,
            "right": null,
            "top": null,
            "visibility": null,
            "width": null
          }
        },
        "fe182d9dadff47f39d08ebcfa89fd1e0": {
          "model_module": "@jupyter-widgets/base",
          "model_name": "LayoutModel",
          "model_module_version": "1.2.0",
          "state": {
            "_model_module": "@jupyter-widgets/base",
            "_model_module_version": "1.2.0",
            "_model_name": "LayoutModel",
            "_view_count": null,
            "_view_module": "@jupyter-widgets/base",
            "_view_module_version": "1.2.0",
            "_view_name": "LayoutView",
            "align_content": null,
            "align_items": null,
            "align_self": null,
            "border": null,
            "bottom": null,
            "display": null,
            "flex": null,
            "flex_flow": null,
            "grid_area": null,
            "grid_auto_columns": null,
            "grid_auto_flow": null,
            "grid_auto_rows": null,
            "grid_column": null,
            "grid_gap": null,
            "grid_row": null,
            "grid_template_areas": null,
            "grid_template_columns": null,
            "grid_template_rows": null,
            "height": null,
            "justify_content": null,
            "justify_items": null,
            "left": null,
            "margin": null,
            "max_height": null,
            "max_width": null,
            "min_height": null,
            "min_width": null,
            "object_fit": null,
            "object_position": null,
            "order": null,
            "overflow": null,
            "overflow_x": null,
            "overflow_y": null,
            "padding": null,
            "right": null,
            "top": null,
            "visibility": null,
            "width": null
          }
        },
        "cf26028ff95048b2bb93e018fb8ac233": {
          "model_module": "@jupyter-widgets/controls",
          "model_name": "DescriptionStyleModel",
          "model_module_version": "1.5.0",
          "state": {
            "_model_module": "@jupyter-widgets/controls",
            "_model_module_version": "1.5.0",
            "_model_name": "DescriptionStyleModel",
            "_view_count": null,
            "_view_module": "@jupyter-widgets/base",
            "_view_module_version": "1.2.0",
            "_view_name": "StyleView",
            "description_width": ""
          }
        },
        "fc1729171ab7449490e26e01f87185b8": {
          "model_module": "@jupyter-widgets/base",
          "model_name": "LayoutModel",
          "model_module_version": "1.2.0",
          "state": {
            "_model_module": "@jupyter-widgets/base",
            "_model_module_version": "1.2.0",
            "_model_name": "LayoutModel",
            "_view_count": null,
            "_view_module": "@jupyter-widgets/base",
            "_view_module_version": "1.2.0",
            "_view_name": "LayoutView",
            "align_content": null,
            "align_items": null,
            "align_self": null,
            "border": null,
            "bottom": null,
            "display": null,
            "flex": null,
            "flex_flow": null,
            "grid_area": null,
            "grid_auto_columns": null,
            "grid_auto_flow": null,
            "grid_auto_rows": null,
            "grid_column": null,
            "grid_gap": null,
            "grid_row": null,
            "grid_template_areas": null,
            "grid_template_columns": null,
            "grid_template_rows": null,
            "height": null,
            "justify_content": null,
            "justify_items": null,
            "left": null,
            "margin": null,
            "max_height": null,
            "max_width": null,
            "min_height": null,
            "min_width": null,
            "object_fit": null,
            "object_position": null,
            "order": null,
            "overflow": null,
            "overflow_x": null,
            "overflow_y": null,
            "padding": null,
            "right": null,
            "top": null,
            "visibility": null,
            "width": null
          }
        },
        "e3a36752a746472e8ce61826c47fe856": {
          "model_module": "@jupyter-widgets/controls",
          "model_name": "ProgressStyleModel",
          "model_module_version": "1.5.0",
          "state": {
            "_model_module": "@jupyter-widgets/controls",
            "_model_module_version": "1.5.0",
            "_model_name": "ProgressStyleModel",
            "_view_count": null,
            "_view_module": "@jupyter-widgets/base",
            "_view_module_version": "1.2.0",
            "_view_name": "StyleView",
            "bar_color": null,
            "description_width": ""
          }
        },
        "3ad2c768b38448fd80550b2a78b508ca": {
          "model_module": "@jupyter-widgets/base",
          "model_name": "LayoutModel",
          "model_module_version": "1.2.0",
          "state": {
            "_model_module": "@jupyter-widgets/base",
            "_model_module_version": "1.2.0",
            "_model_name": "LayoutModel",
            "_view_count": null,
            "_view_module": "@jupyter-widgets/base",
            "_view_module_version": "1.2.0",
            "_view_name": "LayoutView",
            "align_content": null,
            "align_items": null,
            "align_self": null,
            "border": null,
            "bottom": null,
            "display": null,
            "flex": null,
            "flex_flow": null,
            "grid_area": null,
            "grid_auto_columns": null,
            "grid_auto_flow": null,
            "grid_auto_rows": null,
            "grid_column": null,
            "grid_gap": null,
            "grid_row": null,
            "grid_template_areas": null,
            "grid_template_columns": null,
            "grid_template_rows": null,
            "height": null,
            "justify_content": null,
            "justify_items": null,
            "left": null,
            "margin": null,
            "max_height": null,
            "max_width": null,
            "min_height": null,
            "min_width": null,
            "object_fit": null,
            "object_position": null,
            "order": null,
            "overflow": null,
            "overflow_x": null,
            "overflow_y": null,
            "padding": null,
            "right": null,
            "top": null,
            "visibility": null,
            "width": null
          }
        },
        "72a8d06ac80a476da3c2e78143d27522": {
          "model_module": "@jupyter-widgets/controls",
          "model_name": "DescriptionStyleModel",
          "model_module_version": "1.5.0",
          "state": {
            "_model_module": "@jupyter-widgets/controls",
            "_model_module_version": "1.5.0",
            "_model_name": "DescriptionStyleModel",
            "_view_count": null,
            "_view_module": "@jupyter-widgets/base",
            "_view_module_version": "1.2.0",
            "_view_name": "StyleView",
            "description_width": ""
          }
        },
        "69eb55fcc9ee43459fbf853fb08b76a3": {
          "model_module": "@jupyter-widgets/controls",
          "model_name": "HBoxModel",
          "model_module_version": "1.5.0",
          "state": {
            "_dom_classes": [],
            "_model_module": "@jupyter-widgets/controls",
            "_model_module_version": "1.5.0",
            "_model_name": "HBoxModel",
            "_view_count": null,
            "_view_module": "@jupyter-widgets/controls",
            "_view_module_version": "1.5.0",
            "_view_name": "HBoxView",
            "box_style": "",
            "children": [
              "IPY_MODEL_6533e3ad88254dc8b6637e753a2d5ecd",
              "IPY_MODEL_84d0db2e59e3428ca502bc2c359c099e",
              "IPY_MODEL_5d662e73f570412ca04f286f16e96488"
            ],
            "layout": "IPY_MODEL_291ce2d86d264d35bc6301092b012af2"
          }
        },
        "6533e3ad88254dc8b6637e753a2d5ecd": {
          "model_module": "@jupyter-widgets/controls",
          "model_name": "HTMLModel",
          "model_module_version": "1.5.0",
          "state": {
            "_dom_classes": [],
            "_model_module": "@jupyter-widgets/controls",
            "_model_module_version": "1.5.0",
            "_model_name": "HTMLModel",
            "_view_count": null,
            "_view_module": "@jupyter-widgets/controls",
            "_view_module_version": "1.5.0",
            "_view_name": "HTMLView",
            "description": "",
            "description_tooltip": null,
            "layout": "IPY_MODEL_9eed1fddda5443bda24634d89f2ba0ed",
            "placeholder": "​",
            "style": "IPY_MODEL_af35d0cad88b4d5d9b73c6c0082e2a70",
            "value": "Downloading readme: 100%"
          }
        },
        "84d0db2e59e3428ca502bc2c359c099e": {
          "model_module": "@jupyter-widgets/controls",
          "model_name": "FloatProgressModel",
          "model_module_version": "1.5.0",
          "state": {
            "_dom_classes": [],
            "_model_module": "@jupyter-widgets/controls",
            "_model_module_version": "1.5.0",
            "_model_name": "FloatProgressModel",
            "_view_count": null,
            "_view_module": "@jupyter-widgets/controls",
            "_view_module_version": "1.5.0",
            "_view_name": "ProgressView",
            "bar_style": "success",
            "description": "",
            "description_tooltip": null,
            "layout": "IPY_MODEL_45d3f28af0c748f4b70137156df78ed6",
            "max": 130679,
            "min": 0,
            "orientation": "horizontal",
            "style": "IPY_MODEL_658d3828fe8f4e4fb64b45bbc22d24d4",
            "value": 130679
          }
        },
        "5d662e73f570412ca04f286f16e96488": {
          "model_module": "@jupyter-widgets/controls",
          "model_name": "HTMLModel",
          "model_module_version": "1.5.0",
          "state": {
            "_dom_classes": [],
            "_model_module": "@jupyter-widgets/controls",
            "_model_module_version": "1.5.0",
            "_model_name": "HTMLModel",
            "_view_count": null,
            "_view_module": "@jupyter-widgets/controls",
            "_view_module_version": "1.5.0",
            "_view_name": "HTMLView",
            "description": "",
            "description_tooltip": null,
            "layout": "IPY_MODEL_8807d8504b274cab9ce42fea6b987177",
            "placeholder": "​",
            "style": "IPY_MODEL_89671fc3926645349e5c15e1055246e6",
            "value": " 131k/131k [00:00&lt;00:00, 216kB/s]"
          }
        },
        "291ce2d86d264d35bc6301092b012af2": {
          "model_module": "@jupyter-widgets/base",
          "model_name": "LayoutModel",
          "model_module_version": "1.2.0",
          "state": {
            "_model_module": "@jupyter-widgets/base",
            "_model_module_version": "1.2.0",
            "_model_name": "LayoutModel",
            "_view_count": null,
            "_view_module": "@jupyter-widgets/base",
            "_view_module_version": "1.2.0",
            "_view_name": "LayoutView",
            "align_content": null,
            "align_items": null,
            "align_self": null,
            "border": null,
            "bottom": null,
            "display": null,
            "flex": null,
            "flex_flow": null,
            "grid_area": null,
            "grid_auto_columns": null,
            "grid_auto_flow": null,
            "grid_auto_rows": null,
            "grid_column": null,
            "grid_gap": null,
            "grid_row": null,
            "grid_template_areas": null,
            "grid_template_columns": null,
            "grid_template_rows": null,
            "height": null,
            "justify_content": null,
            "justify_items": null,
            "left": null,
            "margin": null,
            "max_height": null,
            "max_width": null,
            "min_height": null,
            "min_width": null,
            "object_fit": null,
            "object_position": null,
            "order": null,
            "overflow": null,
            "overflow_x": null,
            "overflow_y": null,
            "padding": null,
            "right": null,
            "top": null,
            "visibility": null,
            "width": null
          }
        },
        "9eed1fddda5443bda24634d89f2ba0ed": {
          "model_module": "@jupyter-widgets/base",
          "model_name": "LayoutModel",
          "model_module_version": "1.2.0",
          "state": {
            "_model_module": "@jupyter-widgets/base",
            "_model_module_version": "1.2.0",
            "_model_name": "LayoutModel",
            "_view_count": null,
            "_view_module": "@jupyter-widgets/base",
            "_view_module_version": "1.2.0",
            "_view_name": "LayoutView",
            "align_content": null,
            "align_items": null,
            "align_self": null,
            "border": null,
            "bottom": null,
            "display": null,
            "flex": null,
            "flex_flow": null,
            "grid_area": null,
            "grid_auto_columns": null,
            "grid_auto_flow": null,
            "grid_auto_rows": null,
            "grid_column": null,
            "grid_gap": null,
            "grid_row": null,
            "grid_template_areas": null,
            "grid_template_columns": null,
            "grid_template_rows": null,
            "height": null,
            "justify_content": null,
            "justify_items": null,
            "left": null,
            "margin": null,
            "max_height": null,
            "max_width": null,
            "min_height": null,
            "min_width": null,
            "object_fit": null,
            "object_position": null,
            "order": null,
            "overflow": null,
            "overflow_x": null,
            "overflow_y": null,
            "padding": null,
            "right": null,
            "top": null,
            "visibility": null,
            "width": null
          }
        },
        "af35d0cad88b4d5d9b73c6c0082e2a70": {
          "model_module": "@jupyter-widgets/controls",
          "model_name": "DescriptionStyleModel",
          "model_module_version": "1.5.0",
          "state": {
            "_model_module": "@jupyter-widgets/controls",
            "_model_module_version": "1.5.0",
            "_model_name": "DescriptionStyleModel",
            "_view_count": null,
            "_view_module": "@jupyter-widgets/base",
            "_view_module_version": "1.2.0",
            "_view_name": "StyleView",
            "description_width": ""
          }
        },
        "45d3f28af0c748f4b70137156df78ed6": {
          "model_module": "@jupyter-widgets/base",
          "model_name": "LayoutModel",
          "model_module_version": "1.2.0",
          "state": {
            "_model_module": "@jupyter-widgets/base",
            "_model_module_version": "1.2.0",
            "_model_name": "LayoutModel",
            "_view_count": null,
            "_view_module": "@jupyter-widgets/base",
            "_view_module_version": "1.2.0",
            "_view_name": "LayoutView",
            "align_content": null,
            "align_items": null,
            "align_self": null,
            "border": null,
            "bottom": null,
            "display": null,
            "flex": null,
            "flex_flow": null,
            "grid_area": null,
            "grid_auto_columns": null,
            "grid_auto_flow": null,
            "grid_auto_rows": null,
            "grid_column": null,
            "grid_gap": null,
            "grid_row": null,
            "grid_template_areas": null,
            "grid_template_columns": null,
            "grid_template_rows": null,
            "height": null,
            "justify_content": null,
            "justify_items": null,
            "left": null,
            "margin": null,
            "max_height": null,
            "max_width": null,
            "min_height": null,
            "min_width": null,
            "object_fit": null,
            "object_position": null,
            "order": null,
            "overflow": null,
            "overflow_x": null,
            "overflow_y": null,
            "padding": null,
            "right": null,
            "top": null,
            "visibility": null,
            "width": null
          }
        },
        "658d3828fe8f4e4fb64b45bbc22d24d4": {
          "model_module": "@jupyter-widgets/controls",
          "model_name": "ProgressStyleModel",
          "model_module_version": "1.5.0",
          "state": {
            "_model_module": "@jupyter-widgets/controls",
            "_model_module_version": "1.5.0",
            "_model_name": "ProgressStyleModel",
            "_view_count": null,
            "_view_module": "@jupyter-widgets/base",
            "_view_module_version": "1.2.0",
            "_view_name": "StyleView",
            "bar_color": null,
            "description_width": ""
          }
        },
        "8807d8504b274cab9ce42fea6b987177": {
          "model_module": "@jupyter-widgets/base",
          "model_name": "LayoutModel",
          "model_module_version": "1.2.0",
          "state": {
            "_model_module": "@jupyter-widgets/base",
            "_model_module_version": "1.2.0",
            "_model_name": "LayoutModel",
            "_view_count": null,
            "_view_module": "@jupyter-widgets/base",
            "_view_module_version": "1.2.0",
            "_view_name": "LayoutView",
            "align_content": null,
            "align_items": null,
            "align_self": null,
            "border": null,
            "bottom": null,
            "display": null,
            "flex": null,
            "flex_flow": null,
            "grid_area": null,
            "grid_auto_columns": null,
            "grid_auto_flow": null,
            "grid_auto_rows": null,
            "grid_column": null,
            "grid_gap": null,
            "grid_row": null,
            "grid_template_areas": null,
            "grid_template_columns": null,
            "grid_template_rows": null,
            "height": null,
            "justify_content": null,
            "justify_items": null,
            "left": null,
            "margin": null,
            "max_height": null,
            "max_width": null,
            "min_height": null,
            "min_width": null,
            "object_fit": null,
            "object_position": null,
            "order": null,
            "overflow": null,
            "overflow_x": null,
            "overflow_y": null,
            "padding": null,
            "right": null,
            "top": null,
            "visibility": null,
            "width": null
          }
        },
        "89671fc3926645349e5c15e1055246e6": {
          "model_module": "@jupyter-widgets/controls",
          "model_name": "DescriptionStyleModel",
          "model_module_version": "1.5.0",
          "state": {
            "_model_module": "@jupyter-widgets/controls",
            "_model_module_version": "1.5.0",
            "_model_name": "DescriptionStyleModel",
            "_view_count": null,
            "_view_module": "@jupyter-widgets/base",
            "_view_module_version": "1.2.0",
            "_view_name": "StyleView",
            "description_width": ""
          }
        },
        "d0afd4ea210f471dbcafbb65c6226194": {
          "model_module": "@jupyter-widgets/controls",
          "model_name": "HBoxModel",
          "model_module_version": "1.5.0",
          "state": {
            "_dom_classes": [],
            "_model_module": "@jupyter-widgets/controls",
            "_model_module_version": "1.5.0",
            "_model_name": "HBoxModel",
            "_view_count": null,
            "_view_module": "@jupyter-widgets/controls",
            "_view_module_version": "1.5.0",
            "_view_name": "HBoxView",
            "box_style": "",
            "children": [
              "IPY_MODEL_6aeb3c76adeb43b78fba640e0e95702c",
              "IPY_MODEL_aa87e580cd1748cc99c06c5c828a6161",
              "IPY_MODEL_f1f7825a36fc40d4a19742a60b3b3176"
            ],
            "layout": "IPY_MODEL_d3492f045e294be6a30b76ea4bce9303"
          }
        },
        "6aeb3c76adeb43b78fba640e0e95702c": {
          "model_module": "@jupyter-widgets/controls",
          "model_name": "HTMLModel",
          "model_module_version": "1.5.0",
          "state": {
            "_dom_classes": [],
            "_model_module": "@jupyter-widgets/controls",
            "_model_module_version": "1.5.0",
            "_model_name": "HTMLModel",
            "_view_count": null,
            "_view_module": "@jupyter-widgets/controls",
            "_view_module_version": "1.5.0",
            "_view_name": "HTMLView",
            "description": "",
            "description_tooltip": null,
            "layout": "IPY_MODEL_fd9e44d7cd434dfeaab99d14b5d77678",
            "placeholder": "​",
            "style": "IPY_MODEL_0359ed89a7f843789cfefc46a760b210",
            "value": "Downloading data: 100%"
          }
        },
        "aa87e580cd1748cc99c06c5c828a6161": {
          "model_module": "@jupyter-widgets/controls",
          "model_name": "FloatProgressModel",
          "model_module_version": "1.5.0",
          "state": {
            "_dom_classes": [],
            "_model_module": "@jupyter-widgets/controls",
            "_model_module_version": "1.5.0",
            "_model_name": "FloatProgressModel",
            "_view_count": null,
            "_view_module": "@jupyter-widgets/controls",
            "_view_module_version": "1.5.0",
            "_view_name": "ProgressView",
            "bar_style": "success",
            "description": "",
            "description_tooltip": null,
            "layout": "IPY_MODEL_6618152ae9e34047af2210c4b733286e",
            "max": 234008884,
            "min": 0,
            "orientation": "horizontal",
            "style": "IPY_MODEL_7de16442ad034b8e93308be51436142a",
            "value": 234008884
          }
        },
        "f1f7825a36fc40d4a19742a60b3b3176": {
          "model_module": "@jupyter-widgets/controls",
          "model_name": "HTMLModel",
          "model_module_version": "1.5.0",
          "state": {
            "_dom_classes": [],
            "_model_module": "@jupyter-widgets/controls",
            "_model_module_version": "1.5.0",
            "_model_name": "HTMLModel",
            "_view_count": null,
            "_view_module": "@jupyter-widgets/controls",
            "_view_module_version": "1.5.0",
            "_view_name": "HTMLView",
            "description": "",
            "description_tooltip": null,
            "layout": "IPY_MODEL_427faf2a5827490eadfd8e99fa12aa07",
            "placeholder": "​",
            "style": "IPY_MODEL_a1f0bdd1878440ecb05e7e21a3889249",
            "value": " 234M/234M [00:19&lt;00:00, 13.4MB/s]"
          }
        },
        "d3492f045e294be6a30b76ea4bce9303": {
          "model_module": "@jupyter-widgets/base",
          "model_name": "LayoutModel",
          "model_module_version": "1.2.0",
          "state": {
            "_model_module": "@jupyter-widgets/base",
            "_model_module_version": "1.2.0",
            "_model_name": "LayoutModel",
            "_view_count": null,
            "_view_module": "@jupyter-widgets/base",
            "_view_module_version": "1.2.0",
            "_view_name": "LayoutView",
            "align_content": null,
            "align_items": null,
            "align_self": null,
            "border": null,
            "bottom": null,
            "display": null,
            "flex": null,
            "flex_flow": null,
            "grid_area": null,
            "grid_auto_columns": null,
            "grid_auto_flow": null,
            "grid_auto_rows": null,
            "grid_column": null,
            "grid_gap": null,
            "grid_row": null,
            "grid_template_areas": null,
            "grid_template_columns": null,
            "grid_template_rows": null,
            "height": null,
            "justify_content": null,
            "justify_items": null,
            "left": null,
            "margin": null,
            "max_height": null,
            "max_width": null,
            "min_height": null,
            "min_width": null,
            "object_fit": null,
            "object_position": null,
            "order": null,
            "overflow": null,
            "overflow_x": null,
            "overflow_y": null,
            "padding": null,
            "right": null,
            "top": null,
            "visibility": null,
            "width": null
          }
        },
        "fd9e44d7cd434dfeaab99d14b5d77678": {
          "model_module": "@jupyter-widgets/base",
          "model_name": "LayoutModel",
          "model_module_version": "1.2.0",
          "state": {
            "_model_module": "@jupyter-widgets/base",
            "_model_module_version": "1.2.0",
            "_model_name": "LayoutModel",
            "_view_count": null,
            "_view_module": "@jupyter-widgets/base",
            "_view_module_version": "1.2.0",
            "_view_name": "LayoutView",
            "align_content": null,
            "align_items": null,
            "align_self": null,
            "border": null,
            "bottom": null,
            "display": null,
            "flex": null,
            "flex_flow": null,
            "grid_area": null,
            "grid_auto_columns": null,
            "grid_auto_flow": null,
            "grid_auto_rows": null,
            "grid_column": null,
            "grid_gap": null,
            "grid_row": null,
            "grid_template_areas": null,
            "grid_template_columns": null,
            "grid_template_rows": null,
            "height": null,
            "justify_content": null,
            "justify_items": null,
            "left": null,
            "margin": null,
            "max_height": null,
            "max_width": null,
            "min_height": null,
            "min_width": null,
            "object_fit": null,
            "object_position": null,
            "order": null,
            "overflow": null,
            "overflow_x": null,
            "overflow_y": null,
            "padding": null,
            "right": null,
            "top": null,
            "visibility": null,
            "width": null
          }
        },
        "0359ed89a7f843789cfefc46a760b210": {
          "model_module": "@jupyter-widgets/controls",
          "model_name": "DescriptionStyleModel",
          "model_module_version": "1.5.0",
          "state": {
            "_model_module": "@jupyter-widgets/controls",
            "_model_module_version": "1.5.0",
            "_model_name": "DescriptionStyleModel",
            "_view_count": null,
            "_view_module": "@jupyter-widgets/base",
            "_view_module_version": "1.2.0",
            "_view_name": "StyleView",
            "description_width": ""
          }
        },
        "6618152ae9e34047af2210c4b733286e": {
          "model_module": "@jupyter-widgets/base",
          "model_name": "LayoutModel",
          "model_module_version": "1.2.0",
          "state": {
            "_model_module": "@jupyter-widgets/base",
            "_model_module_version": "1.2.0",
            "_model_name": "LayoutModel",
            "_view_count": null,
            "_view_module": "@jupyter-widgets/base",
            "_view_module_version": "1.2.0",
            "_view_name": "LayoutView",
            "align_content": null,
            "align_items": null,
            "align_self": null,
            "border": null,
            "bottom": null,
            "display": null,
            "flex": null,
            "flex_flow": null,
            "grid_area": null,
            "grid_auto_columns": null,
            "grid_auto_flow": null,
            "grid_auto_rows": null,
            "grid_column": null,
            "grid_gap": null,
            "grid_row": null,
            "grid_template_areas": null,
            "grid_template_columns": null,
            "grid_template_rows": null,
            "height": null,
            "justify_content": null,
            "justify_items": null,
            "left": null,
            "margin": null,
            "max_height": null,
            "max_width": null,
            "min_height": null,
            "min_width": null,
            "object_fit": null,
            "object_position": null,
            "order": null,
            "overflow": null,
            "overflow_x": null,
            "overflow_y": null,
            "padding": null,
            "right": null,
            "top": null,
            "visibility": null,
            "width": null
          }
        },
        "7de16442ad034b8e93308be51436142a": {
          "model_module": "@jupyter-widgets/controls",
          "model_name": "ProgressStyleModel",
          "model_module_version": "1.5.0",
          "state": {
            "_model_module": "@jupyter-widgets/controls",
            "_model_module_version": "1.5.0",
            "_model_name": "ProgressStyleModel",
            "_view_count": null,
            "_view_module": "@jupyter-widgets/base",
            "_view_module_version": "1.2.0",
            "_view_name": "StyleView",
            "bar_color": null,
            "description_width": ""
          }
        },
        "427faf2a5827490eadfd8e99fa12aa07": {
          "model_module": "@jupyter-widgets/base",
          "model_name": "LayoutModel",
          "model_module_version": "1.2.0",
          "state": {
            "_model_module": "@jupyter-widgets/base",
            "_model_module_version": "1.2.0",
            "_model_name": "LayoutModel",
            "_view_count": null,
            "_view_module": "@jupyter-widgets/base",
            "_view_module_version": "1.2.0",
            "_view_name": "LayoutView",
            "align_content": null,
            "align_items": null,
            "align_self": null,
            "border": null,
            "bottom": null,
            "display": null,
            "flex": null,
            "flex_flow": null,
            "grid_area": null,
            "grid_auto_columns": null,
            "grid_auto_flow": null,
            "grid_auto_rows": null,
            "grid_column": null,
            "grid_gap": null,
            "grid_row": null,
            "grid_template_areas": null,
            "grid_template_columns": null,
            "grid_template_rows": null,
            "height": null,
            "justify_content": null,
            "justify_items": null,
            "left": null,
            "margin": null,
            "max_height": null,
            "max_width": null,
            "min_height": null,
            "min_width": null,
            "object_fit": null,
            "object_position": null,
            "order": null,
            "overflow": null,
            "overflow_x": null,
            "overflow_y": null,
            "padding": null,
            "right": null,
            "top": null,
            "visibility": null,
            "width": null
          }
        },
        "a1f0bdd1878440ecb05e7e21a3889249": {
          "model_module": "@jupyter-widgets/controls",
          "model_name": "DescriptionStyleModel",
          "model_module_version": "1.5.0",
          "state": {
            "_model_module": "@jupyter-widgets/controls",
            "_model_module_version": "1.5.0",
            "_model_name": "DescriptionStyleModel",
            "_view_count": null,
            "_view_module": "@jupyter-widgets/base",
            "_view_module_version": "1.2.0",
            "_view_name": "StyleView",
            "description_width": ""
          }
        },
        "13a6b06ffb684e88b96b94ab6c678c1b": {
          "model_module": "@jupyter-widgets/controls",
          "model_name": "HBoxModel",
          "model_module_version": "1.5.0",
          "state": {
            "_dom_classes": [],
            "_model_module": "@jupyter-widgets/controls",
            "_model_module_version": "1.5.0",
            "_model_name": "HBoxModel",
            "_view_count": null,
            "_view_module": "@jupyter-widgets/controls",
            "_view_module_version": "1.5.0",
            "_view_name": "HBoxView",
            "box_style": "",
            "children": [
              "IPY_MODEL_752b93b199574e0b958273cf770cccb6",
              "IPY_MODEL_2b13f6ed1fc94417a08d5938e0e10d58",
              "IPY_MODEL_cdf4545660fa4e0fb9bce0d98edff26f"
            ],
            "layout": "IPY_MODEL_fd3c413c3a6047bcb58292ca66be53ca"
          }
        },
        "752b93b199574e0b958273cf770cccb6": {
          "model_module": "@jupyter-widgets/controls",
          "model_name": "HTMLModel",
          "model_module_version": "1.5.0",
          "state": {
            "_dom_classes": [],
            "_model_module": "@jupyter-widgets/controls",
            "_model_module_version": "1.5.0",
            "_model_name": "HTMLModel",
            "_view_count": null,
            "_view_module": "@jupyter-widgets/controls",
            "_view_module_version": "1.5.0",
            "_view_name": "HTMLView",
            "description": "",
            "description_tooltip": null,
            "layout": "IPY_MODEL_ffde389076df4d3cbd2379cce13fb403",
            "placeholder": "​",
            "style": "IPY_MODEL_e1c587290d3345f8bc1f149cc9248048",
            "value": "Generating validation split: 100%"
          }
        },
        "2b13f6ed1fc94417a08d5938e0e10d58": {
          "model_module": "@jupyter-widgets/controls",
          "model_name": "FloatProgressModel",
          "model_module_version": "1.5.0",
          "state": {
            "_dom_classes": [],
            "_model_module": "@jupyter-widgets/controls",
            "_model_module_version": "1.5.0",
            "_model_name": "FloatProgressModel",
            "_view_count": null,
            "_view_module": "@jupyter-widgets/controls",
            "_view_module_version": "1.5.0",
            "_view_name": "ProgressView",
            "bar_style": "",
            "description": "",
            "description_tooltip": null,
            "layout": "IPY_MODEL_557c57d97ed6415fbd01094f54c942e7",
            "max": 10000,
            "min": 0,
            "orientation": "horizontal",
            "style": "IPY_MODEL_4a4dc0d43f3646118e4115bdcbb80c25",
            "value": 10000
          }
        },
        "cdf4545660fa4e0fb9bce0d98edff26f": {
          "model_module": "@jupyter-widgets/controls",
          "model_name": "HTMLModel",
          "model_module_version": "1.5.0",
          "state": {
            "_dom_classes": [],
            "_model_module": "@jupyter-widgets/controls",
            "_model_module_version": "1.5.0",
            "_model_name": "HTMLModel",
            "_view_count": null,
            "_view_module": "@jupyter-widgets/controls",
            "_view_module_version": "1.5.0",
            "_view_name": "HTMLView",
            "description": "",
            "description_tooltip": null,
            "layout": "IPY_MODEL_339cbd5c493b4af291264977e06cb795",
            "placeholder": "​",
            "style": "IPY_MODEL_799cc8191fac4d8d8b8125953b84b41e",
            "value": " 9985/10000 [00:02&lt;00:00, 5701.64 examples/s]"
          }
        },
        "fd3c413c3a6047bcb58292ca66be53ca": {
          "model_module": "@jupyter-widgets/base",
          "model_name": "LayoutModel",
          "model_module_version": "1.2.0",
          "state": {
            "_model_module": "@jupyter-widgets/base",
            "_model_module_version": "1.2.0",
            "_model_name": "LayoutModel",
            "_view_count": null,
            "_view_module": "@jupyter-widgets/base",
            "_view_module_version": "1.2.0",
            "_view_name": "LayoutView",
            "align_content": null,
            "align_items": null,
            "align_self": null,
            "border": null,
            "bottom": null,
            "display": null,
            "flex": null,
            "flex_flow": null,
            "grid_area": null,
            "grid_auto_columns": null,
            "grid_auto_flow": null,
            "grid_auto_rows": null,
            "grid_column": null,
            "grid_gap": null,
            "grid_row": null,
            "grid_template_areas": null,
            "grid_template_columns": null,
            "grid_template_rows": null,
            "height": null,
            "justify_content": null,
            "justify_items": null,
            "left": null,
            "margin": null,
            "max_height": null,
            "max_width": null,
            "min_height": null,
            "min_width": null,
            "object_fit": null,
            "object_position": null,
            "order": null,
            "overflow": null,
            "overflow_x": null,
            "overflow_y": null,
            "padding": null,
            "right": null,
            "top": null,
            "visibility": "hidden",
            "width": null
          }
        },
        "ffde389076df4d3cbd2379cce13fb403": {
          "model_module": "@jupyter-widgets/base",
          "model_name": "LayoutModel",
          "model_module_version": "1.2.0",
          "state": {
            "_model_module": "@jupyter-widgets/base",
            "_model_module_version": "1.2.0",
            "_model_name": "LayoutModel",
            "_view_count": null,
            "_view_module": "@jupyter-widgets/base",
            "_view_module_version": "1.2.0",
            "_view_name": "LayoutView",
            "align_content": null,
            "align_items": null,
            "align_self": null,
            "border": null,
            "bottom": null,
            "display": null,
            "flex": null,
            "flex_flow": null,
            "grid_area": null,
            "grid_auto_columns": null,
            "grid_auto_flow": null,
            "grid_auto_rows": null,
            "grid_column": null,
            "grid_gap": null,
            "grid_row": null,
            "grid_template_areas": null,
            "grid_template_columns": null,
            "grid_template_rows": null,
            "height": null,
            "justify_content": null,
            "justify_items": null,
            "left": null,
            "margin": null,
            "max_height": null,
            "max_width": null,
            "min_height": null,
            "min_width": null,
            "object_fit": null,
            "object_position": null,
            "order": null,
            "overflow": null,
            "overflow_x": null,
            "overflow_y": null,
            "padding": null,
            "right": null,
            "top": null,
            "visibility": null,
            "width": null
          }
        },
        "e1c587290d3345f8bc1f149cc9248048": {
          "model_module": "@jupyter-widgets/controls",
          "model_name": "DescriptionStyleModel",
          "model_module_version": "1.5.0",
          "state": {
            "_model_module": "@jupyter-widgets/controls",
            "_model_module_version": "1.5.0",
            "_model_name": "DescriptionStyleModel",
            "_view_count": null,
            "_view_module": "@jupyter-widgets/base",
            "_view_module_version": "1.2.0",
            "_view_name": "StyleView",
            "description_width": ""
          }
        },
        "557c57d97ed6415fbd01094f54c942e7": {
          "model_module": "@jupyter-widgets/base",
          "model_name": "LayoutModel",
          "model_module_version": "1.2.0",
          "state": {
            "_model_module": "@jupyter-widgets/base",
            "_model_module_version": "1.2.0",
            "_model_name": "LayoutModel",
            "_view_count": null,
            "_view_module": "@jupyter-widgets/base",
            "_view_module_version": "1.2.0",
            "_view_name": "LayoutView",
            "align_content": null,
            "align_items": null,
            "align_self": null,
            "border": null,
            "bottom": null,
            "display": null,
            "flex": null,
            "flex_flow": null,
            "grid_area": null,
            "grid_auto_columns": null,
            "grid_auto_flow": null,
            "grid_auto_rows": null,
            "grid_column": null,
            "grid_gap": null,
            "grid_row": null,
            "grid_template_areas": null,
            "grid_template_columns": null,
            "grid_template_rows": null,
            "height": null,
            "justify_content": null,
            "justify_items": null,
            "left": null,
            "margin": null,
            "max_height": null,
            "max_width": null,
            "min_height": null,
            "min_width": null,
            "object_fit": null,
            "object_position": null,
            "order": null,
            "overflow": null,
            "overflow_x": null,
            "overflow_y": null,
            "padding": null,
            "right": null,
            "top": null,
            "visibility": null,
            "width": null
          }
        },
        "4a4dc0d43f3646118e4115bdcbb80c25": {
          "model_module": "@jupyter-widgets/controls",
          "model_name": "ProgressStyleModel",
          "model_module_version": "1.5.0",
          "state": {
            "_model_module": "@jupyter-widgets/controls",
            "_model_module_version": "1.5.0",
            "_model_name": "ProgressStyleModel",
            "_view_count": null,
            "_view_module": "@jupyter-widgets/base",
            "_view_module_version": "1.2.0",
            "_view_name": "StyleView",
            "bar_color": null,
            "description_width": ""
          }
        },
        "339cbd5c493b4af291264977e06cb795": {
          "model_module": "@jupyter-widgets/base",
          "model_name": "LayoutModel",
          "model_module_version": "1.2.0",
          "state": {
            "_model_module": "@jupyter-widgets/base",
            "_model_module_version": "1.2.0",
            "_model_name": "LayoutModel",
            "_view_count": null,
            "_view_module": "@jupyter-widgets/base",
            "_view_module_version": "1.2.0",
            "_view_name": "LayoutView",
            "align_content": null,
            "align_items": null,
            "align_self": null,
            "border": null,
            "bottom": null,
            "display": null,
            "flex": null,
            "flex_flow": null,
            "grid_area": null,
            "grid_auto_columns": null,
            "grid_auto_flow": null,
            "grid_auto_rows": null,
            "grid_column": null,
            "grid_gap": null,
            "grid_row": null,
            "grid_template_areas": null,
            "grid_template_columns": null,
            "grid_template_rows": null,
            "height": null,
            "justify_content": null,
            "justify_items": null,
            "left": null,
            "margin": null,
            "max_height": null,
            "max_width": null,
            "min_height": null,
            "min_width": null,
            "object_fit": null,
            "object_position": null,
            "order": null,
            "overflow": null,
            "overflow_x": null,
            "overflow_y": null,
            "padding": null,
            "right": null,
            "top": null,
            "visibility": null,
            "width": null
          }
        },
        "799cc8191fac4d8d8b8125953b84b41e": {
          "model_module": "@jupyter-widgets/controls",
          "model_name": "DescriptionStyleModel",
          "model_module_version": "1.5.0",
          "state": {
            "_model_module": "@jupyter-widgets/controls",
            "_model_module_version": "1.5.0",
            "_model_name": "DescriptionStyleModel",
            "_view_count": null,
            "_view_module": "@jupyter-widgets/base",
            "_view_module_version": "1.2.0",
            "_view_name": "StyleView",
            "description_width": ""
          }
        },
        "c67a2e0f8570423fa4ebea3ee0933e42": {
          "model_module": "@jupyter-widgets/controls",
          "model_name": "HBoxModel",
          "model_module_version": "1.5.0",
          "state": {
            "_dom_classes": [],
            "_model_module": "@jupyter-widgets/controls",
            "_model_module_version": "1.5.0",
            "_model_name": "HBoxModel",
            "_view_count": null,
            "_view_module": "@jupyter-widgets/controls",
            "_view_module_version": "1.5.0",
            "_view_name": "HBoxView",
            "box_style": "",
            "children": [
              "IPY_MODEL_040573bd3540498d93aa6d2558542512",
              "IPY_MODEL_afa6185a8e1141a8b50e3fa955c8a9c1",
              "IPY_MODEL_cf37b0d286254ca2a692d0c0c4942073"
            ],
            "layout": "IPY_MODEL_238a7230d49e4c688de6687a65d6fba7"
          }
        },
        "040573bd3540498d93aa6d2558542512": {
          "model_module": "@jupyter-widgets/controls",
          "model_name": "HTMLModel",
          "model_module_version": "1.5.0",
          "state": {
            "_dom_classes": [],
            "_model_module": "@jupyter-widgets/controls",
            "_model_module_version": "1.5.0",
            "_model_name": "HTMLModel",
            "_view_count": null,
            "_view_module": "@jupyter-widgets/controls",
            "_view_module_version": "1.5.0",
            "_view_name": "HTMLView",
            "description": "",
            "description_tooltip": null,
            "layout": "IPY_MODEL_b254b0ff486e4f65ba8d6c24ea57c6e3",
            "placeholder": "​",
            "style": "IPY_MODEL_b4ad5db9361142a5b57ec1603dd348cb",
            "value": "Generating test split:  99%"
          }
        },
        "afa6185a8e1141a8b50e3fa955c8a9c1": {
          "model_module": "@jupyter-widgets/controls",
          "model_name": "FloatProgressModel",
          "model_module_version": "1.5.0",
          "state": {
            "_dom_classes": [],
            "_model_module": "@jupyter-widgets/controls",
            "_model_module_version": "1.5.0",
            "_model_name": "FloatProgressModel",
            "_view_count": null,
            "_view_module": "@jupyter-widgets/controls",
            "_view_module_version": "1.5.0",
            "_view_name": "ProgressView",
            "bar_style": "",
            "description": "",
            "description_tooltip": null,
            "layout": "IPY_MODEL_cf6b8c1a9c2f42829704e2f03811bdbc",
            "max": 10000,
            "min": 0,
            "orientation": "horizontal",
            "style": "IPY_MODEL_2adac231ff654d8aad5f5246c402badf",
            "value": 10000
          }
        },
        "cf37b0d286254ca2a692d0c0c4942073": {
          "model_module": "@jupyter-widgets/controls",
          "model_name": "HTMLModel",
          "model_module_version": "1.5.0",
          "state": {
            "_dom_classes": [],
            "_model_module": "@jupyter-widgets/controls",
            "_model_module_version": "1.5.0",
            "_model_name": "HTMLModel",
            "_view_count": null,
            "_view_module": "@jupyter-widgets/controls",
            "_view_module_version": "1.5.0",
            "_view_name": "HTMLView",
            "description": "",
            "description_tooltip": null,
            "layout": "IPY_MODEL_9dca10657568473a8d878b43dda7be7b",
            "placeholder": "​",
            "style": "IPY_MODEL_506ac02ab8944cca8d0133e81b25ed15",
            "value": " 9882/10000 [00:01&lt;00:00, 7043.01 examples/s]"
          }
        },
        "238a7230d49e4c688de6687a65d6fba7": {
          "model_module": "@jupyter-widgets/base",
          "model_name": "LayoutModel",
          "model_module_version": "1.2.0",
          "state": {
            "_model_module": "@jupyter-widgets/base",
            "_model_module_version": "1.2.0",
            "_model_name": "LayoutModel",
            "_view_count": null,
            "_view_module": "@jupyter-widgets/base",
            "_view_module_version": "1.2.0",
            "_view_name": "LayoutView",
            "align_content": null,
            "align_items": null,
            "align_self": null,
            "border": null,
            "bottom": null,
            "display": null,
            "flex": null,
            "flex_flow": null,
            "grid_area": null,
            "grid_auto_columns": null,
            "grid_auto_flow": null,
            "grid_auto_rows": null,
            "grid_column": null,
            "grid_gap": null,
            "grid_row": null,
            "grid_template_areas": null,
            "grid_template_columns": null,
            "grid_template_rows": null,
            "height": null,
            "justify_content": null,
            "justify_items": null,
            "left": null,
            "margin": null,
            "max_height": null,
            "max_width": null,
            "min_height": null,
            "min_width": null,
            "object_fit": null,
            "object_position": null,
            "order": null,
            "overflow": null,
            "overflow_x": null,
            "overflow_y": null,
            "padding": null,
            "right": null,
            "top": null,
            "visibility": "hidden",
            "width": null
          }
        },
        "b254b0ff486e4f65ba8d6c24ea57c6e3": {
          "model_module": "@jupyter-widgets/base",
          "model_name": "LayoutModel",
          "model_module_version": "1.2.0",
          "state": {
            "_model_module": "@jupyter-widgets/base",
            "_model_module_version": "1.2.0",
            "_model_name": "LayoutModel",
            "_view_count": null,
            "_view_module": "@jupyter-widgets/base",
            "_view_module_version": "1.2.0",
            "_view_name": "LayoutView",
            "align_content": null,
            "align_items": null,
            "align_self": null,
            "border": null,
            "bottom": null,
            "display": null,
            "flex": null,
            "flex_flow": null,
            "grid_area": null,
            "grid_auto_columns": null,
            "grid_auto_flow": null,
            "grid_auto_rows": null,
            "grid_column": null,
            "grid_gap": null,
            "grid_row": null,
            "grid_template_areas": null,
            "grid_template_columns": null,
            "grid_template_rows": null,
            "height": null,
            "justify_content": null,
            "justify_items": null,
            "left": null,
            "margin": null,
            "max_height": null,
            "max_width": null,
            "min_height": null,
            "min_width": null,
            "object_fit": null,
            "object_position": null,
            "order": null,
            "overflow": null,
            "overflow_x": null,
            "overflow_y": null,
            "padding": null,
            "right": null,
            "top": null,
            "visibility": null,
            "width": null
          }
        },
        "b4ad5db9361142a5b57ec1603dd348cb": {
          "model_module": "@jupyter-widgets/controls",
          "model_name": "DescriptionStyleModel",
          "model_module_version": "1.5.0",
          "state": {
            "_model_module": "@jupyter-widgets/controls",
            "_model_module_version": "1.5.0",
            "_model_name": "DescriptionStyleModel",
            "_view_count": null,
            "_view_module": "@jupyter-widgets/base",
            "_view_module_version": "1.2.0",
            "_view_name": "StyleView",
            "description_width": ""
          }
        },
        "cf6b8c1a9c2f42829704e2f03811bdbc": {
          "model_module": "@jupyter-widgets/base",
          "model_name": "LayoutModel",
          "model_module_version": "1.2.0",
          "state": {
            "_model_module": "@jupyter-widgets/base",
            "_model_module_version": "1.2.0",
            "_model_name": "LayoutModel",
            "_view_count": null,
            "_view_module": "@jupyter-widgets/base",
            "_view_module_version": "1.2.0",
            "_view_name": "LayoutView",
            "align_content": null,
            "align_items": null,
            "align_self": null,
            "border": null,
            "bottom": null,
            "display": null,
            "flex": null,
            "flex_flow": null,
            "grid_area": null,
            "grid_auto_columns": null,
            "grid_auto_flow": null,
            "grid_auto_rows": null,
            "grid_column": null,
            "grid_gap": null,
            "grid_row": null,
            "grid_template_areas": null,
            "grid_template_columns": null,
            "grid_template_rows": null,
            "height": null,
            "justify_content": null,
            "justify_items": null,
            "left": null,
            "margin": null,
            "max_height": null,
            "max_width": null,
            "min_height": null,
            "min_width": null,
            "object_fit": null,
            "object_position": null,
            "order": null,
            "overflow": null,
            "overflow_x": null,
            "overflow_y": null,
            "padding": null,
            "right": null,
            "top": null,
            "visibility": null,
            "width": null
          }
        },
        "2adac231ff654d8aad5f5246c402badf": {
          "model_module": "@jupyter-widgets/controls",
          "model_name": "ProgressStyleModel",
          "model_module_version": "1.5.0",
          "state": {
            "_model_module": "@jupyter-widgets/controls",
            "_model_module_version": "1.5.0",
            "_model_name": "ProgressStyleModel",
            "_view_count": null,
            "_view_module": "@jupyter-widgets/base",
            "_view_module_version": "1.2.0",
            "_view_name": "StyleView",
            "bar_color": null,
            "description_width": ""
          }
        },
        "9dca10657568473a8d878b43dda7be7b": {
          "model_module": "@jupyter-widgets/base",
          "model_name": "LayoutModel",
          "model_module_version": "1.2.0",
          "state": {
            "_model_module": "@jupyter-widgets/base",
            "_model_module_version": "1.2.0",
            "_model_name": "LayoutModel",
            "_view_count": null,
            "_view_module": "@jupyter-widgets/base",
            "_view_module_version": "1.2.0",
            "_view_name": "LayoutView",
            "align_content": null,
            "align_items": null,
            "align_self": null,
            "border": null,
            "bottom": null,
            "display": null,
            "flex": null,
            "flex_flow": null,
            "grid_area": null,
            "grid_auto_columns": null,
            "grid_auto_flow": null,
            "grid_auto_rows": null,
            "grid_column": null,
            "grid_gap": null,
            "grid_row": null,
            "grid_template_areas": null,
            "grid_template_columns": null,
            "grid_template_rows": null,
            "height": null,
            "justify_content": null,
            "justify_items": null,
            "left": null,
            "margin": null,
            "max_height": null,
            "max_width": null,
            "min_height": null,
            "min_width": null,
            "object_fit": null,
            "object_position": null,
            "order": null,
            "overflow": null,
            "overflow_x": null,
            "overflow_y": null,
            "padding": null,
            "right": null,
            "top": null,
            "visibility": null,
            "width": null
          }
        },
        "506ac02ab8944cca8d0133e81b25ed15": {
          "model_module": "@jupyter-widgets/controls",
          "model_name": "DescriptionStyleModel",
          "model_module_version": "1.5.0",
          "state": {
            "_model_module": "@jupyter-widgets/controls",
            "_model_module_version": "1.5.0",
            "_model_name": "DescriptionStyleModel",
            "_view_count": null,
            "_view_module": "@jupyter-widgets/base",
            "_view_module_version": "1.2.0",
            "_view_name": "StyleView",
            "description_width": ""
          }
        },
        "41fb91a7cf8a448da7f4f0614f364fa5": {
          "model_module": "@jupyter-widgets/controls",
          "model_name": "HBoxModel",
          "model_module_version": "1.5.0",
          "state": {
            "_dom_classes": [],
            "_model_module": "@jupyter-widgets/controls",
            "_model_module_version": "1.5.0",
            "_model_name": "HBoxModel",
            "_view_count": null,
            "_view_module": "@jupyter-widgets/controls",
            "_view_module_version": "1.5.0",
            "_view_name": "HBoxView",
            "box_style": "",
            "children": [
              "IPY_MODEL_ee536b3f4d184be98e9c533fd41a89e9",
              "IPY_MODEL_e7c6f26357a84a3285a1ac2cf48769ec",
              "IPY_MODEL_e32073b12a5142c3bf31f4afd7a92002"
            ],
            "layout": "IPY_MODEL_60c04601f3354e0dbff43e653c1e28a7"
          }
        },
        "ee536b3f4d184be98e9c533fd41a89e9": {
          "model_module": "@jupyter-widgets/controls",
          "model_name": "HTMLModel",
          "model_module_version": "1.5.0",
          "state": {
            "_dom_classes": [],
            "_model_module": "@jupyter-widgets/controls",
            "_model_module_version": "1.5.0",
            "_model_name": "HTMLModel",
            "_view_count": null,
            "_view_module": "@jupyter-widgets/controls",
            "_view_module_version": "1.5.0",
            "_view_name": "HTMLView",
            "description": "",
            "description_tooltip": null,
            "layout": "IPY_MODEL_89ff3fed4b104827b2bb39f43e989667",
            "placeholder": "​",
            "style": "IPY_MODEL_ba690b678cdb404cb3f991cadb13a4c7",
            "value": "Generating train split:  99%"
          }
        },
        "e7c6f26357a84a3285a1ac2cf48769ec": {
          "model_module": "@jupyter-widgets/controls",
          "model_name": "FloatProgressModel",
          "model_module_version": "1.5.0",
          "state": {
            "_dom_classes": [],
            "_model_module": "@jupyter-widgets/controls",
            "_model_module_version": "1.5.0",
            "_model_name": "FloatProgressModel",
            "_view_count": null,
            "_view_module": "@jupyter-widgets/controls",
            "_view_module_version": "1.5.0",
            "_view_name": "ProgressView",
            "bar_style": "",
            "description": "",
            "description_tooltip": null,
            "layout": "IPY_MODEL_15b06158e94145828b19a693092db5ad",
            "max": 20000,
            "min": 0,
            "orientation": "horizontal",
            "style": "IPY_MODEL_7207a026f939453db5e671a18ea88de7",
            "value": 20000
          }
        },
        "e32073b12a5142c3bf31f4afd7a92002": {
          "model_module": "@jupyter-widgets/controls",
          "model_name": "HTMLModel",
          "model_module_version": "1.5.0",
          "state": {
            "_dom_classes": [],
            "_model_module": "@jupyter-widgets/controls",
            "_model_module_version": "1.5.0",
            "_model_name": "HTMLModel",
            "_view_count": null,
            "_view_module": "@jupyter-widgets/controls",
            "_view_module_version": "1.5.0",
            "_view_name": "HTMLView",
            "description": "",
            "description_tooltip": null,
            "layout": "IPY_MODEL_a28a7864b06f40a2b0d58dd0ae89b89e",
            "placeholder": "​",
            "style": "IPY_MODEL_603225154f4949edb63204ed97bd5eae",
            "value": " 19848/20000 [00:02&lt;00:00, 7238.90 examples/s]"
          }
        },
        "60c04601f3354e0dbff43e653c1e28a7": {
          "model_module": "@jupyter-widgets/base",
          "model_name": "LayoutModel",
          "model_module_version": "1.2.0",
          "state": {
            "_model_module": "@jupyter-widgets/base",
            "_model_module_version": "1.2.0",
            "_model_name": "LayoutModel",
            "_view_count": null,
            "_view_module": "@jupyter-widgets/base",
            "_view_module_version": "1.2.0",
            "_view_name": "LayoutView",
            "align_content": null,
            "align_items": null,
            "align_self": null,
            "border": null,
            "bottom": null,
            "display": null,
            "flex": null,
            "flex_flow": null,
            "grid_area": null,
            "grid_auto_columns": null,
            "grid_auto_flow": null,
            "grid_auto_rows": null,
            "grid_column": null,
            "grid_gap": null,
            "grid_row": null,
            "grid_template_areas": null,
            "grid_template_columns": null,
            "grid_template_rows": null,
            "height": null,
            "justify_content": null,
            "justify_items": null,
            "left": null,
            "margin": null,
            "max_height": null,
            "max_width": null,
            "min_height": null,
            "min_width": null,
            "object_fit": null,
            "object_position": null,
            "order": null,
            "overflow": null,
            "overflow_x": null,
            "overflow_y": null,
            "padding": null,
            "right": null,
            "top": null,
            "visibility": "hidden",
            "width": null
          }
        },
        "89ff3fed4b104827b2bb39f43e989667": {
          "model_module": "@jupyter-widgets/base",
          "model_name": "LayoutModel",
          "model_module_version": "1.2.0",
          "state": {
            "_model_module": "@jupyter-widgets/base",
            "_model_module_version": "1.2.0",
            "_model_name": "LayoutModel",
            "_view_count": null,
            "_view_module": "@jupyter-widgets/base",
            "_view_module_version": "1.2.0",
            "_view_name": "LayoutView",
            "align_content": null,
            "align_items": null,
            "align_self": null,
            "border": null,
            "bottom": null,
            "display": null,
            "flex": null,
            "flex_flow": null,
            "grid_area": null,
            "grid_auto_columns": null,
            "grid_auto_flow": null,
            "grid_auto_rows": null,
            "grid_column": null,
            "grid_gap": null,
            "grid_row": null,
            "grid_template_areas": null,
            "grid_template_columns": null,
            "grid_template_rows": null,
            "height": null,
            "justify_content": null,
            "justify_items": null,
            "left": null,
            "margin": null,
            "max_height": null,
            "max_width": null,
            "min_height": null,
            "min_width": null,
            "object_fit": null,
            "object_position": null,
            "order": null,
            "overflow": null,
            "overflow_x": null,
            "overflow_y": null,
            "padding": null,
            "right": null,
            "top": null,
            "visibility": null,
            "width": null
          }
        },
        "ba690b678cdb404cb3f991cadb13a4c7": {
          "model_module": "@jupyter-widgets/controls",
          "model_name": "DescriptionStyleModel",
          "model_module_version": "1.5.0",
          "state": {
            "_model_module": "@jupyter-widgets/controls",
            "_model_module_version": "1.5.0",
            "_model_name": "DescriptionStyleModel",
            "_view_count": null,
            "_view_module": "@jupyter-widgets/base",
            "_view_module_version": "1.2.0",
            "_view_name": "StyleView",
            "description_width": ""
          }
        },
        "15b06158e94145828b19a693092db5ad": {
          "model_module": "@jupyter-widgets/base",
          "model_name": "LayoutModel",
          "model_module_version": "1.2.0",
          "state": {
            "_model_module": "@jupyter-widgets/base",
            "_model_module_version": "1.2.0",
            "_model_name": "LayoutModel",
            "_view_count": null,
            "_view_module": "@jupyter-widgets/base",
            "_view_module_version": "1.2.0",
            "_view_name": "LayoutView",
            "align_content": null,
            "align_items": null,
            "align_self": null,
            "border": null,
            "bottom": null,
            "display": null,
            "flex": null,
            "flex_flow": null,
            "grid_area": null,
            "grid_auto_columns": null,
            "grid_auto_flow": null,
            "grid_auto_rows": null,
            "grid_column": null,
            "grid_gap": null,
            "grid_row": null,
            "grid_template_areas": null,
            "grid_template_columns": null,
            "grid_template_rows": null,
            "height": null,
            "justify_content": null,
            "justify_items": null,
            "left": null,
            "margin": null,
            "max_height": null,
            "max_width": null,
            "min_height": null,
            "min_width": null,
            "object_fit": null,
            "object_position": null,
            "order": null,
            "overflow": null,
            "overflow_x": null,
            "overflow_y": null,
            "padding": null,
            "right": null,
            "top": null,
            "visibility": null,
            "width": null
          }
        },
        "7207a026f939453db5e671a18ea88de7": {
          "model_module": "@jupyter-widgets/controls",
          "model_name": "ProgressStyleModel",
          "model_module_version": "1.5.0",
          "state": {
            "_model_module": "@jupyter-widgets/controls",
            "_model_module_version": "1.5.0",
            "_model_name": "ProgressStyleModel",
            "_view_count": null,
            "_view_module": "@jupyter-widgets/base",
            "_view_module_version": "1.2.0",
            "_view_name": "StyleView",
            "bar_color": null,
            "description_width": ""
          }
        },
        "a28a7864b06f40a2b0d58dd0ae89b89e": {
          "model_module": "@jupyter-widgets/base",
          "model_name": "LayoutModel",
          "model_module_version": "1.2.0",
          "state": {
            "_model_module": "@jupyter-widgets/base",
            "_model_module_version": "1.2.0",
            "_model_name": "LayoutModel",
            "_view_count": null,
            "_view_module": "@jupyter-widgets/base",
            "_view_module_version": "1.2.0",
            "_view_name": "LayoutView",
            "align_content": null,
            "align_items": null,
            "align_self": null,
            "border": null,
            "bottom": null,
            "display": null,
            "flex": null,
            "flex_flow": null,
            "grid_area": null,
            "grid_auto_columns": null,
            "grid_auto_flow": null,
            "grid_auto_rows": null,
            "grid_column": null,
            "grid_gap": null,
            "grid_row": null,
            "grid_template_areas": null,
            "grid_template_columns": null,
            "grid_template_rows": null,
            "height": null,
            "justify_content": null,
            "justify_items": null,
            "left": null,
            "margin": null,
            "max_height": null,
            "max_width": null,
            "min_height": null,
            "min_width": null,
            "object_fit": null,
            "object_position": null,
            "order": null,
            "overflow": null,
            "overflow_x": null,
            "overflow_y": null,
            "padding": null,
            "right": null,
            "top": null,
            "visibility": null,
            "width": null
          }
        },
        "603225154f4949edb63204ed97bd5eae": {
          "model_module": "@jupyter-widgets/controls",
          "model_name": "DescriptionStyleModel",
          "model_module_version": "1.5.0",
          "state": {
            "_model_module": "@jupyter-widgets/controls",
            "_model_module_version": "1.5.0",
            "_model_name": "DescriptionStyleModel",
            "_view_count": null,
            "_view_module": "@jupyter-widgets/base",
            "_view_module_version": "1.2.0",
            "_view_name": "StyleView",
            "description_width": ""
          }
        },
        "3827bb901ee446b3a0850cdd54b6bd8a": {
          "model_module": "@jupyter-widgets/controls",
          "model_name": "HBoxModel",
          "model_module_version": "1.5.0",
          "state": {
            "_dom_classes": [],
            "_model_module": "@jupyter-widgets/controls",
            "_model_module_version": "1.5.0",
            "_model_name": "HBoxModel",
            "_view_count": null,
            "_view_module": "@jupyter-widgets/controls",
            "_view_module_version": "1.5.0",
            "_view_name": "HBoxView",
            "box_style": "",
            "children": [
              "IPY_MODEL_f3e32c377d4e4127a7d70e428e93d826",
              "IPY_MODEL_cd52f7264fad4f28bb865c19e1752082",
              "IPY_MODEL_c3869dae341247ee9469ba91f164e7a2"
            ],
            "layout": "IPY_MODEL_32cd4375094640b89712a4a92132c9ff"
          }
        },
        "f3e32c377d4e4127a7d70e428e93d826": {
          "model_module": "@jupyter-widgets/controls",
          "model_name": "HTMLModel",
          "model_module_version": "1.5.0",
          "state": {
            "_dom_classes": [],
            "_model_module": "@jupyter-widgets/controls",
            "_model_module_version": "1.5.0",
            "_model_name": "HTMLModel",
            "_view_count": null,
            "_view_module": "@jupyter-widgets/controls",
            "_view_module_version": "1.5.0",
            "_view_name": "HTMLView",
            "description": "",
            "description_tooltip": null,
            "layout": "IPY_MODEL_f2f53034596244a093a2ee2f94e3dea9",
            "placeholder": "​",
            "style": "IPY_MODEL_0437812a32904a97abf529eda701b43f",
            "value": "100%"
          }
        },
        "cd52f7264fad4f28bb865c19e1752082": {
          "model_module": "@jupyter-widgets/controls",
          "model_name": "FloatProgressModel",
          "model_module_version": "1.5.0",
          "state": {
            "_dom_classes": [],
            "_model_module": "@jupyter-widgets/controls",
            "_model_module_version": "1.5.0",
            "_model_name": "FloatProgressModel",
            "_view_count": null,
            "_view_module": "@jupyter-widgets/controls",
            "_view_module_version": "1.5.0",
            "_view_name": "ProgressView",
            "bar_style": "success",
            "description": "",
            "description_tooltip": null,
            "layout": "IPY_MODEL_09f10601667948aba097740f6cab6ea7",
            "max": 3,
            "min": 0,
            "orientation": "horizontal",
            "style": "IPY_MODEL_eea7597cb51b4301b74fb8690123f698",
            "value": 3
          }
        },
        "c3869dae341247ee9469ba91f164e7a2": {
          "model_module": "@jupyter-widgets/controls",
          "model_name": "HTMLModel",
          "model_module_version": "1.5.0",
          "state": {
            "_dom_classes": [],
            "_model_module": "@jupyter-widgets/controls",
            "_model_module_version": "1.5.0",
            "_model_name": "HTMLModel",
            "_view_count": null,
            "_view_module": "@jupyter-widgets/controls",
            "_view_module_version": "1.5.0",
            "_view_name": "HTMLView",
            "description": "",
            "description_tooltip": null,
            "layout": "IPY_MODEL_80a55a3ec5614f1284eb81e2c6e72be6",
            "placeholder": "​",
            "style": "IPY_MODEL_bccbc60d717f4d09b339b4d6ad732800",
            "value": " 3/3 [00:00&lt;00:00, 67.07it/s]"
          }
        },
        "32cd4375094640b89712a4a92132c9ff": {
          "model_module": "@jupyter-widgets/base",
          "model_name": "LayoutModel",
          "model_module_version": "1.2.0",
          "state": {
            "_model_module": "@jupyter-widgets/base",
            "_model_module_version": "1.2.0",
            "_model_name": "LayoutModel",
            "_view_count": null,
            "_view_module": "@jupyter-widgets/base",
            "_view_module_version": "1.2.0",
            "_view_name": "LayoutView",
            "align_content": null,
            "align_items": null,
            "align_self": null,
            "border": null,
            "bottom": null,
            "display": null,
            "flex": null,
            "flex_flow": null,
            "grid_area": null,
            "grid_auto_columns": null,
            "grid_auto_flow": null,
            "grid_auto_rows": null,
            "grid_column": null,
            "grid_gap": null,
            "grid_row": null,
            "grid_template_areas": null,
            "grid_template_columns": null,
            "grid_template_rows": null,
            "height": null,
            "justify_content": null,
            "justify_items": null,
            "left": null,
            "margin": null,
            "max_height": null,
            "max_width": null,
            "min_height": null,
            "min_width": null,
            "object_fit": null,
            "object_position": null,
            "order": null,
            "overflow": null,
            "overflow_x": null,
            "overflow_y": null,
            "padding": null,
            "right": null,
            "top": null,
            "visibility": null,
            "width": null
          }
        },
        "f2f53034596244a093a2ee2f94e3dea9": {
          "model_module": "@jupyter-widgets/base",
          "model_name": "LayoutModel",
          "model_module_version": "1.2.0",
          "state": {
            "_model_module": "@jupyter-widgets/base",
            "_model_module_version": "1.2.0",
            "_model_name": "LayoutModel",
            "_view_count": null,
            "_view_module": "@jupyter-widgets/base",
            "_view_module_version": "1.2.0",
            "_view_name": "LayoutView",
            "align_content": null,
            "align_items": null,
            "align_self": null,
            "border": null,
            "bottom": null,
            "display": null,
            "flex": null,
            "flex_flow": null,
            "grid_area": null,
            "grid_auto_columns": null,
            "grid_auto_flow": null,
            "grid_auto_rows": null,
            "grid_column": null,
            "grid_gap": null,
            "grid_row": null,
            "grid_template_areas": null,
            "grid_template_columns": null,
            "grid_template_rows": null,
            "height": null,
            "justify_content": null,
            "justify_items": null,
            "left": null,
            "margin": null,
            "max_height": null,
            "max_width": null,
            "min_height": null,
            "min_width": null,
            "object_fit": null,
            "object_position": null,
            "order": null,
            "overflow": null,
            "overflow_x": null,
            "overflow_y": null,
            "padding": null,
            "right": null,
            "top": null,
            "visibility": null,
            "width": null
          }
        },
        "0437812a32904a97abf529eda701b43f": {
          "model_module": "@jupyter-widgets/controls",
          "model_name": "DescriptionStyleModel",
          "model_module_version": "1.5.0",
          "state": {
            "_model_module": "@jupyter-widgets/controls",
            "_model_module_version": "1.5.0",
            "_model_name": "DescriptionStyleModel",
            "_view_count": null,
            "_view_module": "@jupyter-widgets/base",
            "_view_module_version": "1.2.0",
            "_view_name": "StyleView",
            "description_width": ""
          }
        },
        "09f10601667948aba097740f6cab6ea7": {
          "model_module": "@jupyter-widgets/base",
          "model_name": "LayoutModel",
          "model_module_version": "1.2.0",
          "state": {
            "_model_module": "@jupyter-widgets/base",
            "_model_module_version": "1.2.0",
            "_model_name": "LayoutModel",
            "_view_count": null,
            "_view_module": "@jupyter-widgets/base",
            "_view_module_version": "1.2.0",
            "_view_name": "LayoutView",
            "align_content": null,
            "align_items": null,
            "align_self": null,
            "border": null,
            "bottom": null,
            "display": null,
            "flex": null,
            "flex_flow": null,
            "grid_area": null,
            "grid_auto_columns": null,
            "grid_auto_flow": null,
            "grid_auto_rows": null,
            "grid_column": null,
            "grid_gap": null,
            "grid_row": null,
            "grid_template_areas": null,
            "grid_template_columns": null,
            "grid_template_rows": null,
            "height": null,
            "justify_content": null,
            "justify_items": null,
            "left": null,
            "margin": null,
            "max_height": null,
            "max_width": null,
            "min_height": null,
            "min_width": null,
            "object_fit": null,
            "object_position": null,
            "order": null,
            "overflow": null,
            "overflow_x": null,
            "overflow_y": null,
            "padding": null,
            "right": null,
            "top": null,
            "visibility": null,
            "width": null
          }
        },
        "eea7597cb51b4301b74fb8690123f698": {
          "model_module": "@jupyter-widgets/controls",
          "model_name": "ProgressStyleModel",
          "model_module_version": "1.5.0",
          "state": {
            "_model_module": "@jupyter-widgets/controls",
            "_model_module_version": "1.5.0",
            "_model_name": "ProgressStyleModel",
            "_view_count": null,
            "_view_module": "@jupyter-widgets/base",
            "_view_module_version": "1.2.0",
            "_view_name": "StyleView",
            "bar_color": null,
            "description_width": ""
          }
        },
        "80a55a3ec5614f1284eb81e2c6e72be6": {
          "model_module": "@jupyter-widgets/base",
          "model_name": "LayoutModel",
          "model_module_version": "1.2.0",
          "state": {
            "_model_module": "@jupyter-widgets/base",
            "_model_module_version": "1.2.0",
            "_model_name": "LayoutModel",
            "_view_count": null,
            "_view_module": "@jupyter-widgets/base",
            "_view_module_version": "1.2.0",
            "_view_name": "LayoutView",
            "align_content": null,
            "align_items": null,
            "align_self": null,
            "border": null,
            "bottom": null,
            "display": null,
            "flex": null,
            "flex_flow": null,
            "grid_area": null,
            "grid_auto_columns": null,
            "grid_auto_flow": null,
            "grid_auto_rows": null,
            "grid_column": null,
            "grid_gap": null,
            "grid_row": null,
            "grid_template_areas": null,
            "grid_template_columns": null,
            "grid_template_rows": null,
            "height": null,
            "justify_content": null,
            "justify_items": null,
            "left": null,
            "margin": null,
            "max_height": null,
            "max_width": null,
            "min_height": null,
            "min_width": null,
            "object_fit": null,
            "object_position": null,
            "order": null,
            "overflow": null,
            "overflow_x": null,
            "overflow_y": null,
            "padding": null,
            "right": null,
            "top": null,
            "visibility": null,
            "width": null
          }
        },
        "bccbc60d717f4d09b339b4d6ad732800": {
          "model_module": "@jupyter-widgets/controls",
          "model_name": "DescriptionStyleModel",
          "model_module_version": "1.5.0",
          "state": {
            "_model_module": "@jupyter-widgets/controls",
            "_model_module_version": "1.5.0",
            "_model_name": "DescriptionStyleModel",
            "_view_count": null,
            "_view_module": "@jupyter-widgets/base",
            "_view_module_version": "1.2.0",
            "_view_name": "StyleView",
            "description_width": ""
          }
        }
      }
    }
  },
  "nbformat": 4,
  "nbformat_minor": 5
}