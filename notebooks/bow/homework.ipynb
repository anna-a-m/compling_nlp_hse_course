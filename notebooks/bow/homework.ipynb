{
 "cells": [
  {
   "cell_type": "markdown",
   "id": "b20f786e",
   "metadata": {},
   "source": [
    "# Домашнее задание № 2. Мешок слов"
   ]
  },
  {
   "cell_type": "code",
   "execution_count": 1,
   "id": "129c4d2e",
   "metadata": {},
   "outputs": [],
   "source": [
    "import pandas as pd\n",
    "\n",
    "from sklearn.model_selection import train_test_split"
   ]
  },
  {
   "cell_type": "code",
   "execution_count": 2,
   "id": "b4314de5",
   "metadata": {},
   "outputs": [],
   "source": [
    "data = pd.read_csv('labeled.csv/labeled.csv')"
   ]
  },
  {
   "cell_type": "code",
   "execution_count": 3,
   "id": "cbffbbc7",
   "metadata": {},
   "outputs": [
    {
     "data": {
      "text/html": [
       "<div>\n",
       "<style scoped>\n",
       "    .dataframe tbody tr th:only-of-type {\n",
       "        vertical-align: middle;\n",
       "    }\n",
       "\n",
       "    .dataframe tbody tr th {\n",
       "        vertical-align: top;\n",
       "    }\n",
       "\n",
       "    .dataframe thead th {\n",
       "        text-align: right;\n",
       "    }\n",
       "</style>\n",
       "<table border=\"1\" class=\"dataframe\">\n",
       "  <thead>\n",
       "    <tr style=\"text-align: right;\">\n",
       "      <th></th>\n",
       "      <th>comment</th>\n",
       "      <th>toxic</th>\n",
       "    </tr>\n",
       "  </thead>\n",
       "  <tbody>\n",
       "    <tr>\n",
       "      <th>1010</th>\n",
       "      <td>В спорт зал похожу тогда и зеркало можно. А по...</td>\n",
       "      <td>0.0</td>\n",
       "    </tr>\n",
       "    <tr>\n",
       "      <th>1011</th>\n",
       "      <td>Позвольте узнать, скольких детей вы воспитали,...</td>\n",
       "      <td>0.0</td>\n",
       "    </tr>\n",
       "    <tr>\n",
       "      <th>1012</th>\n",
       "      <td>Не дает на 4м свидании-не стоит тратить время.</td>\n",
       "      <td>0.0</td>\n",
       "    </tr>\n",
       "    <tr>\n",
       "      <th>1013</th>\n",
       "      <td>Мне похер на оценки.Всегда пишу то,что думаю.</td>\n",
       "      <td>0.0</td>\n",
       "    </tr>\n",
       "    <tr>\n",
       "      <th>1014</th>\n",
       "      <td>Передайте , который меня в чс кинул, что это н...</td>\n",
       "      <td>0.0</td>\n",
       "    </tr>\n",
       "    <tr>\n",
       "      <th>1015</th>\n",
       "      <td>А сейчас там ботов больше чем живых, по сути т...</td>\n",
       "      <td>0.0</td>\n",
       "    </tr>\n",
       "  </tbody>\n",
       "</table>\n",
       "</div>"
      ],
      "text/plain": [
       "                                                comment  toxic\n",
       "1010  В спорт зал похожу тогда и зеркало можно. А по...    0.0\n",
       "1011  Позвольте узнать, скольких детей вы воспитали,...    0.0\n",
       "1012     Не дает на 4м свидании-не стоит тратить время.    0.0\n",
       "1013      Мне похер на оценки.Всегда пишу то,что думаю.    0.0\n",
       "1014  Передайте , который меня в чс кинул, что это н...    0.0\n",
       "1015  А сейчас там ботов больше чем живых, по сути т...    0.0"
      ]
     },
     "execution_count": 3,
     "metadata": {},
     "output_type": "execute_result"
    }
   ],
   "source": [
    "data.loc[1010:1015]"
   ]
  },
  {
   "cell_type": "code",
   "execution_count": 4,
   "id": "1d2477b9",
   "metadata": {
    "scrolled": true
   },
   "outputs": [
    {
     "data": {
      "text/plain": [
       "(0.0    0.66514\n",
       " 1.0    0.33486\n",
       " Name: toxic, dtype: float64,\n",
       " (14412, 2))"
      ]
     },
     "execution_count": 4,
     "metadata": {},
     "output_type": "execute_result"
    }
   ],
   "source": [
    "data.toxic.value_counts(normalize=True), data.shape"
   ]
  },
  {
   "cell_type": "code",
   "execution_count": 5,
   "id": "c316ab37",
   "metadata": {},
   "outputs": [],
   "source": [
    "train, test = train_test_split(data, test_size=0.1, shuffle=True)\n",
    "train.reset_index(inplace=True)\n",
    "test.reset_index(inplace=True)"
   ]
  },
  {
   "cell_type": "markdown",
   "id": "0cf72d19",
   "metadata": {},
   "source": [
    "## Задание 1 (3 балла)"
   ]
  },
  {
   "cell_type": "markdown",
   "id": "4a045e99",
   "metadata": {},
   "source": [
    "У векторайзеров в sklearn есть встроенная токенизация на регулярных выражениях. Найдите способ заменить её на кастомную токенизацию"
   ]
  },
  {
   "cell_type": "markdown",
   "id": "90b4d453",
   "metadata": {},
   "source": [
    "Обучите векторайзер с дефолтной токенизацией и с токенизацией razdel.tokenize. Обучите классификатор (любой) с каждым из векторизаторов. Сравните метрики и выберите победителя. \n",
    "\n",
    "(в вашей тетрадке должен быть код обучения и все метрики; если вы сдаете в .py файлах то сохраните полученные метрики в отдельном файле или в комментариях)"
   ]
  },
  {
   "cell_type": "code",
   "execution_count": 28,
   "id": "a07af34c",
   "metadata": {},
   "outputs": [],
   "source": [
    "from sklearn.feature_extraction.text import CountVectorizer, TfidfVectorizer\n",
    "from sklearn.linear_model import LogisticRegression\n",
    "\n",
    "from razdel import tokenize"
   ]
  },
  {
   "cell_type": "code",
   "execution_count": 71,
   "id": "a962a078",
   "metadata": {},
   "outputs": [],
   "source": [
    "vectorizer = CountVectorizer()\n",
    "train_V_dt = vectorizer.fit_transform(train.comment)\n",
    "test_V_dt = vectorizer.transform(test.comment)"
   ]
  },
  {
   "cell_type": "code",
   "execution_count": 72,
   "id": "5d1f556f",
   "metadata": {},
   "outputs": [],
   "source": [
    "vectorizer = CountVectorizer(tokenizer=lambda x: [w.text for w in tokenize(x)])\n",
    "train_V_rt = vectorizer.fit_transform(train.comment)\n",
    "test_V_rt = vectorizer.transform(test.comment)"
   ]
  },
  {
   "cell_type": "code",
   "execution_count": 79,
   "id": "ff7a0e1b",
   "metadata": {},
   "outputs": [],
   "source": [
    "LR_for_dt = LogisticRegression(solver=\"liblinear\")\n",
    "LR_for_rt = LogisticRegression(solver=\"liblinear\")"
   ]
  },
  {
   "cell_type": "code",
   "execution_count": 80,
   "id": "78135c1e",
   "metadata": {},
   "outputs": [
    {
     "data": {
      "text/plain": [
       "LogisticRegression(solver='liblinear')"
      ]
     },
     "execution_count": 80,
     "metadata": {},
     "output_type": "execute_result"
    }
   ],
   "source": [
    "LR_for_dt.fit(train_V_dt, train.toxic)\n",
    "LR_for_rt.fit(train_V_rt, train.toxic)"
   ]
  },
  {
   "cell_type": "code",
   "execution_count": 81,
   "id": "14614fd2",
   "metadata": {},
   "outputs": [],
   "source": [
    "pred_on_Vdt = LR_for_dt.predict(test_V_dt)\n",
    "pred_on_Vrt = LR_for_rt.predict(test_V_rt)"
   ]
  },
  {
   "cell_type": "code",
   "execution_count": 76,
   "id": "eaef1cb3",
   "metadata": {},
   "outputs": [],
   "source": [
    "from sklearn.metrics import classification_report"
   ]
  },
  {
   "cell_type": "code",
   "execution_count": 82,
   "id": "f3b1f133",
   "metadata": {},
   "outputs": [
    {
     "name": "stdout",
     "output_type": "stream",
     "text": [
      "              precision    recall  f1-score   support\n",
      "\n",
      "         0.0       0.95      0.87      0.91      1069\n",
      "         1.0       0.70      0.87      0.78       373\n",
      "\n",
      "    accuracy                           0.87      1442\n",
      "   macro avg       0.82      0.87      0.84      1442\n",
      "weighted avg       0.89      0.87      0.87      1442\n",
      "\n"
     ]
    }
   ],
   "source": [
    "print(classification_report(pred_on_Vdt, test.toxic))"
   ]
  },
  {
   "cell_type": "code",
   "execution_count": 83,
   "id": "7cdfde3c",
   "metadata": {},
   "outputs": [
    {
     "name": "stdout",
     "output_type": "stream",
     "text": [
      "              precision    recall  f1-score   support\n",
      "\n",
      "         0.0       0.94      0.89      0.91      1036\n",
      "         1.0       0.75      0.85      0.80       406\n",
      "\n",
      "    accuracy                           0.88      1442\n",
      "   macro avg       0.84      0.87      0.86      1442\n",
      "weighted avg       0.89      0.88      0.88      1442\n",
      "\n"
     ]
    }
   ],
   "source": [
    "print(classification_report(pred_on_Vrt, test.toxic))"
   ]
  },
  {
   "cell_type": "markdown",
   "id": "2408a875",
   "metadata": {},
   "source": [
    "Сравнивая classification_report для логистической регрессии, обученной на частотном векторайзере с дефолтным токенизатором и токенизатором razdel, видим, что последний показывает несколько лучшие результаты - чаще определяет токсичные тексты"
   ]
  },
  {
   "cell_type": "markdown",
   "id": "8e3c896c",
   "metadata": {},
   "source": [
    "## Задание 2 (3 балла)"
   ]
  },
  {
   "cell_type": "markdown",
   "id": "bfcd27a3",
   "metadata": {},
   "source": [
    "Преобразуйте таблицу с абсолютными частотностями в семинарской тетрадке в таблицу с tfidf значениями. (Таблица - https://i.ibb.co/r5Nc2HC/abs-bow.jpg) Формула tfidf есть в семинаре на картнике с пояснениями на английском. \n",
    "Считать нужно в питоне. Формат итоговой таблицы может быть любым, главное, чтобы был код и можно было воспроизвести вычисления. "
   ]
  },
  {
   "cell_type": "code",
   "execution_count": 6,
   "id": "17137ec2",
   "metadata": {},
   "outputs": [],
   "source": [
    "import re\n",
    "import numpy as np"
   ]
  },
  {
   "cell_type": "code",
   "execution_count": 7,
   "id": "c5b50abc",
   "metadata": {},
   "outputs": [],
   "source": [
    "# запишем предложения с рисунка\n",
    "sentences = ['я и ты', 'ты и я', 'я, я и только я', 'только не я', 'он']"
   ]
  },
  {
   "cell_type": "code",
   "execution_count": 8,
   "id": "e05806a9",
   "metadata": {},
   "outputs": [],
   "source": [
    "# токенизируем их\n",
    "sent_words = [re.findall(r'\\w+', t) for t in sentences]"
   ]
  },
  {
   "cell_type": "code",
   "execution_count": 9,
   "id": "83622252",
   "metadata": {},
   "outputs": [],
   "source": [
    "# вспомогательная функция для нахождения уникальных токенов\n",
    "def flatten(l):\n",
    "    return [item for sublist in l for item in sublist]"
   ]
  },
  {
   "cell_type": "code",
   "execution_count": 10,
   "id": "e8206faf",
   "metadata": {},
   "outputs": [
    {
     "data": {
      "text/plain": [
       "[['я', 'и', 'ты'],\n",
       " ['ты', 'и', 'я'],\n",
       " ['я', 'я', 'и', 'только', 'я'],\n",
       " ['только', 'не', 'я'],\n",
       " ['он']]"
      ]
     },
     "execution_count": 10,
     "metadata": {},
     "output_type": "execute_result"
    }
   ],
   "source": [
    "sent_words"
   ]
  },
  {
   "cell_type": "code",
   "execution_count": 11,
   "id": "2ee4a4c3",
   "metadata": {},
   "outputs": [],
   "source": [
    "# находим уникальные токены\n",
    "unique_words = list(set(flatten(sent_words)))"
   ]
  },
  {
   "cell_type": "code",
   "execution_count": 12,
   "id": "73e6bb5b",
   "metadata": {
    "scrolled": true
   },
   "outputs": [
    {
     "data": {
      "text/plain": [
       "['он', 'ты', 'я', 'только', 'не', 'и']"
      ]
     },
     "execution_count": 12,
     "metadata": {},
     "output_type": "execute_result"
    }
   ],
   "source": [
    "unique_words"
   ]
  },
  {
   "cell_type": "code",
   "execution_count": 13,
   "id": "1f1ea826",
   "metadata": {},
   "outputs": [],
   "source": [
    "# создаем матрицу из нулей для подсчета частоты слов\n",
    "tf_matrix = np.zeros((len(sentences), len(unique_words)))"
   ]
  },
  {
   "cell_type": "code",
   "execution_count": 15,
   "id": "eeb513ff",
   "metadata": {},
   "outputs": [],
   "source": [
    "# считаем частоту уникальных слов для каждого документа\n",
    "# i - индекс уникального слова\n",
    "# j - индекс документа\n",
    "for i in range(len(unique_words)):\n",
    "    for j in range(len(sent_words)):\n",
    "        tf_matrix[j][i] = sentences[j].count(unique_words[i])"
   ]
  },
  {
   "cell_type": "code",
   "execution_count": 16,
   "id": "cac1730d",
   "metadata": {},
   "outputs": [
    {
     "data": {
      "text/plain": [
       "array([[0., 1., 1., 0., 0., 1.],\n",
       "       [0., 1., 1., 0., 0., 1.],\n",
       "       [0., 0., 3., 1., 0., 1.],\n",
       "       [0., 0., 1., 1., 1., 0.],\n",
       "       [1., 0., 0., 0., 0., 0.]])"
      ]
     },
     "execution_count": 16,
     "metadata": {},
     "output_type": "execute_result"
    }
   ],
   "source": [
    "tf_matrix"
   ]
  },
  {
   "cell_type": "code",
   "execution_count": 17,
   "id": "c556f6c1",
   "metadata": {},
   "outputs": [],
   "source": [
    "# посчитаем idf каждого слова - возьмем логарифм от \n",
    "# частного кол-ва документов и вектора с кол-вом ненулевых частот для каждого слова\n",
    "idf = np.log(tf_matrix.shape[0] / sum(tf_matrix != 0))"
   ]
  },
  {
   "cell_type": "code",
   "execution_count": 29,
   "id": "43e9ac4a",
   "metadata": {},
   "outputs": [],
   "source": [
    "# домножим матрицу тф на вектор идф\n",
    "tf_idf_matrix = tf_matrix * idf"
   ]
  },
  {
   "cell_type": "code",
   "execution_count": 30,
   "id": "42680088",
   "metadata": {},
   "outputs": [
    {
     "name": "stdout",
     "output_type": "stream",
     "text": [
      "[[0.         0.91629073 0.22314355 0.         0.         0.51082562]\n",
      " [0.         0.91629073 0.22314355 0.         0.         0.51082562]\n",
      " [0.         0.         0.66943065 0.91629073 0.         0.51082562]\n",
      " [0.         0.         0.22314355 0.91629073 1.60943791 0.        ]\n",
      " [1.60943791 0.         0.         0.         0.         0.        ]]\n"
     ]
    }
   ],
   "source": [
    "print(tf_idf_matrix)"
   ]
  },
  {
   "cell_type": "markdown",
   "id": "91b9076e",
   "metadata": {},
   "source": [
    "## Задание 3 (2 балла)"
   ]
  },
  {
   "cell_type": "markdown",
   "id": "14e25357",
   "metadata": {},
   "source": [
    "Обучите 2 любых разных классификатора из семинара. Предскажите токсичность для текстов из тестовой выборки (используйте одну и ту же выборку для обоих классификаторов) и найдите 10 самых токсичных для каждого из классификаторов. Сравните получаемые тексты - какие тексты совпадают, какие отличаются, правда ли тексты токсичные?"
   ]
  },
  {
   "cell_type": "markdown",
   "id": "7de962ad",
   "metadata": {},
   "source": [
    "Требования к моделям:   \n",
    "а) один классификатор должен использовать CountVectorizer, другой TfidfVectorizer  \n",
    "б) у векторайзера должны быть вручную заданы как минимум 5 параметров (можно ставить разные параметры tfidfvectorizer и countvectorizer)  \n",
    "в) у классификатора должно быть задано вручную как минимум 2 параметра (по возможности)  \n",
    "г)  f1 мера каждого из классификаторов должна быть минимум 0.75  \n",
    "\n",
    "*random_seed не считается за параметр"
   ]
  },
  {
   "cell_type": "code",
   "execution_count": 50,
   "id": "ac0a5471",
   "metadata": {},
   "outputs": [],
   "source": [
    "from sklearn.naive_bayes import MultinomialNB"
   ]
  },
  {
   "cell_type": "code",
   "execution_count": 51,
   "id": "666b18d4",
   "metadata": {},
   "outputs": [
    {
     "name": "stderr",
     "output_type": "stream",
     "text": [
      "[nltk_data] Downloading package stopwords to C:\\Users\\PC\n",
      "[nltk_data]     Natalya\\AppData\\Roaming\\nltk_data...\n",
      "[nltk_data]   Package stopwords is already up-to-date!\n"
     ]
    }
   ],
   "source": [
    "import nltk\n",
    "nltk.download('stopwords')\n",
    "from nltk.tokenize import TweetTokenizer, wordpunct_tokenize"
   ]
  },
  {
   "cell_type": "markdown",
   "id": "9ab0c025",
   "metadata": {},
   "source": [
    "Сравним два токенайзера и выберем наиболее подходящий на примере текста 1012 (тут интересно употребление дефиса вместо положенного тире)"
   ]
  },
  {
   "cell_type": "code",
   "execution_count": 173,
   "id": "04ca56c4",
   "metadata": {},
   "outputs": [
    {
     "data": {
      "text/plain": [
       "['Не', 'дает', 'на', '4м', 'свидании-не', 'стоит', 'тратить', 'время', '.']"
      ]
     },
     "execution_count": 173,
     "metadata": {},
     "output_type": "execute_result"
    }
   ],
   "source": [
    "TweetTokenizer().tokenize(data.comment[1012])"
   ]
  },
  {
   "cell_type": "code",
   "execution_count": 176,
   "id": "101b5a5d",
   "metadata": {},
   "outputs": [
    {
     "data": {
      "text/plain": [
       "['Не',\n",
       " 'дает',\n",
       " 'на',\n",
       " '4м',\n",
       " 'свидании',\n",
       " '-',\n",
       " 'не',\n",
       " 'стоит',\n",
       " 'тратить',\n",
       " 'время',\n",
       " '.']"
      ]
     },
     "execution_count": 176,
     "metadata": {},
     "output_type": "execute_result"
    }
   ],
   "source": [
    "wordpunct_tokenize(data.comment[1012])"
   ]
  },
  {
   "cell_type": "markdown",
   "id": "f4aa5a69",
   "metadata": {},
   "source": [
    "На данном примере лучше работает wordpunct_tokenize, поэтому выберем его. Но возможно, что TweetTokenizer где-то сработает лучше"
   ]
  },
  {
   "cell_type": "code",
   "execution_count": 55,
   "id": "04124ab1",
   "metadata": {},
   "outputs": [],
   "source": [
    "stop_words_ru = nltk.corpus.stopwords.words('russian')"
   ]
  },
  {
   "cell_type": "markdown",
   "id": "d119d80f",
   "metadata": {},
   "source": [
    "Сначала обучим MultinomialNB на CountVectorizer, поскольку это наиболее классическое решение для текстовой классификации\n",
    "\n",
    "Параметров для модели MultinomialNB всего 3, и те лучше оставить дефолтными, поэтому их не трогаем. Настроим параметры для векторайзера:\n",
    "* минимальная частота слова в словаре 4,\n",
    "* \"значения частоты бинарны\" - 0/1,\n",
    "* токенизируем с помощью wordpunct_tokenize, который мы выбрали выше,\n",
    "* стоп-слова возьмем из nltk + знаки пунктуации,\n",
    "* игнорируем слова, встречающиеся более чем в 2% документов (качество модели особо не падает, нужно для определения токсичных слов)"
   ]
  },
  {
   "cell_type": "code",
   "execution_count": 256,
   "id": "425b4d13",
   "metadata": {},
   "outputs": [],
   "source": [
    "import string\n",
    "puncts = list(string.punctuation)\n",
    "stop_words_ru = stop_words_ru.extend(puncts)"
   ]
  },
  {
   "cell_type": "code",
   "execution_count": 60,
   "id": "0ebfd873",
   "metadata": {},
   "outputs": [],
   "source": [
    "from sklearn.feature_extraction.text import CountVectorizer\n",
    "from sklearn.metrics import classification_report"
   ]
  },
  {
   "cell_type": "code",
   "execution_count": 315,
   "id": "8cb5547d",
   "metadata": {},
   "outputs": [],
   "source": [
    "cv = CountVectorizer(min_df=4, binary=True, tokenizer=wordpunct_tokenize, stop_words=stop_words_ru, max_df=0.02)"
   ]
  },
  {
   "cell_type": "code",
   "execution_count": 316,
   "id": "4038586d",
   "metadata": {},
   "outputs": [],
   "source": [
    "train_cv = cv.fit_transform(train.comment)\n",
    "test_cv = cv.transform(test.comment)"
   ]
  },
  {
   "cell_type": "code",
   "execution_count": 317,
   "id": "745bd58f",
   "metadata": {},
   "outputs": [],
   "source": [
    "NB_count = MultinomialNB()\n",
    "NB_count.fit(train_cv, train.toxic)\n",
    "pred_toxic_cv = NB_count.predict(test_cv)"
   ]
  },
  {
   "cell_type": "code",
   "execution_count": 318,
   "id": "90311fac",
   "metadata": {},
   "outputs": [
    {
     "name": "stdout",
     "output_type": "stream",
     "text": [
      "              precision    recall  f1-score   support\n",
      "\n",
      "         0.0       0.93      0.87      0.90      1036\n",
      "         1.0       0.71      0.84      0.77       406\n",
      "\n",
      "    accuracy                           0.86      1442\n",
      "   macro avg       0.82      0.86      0.84      1442\n",
      "weighted avg       0.87      0.86      0.86      1442\n",
      "\n"
     ]
    }
   ],
   "source": [
    "print(classification_report(pred_toxic_cv, test.toxic))"
   ]
  },
  {
   "cell_type": "code",
   "execution_count": 221,
   "id": "466d9475",
   "metadata": {},
   "outputs": [
    {
     "data": {
      "text/plain": [
       "array([0., 1.])"
      ]
     },
     "execution_count": 221,
     "metadata": {},
     "output_type": "execute_result"
    }
   ],
   "source": [
    "NB_count.classes_"
   ]
  },
  {
   "cell_type": "code",
   "execution_count": 225,
   "id": "9f04ca8f",
   "metadata": {},
   "outputs": [],
   "source": [
    "import seaborn as sns"
   ]
  },
  {
   "cell_type": "code",
   "execution_count": 319,
   "id": "c1fd5003",
   "metadata": {},
   "outputs": [
    {
     "data": {
      "text/plain": [
       "<AxesSubplot:>"
      ]
     },
     "execution_count": 319,
     "metadata": {},
     "output_type": "execute_result"
    },
    {
     "data": {
      "image/png": "[encoded data removed]",
      "text/plain": [
       "<Figure size 640x480 with 1 Axes>"
      ]
     },
     "metadata": {},
     "output_type": "display_data"
    }
   ],
   "source": [
    "sns.scatterplot(data=np.sort(NB_count.feature_log_prob_[1]))"
   ]
  },
  {
   "cell_type": "markdown",
   "id": "081b882b",
   "metadata": {},
   "source": [
    "**Топ-10 самых вероятных слов для токсичных текстов**"
   ]
  },
  {
   "cell_type": "code",
   "execution_count": 320,
   "id": "58e547fe",
   "metadata": {},
   "outputs": [
    {
     "name": "stdout",
     "output_type": "stream",
     "text": [
      "нахуй\n",
      "себя\n",
      "вас\n",
      "теперь\n",
      "хохлы\n",
      "хохлов\n",
      "ему\n",
      "себе\n",
      "пиздец\n"
     ]
    }
   ],
   "source": [
    "for arg in np.argsort(NB_count.feature_log_prob_[1])[:-10:-1]:\n",
    "    print(cv.get_feature_names_out()[arg])"
   ]
  },
  {
   "cell_type": "markdown",
   "id": "991c2fbb",
   "metadata": {},
   "source": [
    "**Топ-10 самых вероятных слов для нетоксичных текстов**"
   ]
  },
  {
   "cell_type": "code",
   "execution_count": 321,
   "id": "9a5d1d37",
   "metadata": {},
   "outputs": [
    {
     "name": "stdout",
     "output_type": "stream",
     "text": [
      "например\n",
      "знаю\n",
      "4\n",
      "пока\n",
      "стоит\n",
      "деньги\n",
      "вроде\n",
      "который\n",
      "всегда\n"
     ]
    }
   ],
   "source": [
    "for arg in np.argsort(NB_count.feature_log_prob_[0])[:-10:-1]:\n",
    "    print(cv.get_feature_names_out()[arg])"
   ]
  },
  {
   "cell_type": "markdown",
   "id": "b401e381",
   "metadata": {},
   "source": [
    "**Топ-10 самых токсичных текстов**"
   ]
  },
  {
   "cell_type": "code",
   "execution_count": 370,
   "id": "fd84dab7",
   "metadata": {},
   "outputs": [
    {
     "name": "stdout",
     "output_type": "stream",
     "text": [
      "1 1.0 Как известно, у Укр ины (т.е. окр ины), слепленной по пьяни на коленке во 2-м десятилетии XX в., нет истории до XX столетия. Все земли, которые сейчас занимает Укр ина, это русские, румынские, польские и венгерские земли. Напоминаем, что укр инство это сугубо левацкая, антиконсервативная местечково-хуторская идеология, направленная, как и прочие левацкие идеи, на разделение больших наций и поддержание диктата интернацистов. Сторонники бандеровцев (леваков, выступавших за бесклассовое общество и борьбу с капитализмом) и карлика-душителя котов Степана Бандеры, который, как известно, боролся с расизмом, поддерживал Идель-Урал и называл побратимами исламских борцов за свободу из Азербайджана, не пользуются симпатиями у правых европейцев. И это правильно. Попытки заявить о некой отдельной нации неких украинцев это манипуляции, созданные с целью оторвать от русских часть их этнических земель и ослабить в будущем Россию. Только так, чудовищной ложью и тотальной пропагандой, фейковая нация укр инцев , слепленная советскими кукловодами из русских Юга и Киевщины, галичан, поляков, советских румын, славянизированных гуцулов, закарпатских венгров, евреев, татар и многонациональных советских новиопов (а ля Бабченко), может обрести жизнь на русских этнических землях. Разумеется, нет никакого народа укр инцев , как бы одно соседнее failed state ни пыталось их вывести из русских путём обмана, коверканья истории и откровенной фальсификации. Нынешний эксперимент по созданию некой украинской нации можно сравнить разве что с советским экспериментом по созданию нации советской на основании таких же мифов, фейков и откровенного бреда. И маниакальное желание снести все памятники выродку Ленину (Бланку) вас не должно обнадёживать. На смену ему устанавливают памятники такого же левацкого дегенерата-кошкодава Бандеры, чьи руки по локоть в славянской (прежде всего, польской) крови. Заместо совковой лжи про Великую революцию Октября пришла точно такая же наглая ложь про Великую революц ю Г дност абстрагируйтесь от фигуры блогера и посмотрите видео Чем в итоге завершился советский эксперимент, мы все знаем. Ждём закономерного итога эксперимента эльфийского (простите, укр инского ). Разумеется, зомбированные люди будут цепляться до последнего за свои мифы про отельный народ и чужих московитов , но всё это наваждение рано или поздно сгинет, как сгинул Совок со своей мощной идеологией, мифами и фейками.\n",
      "\n",
      "2 1.0 самый сброд червей-пидоров Не, ну если это черви-пидоры, то перечисленные тобой далее люди - это черви-пидоры в гуголплексе стаса какай просто Автор абсолютно неинтересного технического блога на Ютабе, пускай честного в отличие от Виласкома, но от того ничуть не менее унылого, любитель шутечек про куканы и поопускать маргиналов на тему не присаживал на них тёлку . соболева Говорящая голова народных масс, своего мнения не имеет, никогда в жизни не сделает ролик по какому-либо малооглашённому поводу, по хайповому не выскажет какую-либо точку зрения кроме той, которая будет угодно большинству. В жизни, по описанию очевидцев, быдловат. Продавал жопу Собянину, чем, ЧСХ, не может похвастаться никто из ОП-треда, кроме Хованского. амирана из дневника хача Никогда не понимал, кому он вообще нахуй нужен. Кому на полном серьёзе может доставлять наблюдать за жизнью мажора-рабовладельца, не сообщающего вам ничего полезного, или хотя бы как жить так же? Летсплеи на сто порядков более высокоинтеллектуальный и нужный контент, блеадь. Тоже продавал жопу Собянину. петушария Педофил-кремлебот, просто но комментс. гоблина Охуенный переводчик, но как человек говно. Указанные в ОП-треде личности определённо могут в интеллектуальные дискуссии, определённо не являются сцанными быдланами, и если и продают жопу, то только по праздникам. Несмотря на то что это неебаться борцуны с активной политической позицией, их борцунство почему-то только с совком, сралиным и члениным (которых нет) У Айтипедика немалая часть контента посвящена борьбе именно с текущей властью. и, на которых всем похуй кроме пары десятков тыщ сектантов Лол, ты рили не понимаешь, в чём тут соль? Тебе напомнить, что единственный человек, у которого рейтинг выше, чем у Пыни - это Сталин? 50 населения России в рот ебали Пыню и едро, но тащемта, хотели бы вернуться в Совок, потому их борцунство (благеров) преимущественно и с Совком.\n",
      "\n",
      "3 1.0 А сейчас смотрит хуйню всякую с пидорасом звоновым, В оправдание пидораса Звонова можно хотя бы сказать, что последний только и делал контент у чма на стримах: начиная с походов на спасс, новых гостей, научпопвидосов, заканчивая пародией на Что Где Когда. Вообще, после окончания лета я как-то переосмыслил свое отношение ко многим членам инвалидной конфы, да и к самому Маргиналу. Он часто пользуется контентом и талантами своих гостей, приглашая их за нихуя на стримы. При этом хуесосит их же за спиной и на других стримах, из-за чего всё, что гости в итоге получают в ответ за совместные стримы - это говно от маргинальных подписчиков у себя в фиде. И при этом Маргиналу хватает наглости потом ныть, что никто из нормальных людей к нему на стрим не хочет идти, увидав его стенку. Ему не приходит в голову, что поощряя токсичность в отношении своих оппонентов и гостей на стримах он, хотя и обретает ореол интеллектуального стримера, сливателя всяго и вся живого на руси, но по итогу все больше окукливается в собственной же аргументации и аудитории. Заметьте, что те, с кем он еще год назад дебатировал и спорил, сейчас просто избегают споров на стримах, просто не хотя засёра своей ленты (Левин тому ярчайщий пример. Или, уж простите, Звонов). Если раньше Маргоша был способен в самоиронию благодаря тем же убермемес, где замечали и косяки самого Маргинала, то с киком Льва Шойгу начался просто процесс окукливания. Теперь хуесосить Маргинала - запрещено, запрещено даже обсуждать и замечать тупость маргинала. Потому что, как говорит чмо: влияет на просмотры , ололо. По сути, запретив пятнать свою репутацию, но продолжая пятнать репутацию других (и друзей, и врагов) чмо сейчас пытается, сознательно или нет, построить образ эдакого интеллектуала-сливателя, каким бы мечтал стать Ларин. Только вот этот образ Маргинал пока попросту не заслужил. Недостаточно просто говорить ну это просто твое определение пиздец он дурак да, охуенно в ответ на аргументацию. Если раньше, причем, это было редкостью, то сейчас Маргинал совсем обленился и только так и дискутирует под улюлюканье анально модерируемого чатика. Safe space такой safe space.\n",
      "\n",
      "4 1.0 Стас, никому, кроме тебя и армии твоих подсосов(которые представляют собой типичный дегенеративный биомусор, ведущийся на любые скандалы-интриги), твои ролики нахуй не нужны. Серьёзно, ты сделал новости с целью показать, что такое говно может делать любой, а аудитория осталась на том же уровне, ведь людям извне ты не интересен. Да ещё и просит не подписываться, чтобы такую-то годноту ложкой хлебать подольше. Ты обосрался, стал посмешищем для абсолютно всех ютуберов, которые не являются полными ебланами. Тот же Хованский не ссыт тебе на ебало только потому, что ты вертишься с ним в одной компании, иногда даже лично пересекаетесь. Приятно было слышать, как он говорил, что отстреливался бы от таких, как ты, из огнестрела, стараясь забрать с собой побольше коммунистов, когда они придут его оаскулачиапть? Он открыто хуесосил людей и за меньшие грехи. Сложи 2 и 2, как он к тебе относится на самом деле. После чего ты сделал ещё более смешной ролик, где истеришь как побитая шлюха во время ПМС. Я ПОДЕБИЛ, А ЕСЛИ ВЫ НЕ ПОНЯЛИ ЭТОГО, ТО ВЫ ТУПЫЕ . Ты мог хотя бы сам его посмотреть перед заливом? Мне даже рофлить над тобой расхотелось, из смешного дегенерата, ты стал жалким дурачком. Это как смеятся над роликами, где контуженные ветераны пытаются ходить под клубную музыку. Над неполноценными смеятся плохо, даже стыдно стало. Я не утрирую. Просто посмотри на себя, Стас. Ну правда. Банишь людей в группе за лвйки и одно упоминание стрима. Ты делаешь всё, в чём самый отбитый и дегенеративный либераст обвиняет совок и сверкаешь разорванным очком. Никто тебя несправедливо не обсирал. Что на стриме по поводу дат, ну ты же сам проебался. На подкасте сообщил, что не будешь стримить. Если ты не был уверен, то зачем это говорить? А если был, почему не сообщил Маргиналу сразу же? Твоё слово в целом не стоит нихуя. Обещаешь не банить-куча удалённых комментов. Обещаешь стрим-не идёшь. Обещаешь что-то ещё, всегда проёбываешься, всё чаще на нарушение обещания тебе нужно в районе секунды-дня. Стоит ли удивлятся, что тебе за это прилетело? Когда то должно было. Ты сам срёшь себе в штаны, не злись, когда на это указывают пальцем.\n",
      "\n",
      "5 0.0 Возьмём как пример Россию, западноевропейские страны и США. Идёт метисация, сознательная политика замещения белого населения на пришлое черно-коричневое. Идёт создание новой расы метисов, исламизация и почернение. В крупных городах половина населения - выходцы из ебеней Мексики, Африки, Ближнего Востока, а в случае с Россией - Кавказа и Средней Азии. Этнические ниггеро-арабские гетто верят на хую законы как хотят, чудовищная по масштабам этническая преступность. Говорить о миграции и тем более затрагивать тему замещения коренного населения властями нельзя, иначе бутылка. Свобода слова тут не для вас, молодой человек. При этом говорить о том, что белые должны вымереть, и это нормально - можно. Белые официально вымирают ведётся пропаганда так или иначе направленная на снижение рождаемости белого населения. Феминизм, ЛГБТ, чайлдфри. Каждая женщина в Швеции - леволиберальная феминистка, это страна победившего феминизма. Что сегодня там происходит - страшно делается. Пропагандируются смешанные браки, межрасовые браки, пропагандируется превосходство детей-метисов. Идёт демонизация белых и пропаганда превосходства чёрных и смуглых мужчин, форс отношений белая женщина смуглый чёрный мужчина-мигрант. Как результат - всё больше чернильниц, всё больше смешанных браков, всё больше небелых метисов. Белые женщины просто не хотят контактировать с мужчинами своей нации и расы, наделяя их самыми плохими качествами и обожествляя черных. При этом большинство белых не считает завоз чурок чем-то плохим, наоборот, относятся к ним толерантно. Проводится политика насаждения толерантности, мультикультурализма, политкорректности и космополитизма. Набирающее популярность даже в России SJW - это вообще отдельная тема для обсуждения. Всё вышеперечисленное относится к сильнейшим когда-то странам, бывшим империям, нагибающим слабых. Сегодня происходит так, что бывшие империи в прямом смысле деградируют, вырождаются и вымирают, а место сильнейших когда-то, господствующих народов, занимают те, кого когда-то колонизировали. Во Франции к 2080 уже будут доминировать негры и арабы, в России - кавказцы и выходцы из средней Азии, в Великобритании - индийцы, негры, арабы, пакистанцы, etc. А в маленьких, нейтральных странах, вроде Словении или Беларуси, Литвы или Чехии, Румынии или Эстонии - всё пучком. Им вымирание не грозит, они остаются и будут оставаться белыми. Более того, у них ведётся политика, направленная на сохранение традиционных ценностей и культуры коренного населения. Они сказали беженцам нет . В Польшу, например, русскому или украинцу гораздо легче переехать и остаться, чем арабу или африканцу. В Германии ситуация противоположная, белых там не ждут. Польша, Чехия, Словакия, Венгрия, Словения, Хорватия, Сербия, БиГ, Черногория, Македония, Греция, Болгария, Румыния, Молдова, Украина, Беларусь, Литва, Латвия, Эстония - вот Европа будущего. Скандинавия, Южная, Западная Европа, а также Россия - лишатся коренного населения и своей культуры.\n",
      "\n",
      "6 1.0 Вот это реально черт опущенный. Хоть Гомикадзе Би и опущенный гей, которому на ебало ссали всем обществом, но он прав. Как бы не прискорбно было это признавать, но Гомик В Каске прав. Я бы очень хотел чтобы это было не так, но увы. А вот быть или хуй сосать - вот он черт и пиздабол, чисто мразь в мазке. Одна ложь и грязь. Просто пиздаболище. Ну вот реально одну хуйню несет. Вот он реально черт. Лучше уж ПиськаМазе чем вот это мразь в маске. Ноудискасс.\n",
      "\n",
      "7 1.0 Зальете шебм? Вот этот кун. Говорит, будто заявление забрали. Алсо как-то и не скажешь, что он станет совать хуй в очъко тян, а потом обмазывать ей губы, лол. Фу нахуй. Алсо, мне думается, что пиздит\n",
      "\n",
      "8 1.0 Сам хочу в Чехию в первую очередь из-за... нашествия хачей и чурок в Рашке. Это просто невыносимо нахуй стало, а тут Пыня оказывается ещё 10 лямов завезти хочет. Просто загоерлся желанием жить в белой моноэтничное стране среди братушек-славян. О, куколдофорсер-нацистик в треде.\n",
      "\n",
      "9 1.0 Уууууууууу, бляяяя. А он блядь заранее не знал, что у него будут съемки невротебаццаа каких то проектов, бухачи праздничные. Не любит он сука людей безответственных сам то епта послушай че ты пиздишь. Интересно ему про коммунизм послушать, твои верования потрошнут и катком переедут, сидит небось матчасть изучает.\n",
      "\n",
      "10 1.0 Я атеист и армянин. Просто рот твой ебал Лучше пусть чурки будут жидов резать, чем жиды вешать лапшу на уши\n",
      "\n"
     ]
    }
   ],
   "source": [
    "i = 1\n",
    "for a in np.argsort(NB_count.predict_proba(test_cv)[:, 1])[:-11:-1]:\n",
    "    print(i, test.toxic[a], test.comment[a])\n",
    "    i += 1"
   ]
  },
  {
   "cell_type": "markdown",
   "id": "59ee28ed",
   "metadata": {},
   "source": [
    "Тексты отобрались действительно токсичные. Тут без лишних комментариев"
   ]
  },
  {
   "cell_type": "markdown",
   "id": "19c1d1de",
   "metadata": {},
   "source": [
    "Теперь обучим тоже простой алгоритм KNeighborsClassifier, используя векторайзер TfIdf\n",
    "\n",
    "Для TfIdf зададим\n",
    "* все тот же токенизатор,\n",
    "* все те же стоп-слова\n",
    "\n",
    "Для KNeighborsClassifier установим\n",
    "* количество соседей,\n",
    "* \"веса, инверсируемые по расстоянию\",\n",
    "* алгоритм поиска ближайших соседей - brute-force search"
   ]
  },
  {
   "cell_type": "code",
   "execution_count": 157,
   "id": "4bee5b16",
   "metadata": {},
   "outputs": [],
   "source": [
    "from sklearn.neighbors import KNeighborsClassifier"
   ]
  },
  {
   "cell_type": "code",
   "execution_count": 330,
   "id": "09ffdb5a",
   "metadata": {},
   "outputs": [],
   "source": [
    "tiv = TfidfVectorizer(tokenizer=wordpunct_tokenize, stop_words=stop_words_ru, max_df=0.05)"
   ]
  },
  {
   "cell_type": "code",
   "execution_count": 331,
   "id": "fd57fe54",
   "metadata": {},
   "outputs": [],
   "source": [
    "train_tiv = tiv.fit_transform(train.comment)\n",
    "test_tiv = tiv.transform(test.comment)"
   ]
  },
  {
   "cell_type": "code",
   "execution_count": 332,
   "id": "7655efe1",
   "metadata": {},
   "outputs": [],
   "source": [
    "knn = KNeighborsClassifier(n_neighbors=9, weights='distance', algorithm='brute')\n",
    "knn.fit(train_tiv, train.toxic)\n",
    "pred_toxic_tiv_knn = knn.predict(test_tiv)"
   ]
  },
  {
   "cell_type": "code",
   "execution_count": 333,
   "id": "0c2117c9",
   "metadata": {},
   "outputs": [
    {
     "name": "stdout",
     "output_type": "stream",
     "text": [
      "              precision    recall  f1-score   support\n",
      "\n",
      "         0.0       0.93      0.81      0.87      1105\n",
      "         1.0       0.57      0.81      0.67       337\n",
      "\n",
      "    accuracy                           0.81      1442\n",
      "   macro avg       0.75      0.81      0.77      1442\n",
      "weighted avg       0.85      0.81      0.82      1442\n",
      "\n"
     ]
    }
   ],
   "source": [
    "print(classification_report(pred_toxic_tiv_knn, test.toxic))"
   ]
  },
  {
   "cell_type": "markdown",
   "id": "e90d93dc",
   "metadata": {},
   "source": [
    "**Топ-10 самых токсичных текстов**"
   ]
  },
  {
   "cell_type": "code",
   "execution_count": 371,
   "id": "70692429",
   "metadata": {},
   "outputs": [
    {
     "name": "stdout",
     "output_type": "stream",
     "text": [
      "1 0.0 Хэллоуин 2018 года ведь шлак полный, и оценка у него 5.8.\n",
      "\n",
      "2 1.0 Опять хохлы из киберсотни на куриную косточку капчуют.\n",
      "\n",
      "3 1.0 Фильмы Груз 200 и Кочегар - смрад полный, только в голове психически нездорового человека может родиться такой сценарий.\n",
      "\n",
      "4 1.0 Хохол насиловал жертву около часа Вот это ебарь\n",
      "\n",
      "5 1.0 Зальете шебм? Вот этот кун. Говорит, будто заявление забрали. Алсо как-то и не скажешь, что он станет совать хуй в очъко тян, а потом обмазывать ей губы, лол. Фу нахуй. Алсо, мне думается, что пиздит\n",
      "\n",
      "6 1.0 Что-то не связал в единое: каратист - очкарик Пичужкин самка Эльцина (гори в аду тварь).\n",
      "\n",
      "7 1.0 Типа есть, чем думать. Лично мне жаль, что его не у бало, как следует. На премию Дарвина прямой кандидат.\n",
      "\n",
      "8 1.0 Стас, никому, кроме тебя и армии твоих подсосов(которые представляют собой типичный дегенеративный биомусор, ведущийся на любые скандалы-интриги), твои ролики нахуй не нужны. Серьёзно, ты сделал новости с целью показать, что такое говно может делать любой, а аудитория осталась на том же уровне, ведь людям извне ты не интересен. Да ещё и просит не подписываться, чтобы такую-то годноту ложкой хлебать подольше. Ты обосрался, стал посмешищем для абсолютно всех ютуберов, которые не являются полными ебланами. Тот же Хованский не ссыт тебе на ебало только потому, что ты вертишься с ним в одной компании, иногда даже лично пересекаетесь. Приятно было слышать, как он говорил, что отстреливался бы от таких, как ты, из огнестрела, стараясь забрать с собой побольше коммунистов, когда они придут его оаскулачиапть? Он открыто хуесосил людей и за меньшие грехи. Сложи 2 и 2, как он к тебе относится на самом деле. После чего ты сделал ещё более смешной ролик, где истеришь как побитая шлюха во время ПМС. Я ПОДЕБИЛ, А ЕСЛИ ВЫ НЕ ПОНЯЛИ ЭТОГО, ТО ВЫ ТУПЫЕ . Ты мог хотя бы сам его посмотреть перед заливом? Мне даже рофлить над тобой расхотелось, из смешного дегенерата, ты стал жалким дурачком. Это как смеятся над роликами, где контуженные ветераны пытаются ходить под клубную музыку. Над неполноценными смеятся плохо, даже стыдно стало. Я не утрирую. Просто посмотри на себя, Стас. Ну правда. Банишь людей в группе за лвйки и одно упоминание стрима. Ты делаешь всё, в чём самый отбитый и дегенеративный либераст обвиняет совок и сверкаешь разорванным очком. Никто тебя несправедливо не обсирал. Что на стриме по поводу дат, ну ты же сам проебался. На подкасте сообщил, что не будешь стримить. Если ты не был уверен, то зачем это говорить? А если был, почему не сообщил Маргиналу сразу же? Твоё слово в целом не стоит нихуя. Обещаешь не банить-куча удалённых комментов. Обещаешь стрим-не идёшь. Обещаешь что-то ещё, всегда проёбываешься, всё чаще на нарушение обещания тебе нужно в районе секунды-дня. Стоит ли удивлятся, что тебе за это прилетело? Когда то должно было. Ты сам срёшь себе в штаны, не злись, когда на это указывают пальцем.\n",
      "\n",
      "9 1.0 Смотрите, петух закукарекал. Пади падмойся, Маня\n",
      "\n",
      "10 1.0 Впервые солидарен С Милоновым Двачую, такая же хуйня. Реально гнать их нахуй из Рашки надо, пока не поздно еще! Вместе мы сможем спасти патриархат нашей любимой Россиюшки!\n",
      "\n"
     ]
    }
   ],
   "source": [
    "i = 1\n",
    "for a in np.argsort(knn.predict_proba(test_tiv)[:, 1])[:-11:-1]:\n",
    "    print(i, test.toxic[a], test.comment[a])\n",
    "    i += 1"
   ]
  },
  {
   "cell_type": "markdown",
   "id": "c211b7ed",
   "metadata": {},
   "source": [
    "Как и в прошлом случае, неправильно определен всего 1 текст. И он, как и в прошлом случае, сильно негативно окрашен и по словарю близок к токсичным текстам.\n",
    "\n",
    "Также можно отметить, что в обеих моделях есть схожие тексты в топе токсичности (например, 5 и 8)"
   ]
  },
  {
   "cell_type": "markdown",
   "id": "6f228c3e",
   "metadata": {},
   "source": [
    "## *Задание 4 (2 балла)"
   ]
  },
  {
   "cell_type": "markdown",
   "id": "566929b7",
   "metadata": {},
   "source": [
    "Для классификаторов LogisticRegression и Random Forest найдите способ извлечь важность признаков для предсказания токсичного класса. Сопоставьте полученные числа со словами (или нграммами) в словаре и найдите топ - 5 \"токсичных\" слов для каждого из классификаторов. \n",
    "\n",
    "Важное требование: в топе не должно быть стоп-слов. Для этого вам нужно будет правильным образом настроить векторизацию."
   ]
  },
  {
   "cell_type": "code",
   "execution_count": 374,
   "id": "efa329ff",
   "metadata": {},
   "outputs": [
    {
     "data": {
      "text/plain": [
       "LogisticRegression()"
      ]
     },
     "execution_count": 374,
     "metadata": {},
     "output_type": "execute_result"
    }
   ],
   "source": [
    "from sklearn.linear_model import LogisticRegression\n",
    "\n",
    "lr = LogisticRegression()\n",
    "lr.fit(train_tiv, train.toxic) # для train_tiv выше настроена фильтрация стоп-слов"
   ]
  },
  {
   "cell_type": "code",
   "execution_count": 382,
   "id": "73830a02",
   "metadata": {},
   "outputs": [
    {
     "name": "stdout",
     "output_type": "stream",
     "text": [
      "тебя\n",
      "хохлы\n",
      "хохлов\n",
      "тебе\n",
      "нахуй\n",
      "блять\n",
      "пиздец\n",
      "дебил\n",
      "блядь\n"
     ]
    }
   ],
   "source": [
    "for i in np.argsort(lr.coef_[0])[:-10:-1]:\n",
    "    print(tiv.get_feature_names_out()[i])"
   ]
  },
  {
   "cell_type": "code",
   "execution_count": 383,
   "id": "6c636315",
   "metadata": {},
   "outputs": [
    {
     "data": {
      "text/plain": [
       "RandomForestClassifier(class_weight='balanced_subsample', max_depth=10,\n",
       "                       max_features='log2')"
      ]
     },
     "execution_count": 383,
     "metadata": {},
     "output_type": "execute_result"
    }
   ],
   "source": [
    "from sklearn.ensemble import RandomForestClassifier\n",
    "\n",
    "RFC_tfidf = RandomForestClassifier(max_depth=10, max_features='log2', class_weight='balanced_subsample')\n",
    "RFC_tfidf.fit(train_tiv, train.toxic)"
   ]
  },
  {
   "cell_type": "code",
   "execution_count": 389,
   "id": "8cfa96a6",
   "metadata": {},
   "outputs": [
    {
     "name": "stdout",
     "output_type": "stream",
     "text": [
      "русские\n",
      "банк\n",
      "очень\n",
      "хохлов\n",
      "тебя\n",
      "много\n",
      "пиздец\n",
      "сука\n",
      "тебе\n"
     ]
    }
   ],
   "source": [
    "for j in np.argsort(RFC_tfidf.feature_importances_)[:-10:-1]:\n",
    "    print(tiv.get_feature_names_out()[j])"
   ]
  }
 ],
 "metadata": {
  "kernelspec": {
   "display_name": "Python 3 (ipykernel)",
   "language": "python",
   "name": "python3"
  },
  "language_info": {
   "codemirror_mode": {
    "name": "ipython",
    "version": 3
   },
   "file_extension": ".py",
   "mimetype": "text/x-python",
   "name": "python",
   "nbconvert_exporter": "python",
   "pygments_lexer": "ipython3",
   "version": "3.9.13"
  }
 },
 "nbformat": 4,
 "nbformat_minor": 5
}
