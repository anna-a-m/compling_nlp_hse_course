{
 "cells": [
  {
   "cell_type": "markdown",
   "id": "ec9e6bbc",
   "metadata": {},
   "source": [
    "# Задание 1 (10 баллов)"
   ]
  },
  {
   "cell_type": "markdown",
   "id": "ae4a0c17",
   "metadata": {},
   "source": [
    "Вам нужно воспроизвести пайплайн дообучения из семинара, используя русскоязычные модели. То есть, вам нужно дообучить генеративную модель генерировать более положительные тексты с помощью модели определения тональности.\n",
    "\n",
    "1) Вам потребуется модель определения тональности для русского языка. Вы можете найти ее на huggingface или обучить самостоятельно. В прошлых семинарах мы пользовались датасетом с токсичными текстами - можно использовать его для обучения (или любой другой датасет на русском языке). Удобнее всего будет обучать модель через huggingface. Можете взять за основу вот этот туториал - https://huggingface.co/docs/transformers/training#train-a-tensorflow-model-with-keras После обучения можете сохранить модель через model.save_pretrained(path) и потом использовать ее как любую другую модель из huggingface hub. \n",
    "Используйте не очень большую модель, чтобы все поместилось в колабе (например, distilbert-multilingual)"
   ]
  },
  {
   "cell_type": "markdown",
   "id": "3def939c",
   "metadata": {},
   "source": [
    "В туториале данные загружаются через библиотеку datasets. Ее можно использовать и с csv файлами тоже. Пример:"
   ]
  },
  {
   "cell_type": "code",
   "execution_count": 3,
   "id": "d6b98057",
   "metadata": {},
   "outputs": [],
   "source": [
    "# %pip install datasets"
   ]
  },
  {
   "cell_type": "code",
   "execution_count": 4,
   "id": "d360c3b5",
   "metadata": {},
   "outputs": [],
   "source": [
    "from datasets import load_dataset"
   ]
  },
  {
   "cell_type": "code",
   "execution_count": null,
   "id": "b0af4220",
   "metadata": {},
   "outputs": [],
   "source": [
    "dataset = load_dataset(\"csv\", data_files=\"dataset.csv\")"
   ]
  },
  {
   "cell_type": "markdown",
   "id": "b870df00",
   "metadata": {},
   "source": [
    "    2. Генеративную модель в целом можно взять любую, но лучше всего будет модель, специально обученная на русском языке (rugpt). "
   ]
  },
  {
   "cell_type": "code",
   "execution_count": null,
   "id": "9b2e972e",
   "metadata": {},
   "outputs": [],
   "source": []
  }
 ],
 "metadata": {
  "kernelspec": {
   "display_name": "Python 3 (ipykernel)",
   "language": "python",
   "name": "python3"
  },
  "language_info": {
   "codemirror_mode": {
    "name": "ipython",
    "version": 3
   },
   "file_extension": ".py",
   "mimetype": "text/x-python",
   "name": "python",
   "nbconvert_exporter": "python",
   "pygments_lexer": "ipython3",
   "version": "3.9.13"
  }
 },
 "nbformat": 4,
 "nbformat_minor": 5
}
